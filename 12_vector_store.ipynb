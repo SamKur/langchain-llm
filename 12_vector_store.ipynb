{
 "cells": [
  {
   "cell_type": "code",
   "execution_count": 2,
   "id": "890a415f",
   "metadata": {},
   "outputs": [],
   "source": [
    "from langchain_openai import OpenAIEmbeddings\n",
    "# from langchain.vectorstores import Chroma, Pinecone, FAISS  # Semi-Depricated\n",
    "from langchain_chroma import Chroma\n",
    "from langchain_pinecone import Pinecone"
   ]
  },
  {
   "cell_type": "code",
   "execution_count": 3,
   "id": "f088f72b",
   "metadata": {},
   "outputs": [],
   "source": [
    "from langchain.schema import Document\n",
    "\n",
    "# Create LangChain documents for IPL players\n",
    "\n",
    "doc1 = Document(\n",
    "        page_content=\"Virat Kohli is one of the most successful and consistent batsmen in IPL history. Known for his aggressive batting style and fitness, he has led the Royal Challengers Bangalore in multiple seasons.\",\n",
    "        metadata={\"team\": \"Royal Challengers Bangalore\"}\n",
    "    )\n",
    "doc2 = Document(\n",
    "        page_content=\"Rohit Sharma is the most successful captain in IPL history, leading Mumbai Indians to five titles. He's known for his calm demeanor and ability to play big innings under pressure.\",\n",
    "        metadata={\"team\": \"Mumbai Indians\"}\n",
    "    )\n",
    "doc3 = Document(\n",
    "        page_content=\"MS Dhoni, famously known as Captain Cool, has led Chennai Super Kings to multiple IPL titles. His finishing skills, wicketkeeping, and leadership are legendary.\",\n",
    "        metadata={\"team\": \"Chennai Super Kings\"}\n",
    "    )\n",
    "doc4 = Document(\n",
    "        page_content=\"Jasprit Bumrah is considered one of the best fast bowlers in T20 cricket. Playing for Mumbai Indians, he is known for his yorkers and death-over expertise.\",\n",
    "        metadata={\"team\": \"Mumbai Indians\"}\n",
    "    )\n",
    "doc5 = Document(\n",
    "        page_content=\"Ravindra Jadeja is a dynamic all-rounder who contributes with both bat and ball. Representing Chennai Super Kings, his quick fielding and match-winning performances make him a key player.\",\n",
    "        metadata={\"team\": \"Chennai Super Kings\"}\n",
    "    )\n",
    "\n",
    "docs = [doc1, doc2, doc3, doc4, doc5]\n"
   ]
  },
  {
   "cell_type": "code",
   "execution_count": 4,
   "id": "935f4030",
   "metadata": {},
   "outputs": [],
   "source": [
    "vector_store = Chroma(\n",
    "    embedding_function=OpenAIEmbeddings(),  # here shape for each vector is (1,1536), so each plotted in 1536 dim\n",
    "    persist_directory='my_chroma_db',\n",
    "    collection_name='sample'\n",
    ")"
   ]
  },
  {
   "cell_type": "code",
   "execution_count": 5,
   "id": "462bf5b9",
   "metadata": {},
   "outputs": [
    {
     "data": {
      "text/plain": [
       "['e2ad22a6-e343-4129-aa96-8c9ab0911b03',\n",
       " '1ed51445-2348-4e67-8c95-054acac2b7b9',\n",
       " 'e22c5a03-f81c-44ef-bdc8-caac6979e4d5',\n",
       " '72713bf6-02d2-478a-a370-d8c5b4b04435',\n",
       " '0bed380b-9812-4838-8661-796e52fcdfbc']"
      ]
     },
     "execution_count": 5,
     "metadata": {},
     "output_type": "execute_result"
    }
   ],
   "source": [
    "# add documents\n",
    "vector_store.add_documents(docs)"
   ]
  },
  {
   "cell_type": "code",
   "execution_count": 6,
   "id": "2770430d",
   "metadata": {},
   "outputs": [
    {
     "data": {
      "text/plain": [
       "{'ids': ['d12f7a8f-1cb1-4c9c-a359-8c2a7df8d1b9',\n",
       "  '9c12f50d-d895-4424-a703-090ef64bd160',\n",
       "  '3be3517b-cf86-44b9-a680-a43912017760',\n",
       "  'fc7f96ea-bf65-49ac-90b7-2654ed603b5b',\n",
       "  'e2ad22a6-e343-4129-aa96-8c9ab0911b03',\n",
       "  '1ed51445-2348-4e67-8c95-054acac2b7b9',\n",
       "  'e22c5a03-f81c-44ef-bdc8-caac6979e4d5',\n",
       "  '72713bf6-02d2-478a-a370-d8c5b4b04435',\n",
       "  '0bed380b-9812-4838-8661-796e52fcdfbc'],\n",
       " 'embeddings': array([[-0.00545721, -0.01906604,  0.00708297, ..., -0.01629019,\n",
       "         -0.00041194,  0.00727194],\n",
       "        [ 0.00078373, -0.00476402,  0.01237088, ..., -0.01723875,\n",
       "          0.0007744 ,  0.00293533],\n",
       "        [-0.02713919,  0.00887096,  0.02693628, ..., -0.02585832,\n",
       "          0.00902315, -0.0199993 ],\n",
       "        ...,\n",
       "        [ 0.00078373, -0.00476402,  0.01237088, ..., -0.01723875,\n",
       "          0.0007744 ,  0.00293533],\n",
       "        [-0.02713919,  0.00887096,  0.02693628, ..., -0.02585832,\n",
       "          0.00902315, -0.0199993 ],\n",
       "        [-0.0181433 ,  0.01275271,  0.03479322, ..., -0.03036547,\n",
       "         -0.00585236,  0.00521374]], shape=(9, 1536)),\n",
       " 'documents': [\"Virat Kohli, the former captain of Royal Challengers Bangalore (RCB), is renowned for his aggressive leadership and consistent batting performances. He holds the record for the most runs in IPL history, including multiple centuries in a single season. Despite RCB not winning an IPL title under his captaincy, Kohli's passion and fitness set a benchmark for the league. His ability to chase targets and anchor innings has made him one of the most dependable players in T20 cricket.\",\n",
       "  'MS Dhoni, famously known as Captain Cool, has led Chennai Super Kings to multiple IPL titles. His finishing skills, wicketkeeping, and leadership are legendary.',\n",
       "  'Jasprit Bumrah is considered one of the best fast bowlers in T20 cricket. Playing for Mumbai Indians, he is known for his yorkers and death-over expertise.',\n",
       "  'Ravindra Jadeja is a dynamic all-rounder who contributes with both bat and ball. Representing Chennai Super Kings, his quick fielding and match-winning performances make him a key player.',\n",
       "  'Virat Kohli is one of the most successful and consistent batsmen in IPL history. Known for his aggressive batting style and fitness, he has led the Royal Challengers Bangalore in multiple seasons.',\n",
       "  \"Rohit Sharma is the most successful captain in IPL history, leading Mumbai Indians to five titles. He's known for his calm demeanor and ability to play big innings under pressure.\",\n",
       "  'MS Dhoni, famously known as Captain Cool, has led Chennai Super Kings to multiple IPL titles. His finishing skills, wicketkeeping, and leadership are legendary.',\n",
       "  'Jasprit Bumrah is considered one of the best fast bowlers in T20 cricket. Playing for Mumbai Indians, he is known for his yorkers and death-over expertise.',\n",
       "  'Ravindra Jadeja is a dynamic all-rounder who contributes with both bat and ball. Representing Chennai Super Kings, his quick fielding and match-winning performances make him a key player.'],\n",
       " 'uris': None,\n",
       " 'included': ['embeddings', 'documents', 'metadatas'],\n",
       " 'data': None,\n",
       " 'metadatas': [{'team': 'Royal Challengers Bangalore'},\n",
       "  {'team': 'Chennai Super Kings'},\n",
       "  {'team': 'Mumbai Indians'},\n",
       "  {'team': 'Chennai Super Kings'},\n",
       "  {'team': 'Royal Challengers Bangalore'},\n",
       "  {'team': 'Mumbai Indians'},\n",
       "  {'team': 'Chennai Super Kings'},\n",
       "  {'team': 'Mumbai Indians'},\n",
       "  {'team': 'Chennai Super Kings'}]}"
      ]
     },
     "execution_count": 6,
     "metadata": {},
     "output_type": "execute_result"
    }
   ],
   "source": [
    "# view documents\n",
    "vector_store.get(include=['embeddings','documents', 'metadatas'])"
   ]
  },
  {
   "cell_type": "code",
   "execution_count": 7,
   "id": "27bed1d2",
   "metadata": {},
   "outputs": [
    {
     "data": {
      "text/plain": [
       "[Document(id='3be3517b-cf86-44b9-a680-a43912017760', metadata={'team': 'Mumbai Indians'}, page_content='Jasprit Bumrah is considered one of the best fast bowlers in T20 cricket. Playing for Mumbai Indians, he is known for his yorkers and death-over expertise.'),\n",
       " Document(id='72713bf6-02d2-478a-a370-d8c5b4b04435', metadata={'team': 'Mumbai Indians'}, page_content='Jasprit Bumrah is considered one of the best fast bowlers in T20 cricket. Playing for Mumbai Indians, he is known for his yorkers and death-over expertise.')]"
      ]
     },
     "execution_count": 7,
     "metadata": {},
     "output_type": "execute_result"
    }
   ],
   "source": [
    "# search documents\n",
    "vector_store.similarity_search(\n",
    "    query='Who among these are a bowler?',\n",
    "    k=2\n",
    ")"
   ]
  },
  {
   "cell_type": "code",
   "execution_count": 8,
   "id": "6b91f872",
   "metadata": {},
   "outputs": [
    {
     "data": {
      "text/plain": [
       "[(Document(id='3be3517b-cf86-44b9-a680-a43912017760', metadata={'team': 'Mumbai Indians'}, page_content='Jasprit Bumrah is considered one of the best fast bowlers in T20 cricket. Playing for Mumbai Indians, he is known for his yorkers and death-over expertise.'),\n",
       "  0.35432544350624084),\n",
       " (Document(id='72713bf6-02d2-478a-a370-d8c5b4b04435', metadata={'team': 'Mumbai Indians'}, page_content='Jasprit Bumrah is considered one of the best fast bowlers in T20 cricket. Playing for Mumbai Indians, he is known for his yorkers and death-over expertise.'),\n",
       "  0.35432544350624084)]"
      ]
     },
     "execution_count": 8,
     "metadata": {},
     "output_type": "execute_result"
    }
   ],
   "source": [
    "# search with similarity score\n",
    "vector_store.similarity_search_with_score(\n",
    "    query='Who among these are a bowler?',\n",
    "    k=2\n",
    ")"
   ]
  },
  {
   "cell_type": "code",
   "execution_count": 9,
   "id": "fea29092",
   "metadata": {},
   "outputs": [
    {
     "data": {
      "text/plain": [
       "[(Document(id='9c12f50d-d895-4424-a703-090ef64bd160', metadata={'team': 'Chennai Super Kings'}, page_content='MS Dhoni, famously known as Captain Cool, has led Chennai Super Kings to multiple IPL titles. His finishing skills, wicketkeeping, and leadership are legendary.'),\n",
       "  0.6488070487976074),\n",
       " (Document(id='e22c5a03-f81c-44ef-bdc8-caac6979e4d5', metadata={'team': 'Chennai Super Kings'}, page_content='MS Dhoni, famously known as Captain Cool, has led Chennai Super Kings to multiple IPL titles. His finishing skills, wicketkeeping, and leadership are legendary.'),\n",
       "  0.6488070487976074),\n",
       " (Document(id='fc7f96ea-bf65-49ac-90b7-2654ed603b5b', metadata={'team': 'Chennai Super Kings'}, page_content='Ravindra Jadeja is a dynamic all-rounder who contributes with both bat and ball. Representing Chennai Super Kings, his quick fielding and match-winning performances make him a key player.'),\n",
       "  0.6565988659858704),\n",
       " (Document(id='0bed380b-9812-4838-8661-796e52fcdfbc', metadata={'team': 'Chennai Super Kings'}, page_content='Ravindra Jadeja is a dynamic all-rounder who contributes with both bat and ball. Representing Chennai Super Kings, his quick fielding and match-winning performances make him a key player.'),\n",
       "  0.6565988659858704)]"
      ]
     },
     "execution_count": 9,
     "metadata": {},
     "output_type": "execute_result"
    }
   ],
   "source": [
    "# meta-data filtering\n",
    "vector_store.similarity_search_with_score(\n",
    "    query=\"\",\n",
    "    filter={\"team\": \"Chennai Super Kings\"}\n",
    ")"
   ]
  },
  {
   "cell_type": "code",
   "execution_count": 10,
   "id": "7eff81a6",
   "metadata": {},
   "outputs": [],
   "source": [
    "# update documents\n",
    "updated_doc1 = Document(\n",
    "    page_content=\"Virat Kohli, the former captain of Royal Challengers Bangalore (RCB), is renowned for his aggressive leadership and consistent batting performances. He holds the record for the most runs in IPL history, including multiple centuries in a single season. Despite RCB not winning an IPL title under his captaincy, Kohli's passion and fitness set a benchmark for the league. His ability to chase targets and anchor innings has made him one of the most dependable players in T20 cricket.\",\n",
    "    metadata={\"team\": \"Royal Challengers Bangalore\"}\n",
    ")\n",
    "\n",
    "vector_store.update_document(document_id='d12f7a8f-1cb1-4c9c-a359-8c2a7df8d1b9', document=updated_doc1)\n"
   ]
  },
  {
   "cell_type": "code",
   "execution_count": 11,
   "id": "cc2ea4b8",
   "metadata": {},
   "outputs": [
    {
     "data": {
      "text/plain": [
       "{'ids': ['d12f7a8f-1cb1-4c9c-a359-8c2a7df8d1b9',\n",
       "  '9c12f50d-d895-4424-a703-090ef64bd160',\n",
       "  '3be3517b-cf86-44b9-a680-a43912017760',\n",
       "  'fc7f96ea-bf65-49ac-90b7-2654ed603b5b',\n",
       "  'e2ad22a6-e343-4129-aa96-8c9ab0911b03',\n",
       "  '1ed51445-2348-4e67-8c95-054acac2b7b9',\n",
       "  'e22c5a03-f81c-44ef-bdc8-caac6979e4d5',\n",
       "  '72713bf6-02d2-478a-a370-d8c5b4b04435',\n",
       "  '0bed380b-9812-4838-8661-796e52fcdfbc'],\n",
       " 'embeddings': None,\n",
       " 'documents': [\"Virat Kohli, the former captain of Royal Challengers Bangalore (RCB), is renowned for his aggressive leadership and consistent batting performances. He holds the record for the most runs in IPL history, including multiple centuries in a single season. Despite RCB not winning an IPL title under his captaincy, Kohli's passion and fitness set a benchmark for the league. His ability to chase targets and anchor innings has made him one of the most dependable players in T20 cricket.\",\n",
       "  'MS Dhoni, famously known as Captain Cool, has led Chennai Super Kings to multiple IPL titles. His finishing skills, wicketkeeping, and leadership are legendary.',\n",
       "  'Jasprit Bumrah is considered one of the best fast bowlers in T20 cricket. Playing for Mumbai Indians, he is known for his yorkers and death-over expertise.',\n",
       "  'Ravindra Jadeja is a dynamic all-rounder who contributes with both bat and ball. Representing Chennai Super Kings, his quick fielding and match-winning performances make him a key player.',\n",
       "  'Virat Kohli is one of the most successful and consistent batsmen in IPL history. Known for his aggressive batting style and fitness, he has led the Royal Challengers Bangalore in multiple seasons.',\n",
       "  \"Rohit Sharma is the most successful captain in IPL history, leading Mumbai Indians to five titles. He's known for his calm demeanor and ability to play big innings under pressure.\",\n",
       "  'MS Dhoni, famously known as Captain Cool, has led Chennai Super Kings to multiple IPL titles. His finishing skills, wicketkeeping, and leadership are legendary.',\n",
       "  'Jasprit Bumrah is considered one of the best fast bowlers in T20 cricket. Playing for Mumbai Indians, he is known for his yorkers and death-over expertise.',\n",
       "  'Ravindra Jadeja is a dynamic all-rounder who contributes with both bat and ball. Representing Chennai Super Kings, his quick fielding and match-winning performances make him a key player.'],\n",
       " 'uris': None,\n",
       " 'included': ['metadatas', 'documents'],\n",
       " 'data': None,\n",
       " 'metadatas': [{'team': 'Royal Challengers Bangalore'},\n",
       "  {'team': 'Chennai Super Kings'},\n",
       "  {'team': 'Mumbai Indians'},\n",
       "  {'team': 'Chennai Super Kings'},\n",
       "  {'team': 'Royal Challengers Bangalore'},\n",
       "  {'team': 'Mumbai Indians'},\n",
       "  {'team': 'Chennai Super Kings'},\n",
       "  {'team': 'Mumbai Indians'},\n",
       "  {'team': 'Chennai Super Kings'}]}"
      ]
     },
     "execution_count": 11,
     "metadata": {},
     "output_type": "execute_result"
    }
   ],
   "source": [
    "# view documents\n",
    "vector_store.get()"
   ]
  },
  {
   "cell_type": "code",
   "execution_count": 12,
   "id": "47a251e6",
   "metadata": {},
   "outputs": [],
   "source": [
    "# delete document\n",
    "vector_store.delete(ids=['3a6ba33a-8e03-48bf-a308-a1b9ce73f1af'])"
   ]
  },
  {
   "cell_type": "code",
   "execution_count": 13,
   "id": "627053f5",
   "metadata": {},
   "outputs": [
    {
     "data": {
      "text/plain": [
       "{'ids': ['d12f7a8f-1cb1-4c9c-a359-8c2a7df8d1b9',\n",
       "  '9c12f50d-d895-4424-a703-090ef64bd160',\n",
       "  '3be3517b-cf86-44b9-a680-a43912017760',\n",
       "  'fc7f96ea-bf65-49ac-90b7-2654ed603b5b',\n",
       "  'e2ad22a6-e343-4129-aa96-8c9ab0911b03',\n",
       "  '1ed51445-2348-4e67-8c95-054acac2b7b9',\n",
       "  'e22c5a03-f81c-44ef-bdc8-caac6979e4d5',\n",
       "  '72713bf6-02d2-478a-a370-d8c5b4b04435',\n",
       "  '0bed380b-9812-4838-8661-796e52fcdfbc'],\n",
       " 'embeddings': None,\n",
       " 'documents': [\"Virat Kohli, the former captain of Royal Challengers Bangalore (RCB), is renowned for his aggressive leadership and consistent batting performances. He holds the record for the most runs in IPL history, including multiple centuries in a single season. Despite RCB not winning an IPL title under his captaincy, Kohli's passion and fitness set a benchmark for the league. His ability to chase targets and anchor innings has made him one of the most dependable players in T20 cricket.\",\n",
       "  'MS Dhoni, famously known as Captain Cool, has led Chennai Super Kings to multiple IPL titles. His finishing skills, wicketkeeping, and leadership are legendary.',\n",
       "  'Jasprit Bumrah is considered one of the best fast bowlers in T20 cricket. Playing for Mumbai Indians, he is known for his yorkers and death-over expertise.',\n",
       "  'Ravindra Jadeja is a dynamic all-rounder who contributes with both bat and ball. Representing Chennai Super Kings, his quick fielding and match-winning performances make him a key player.',\n",
       "  'Virat Kohli is one of the most successful and consistent batsmen in IPL history. Known for his aggressive batting style and fitness, he has led the Royal Challengers Bangalore in multiple seasons.',\n",
       "  \"Rohit Sharma is the most successful captain in IPL history, leading Mumbai Indians to five titles. He's known for his calm demeanor and ability to play big innings under pressure.\",\n",
       "  'MS Dhoni, famously known as Captain Cool, has led Chennai Super Kings to multiple IPL titles. His finishing skills, wicketkeeping, and leadership are legendary.',\n",
       "  'Jasprit Bumrah is considered one of the best fast bowlers in T20 cricket. Playing for Mumbai Indians, he is known for his yorkers and death-over expertise.',\n",
       "  'Ravindra Jadeja is a dynamic all-rounder who contributes with both bat and ball. Representing Chennai Super Kings, his quick fielding and match-winning performances make him a key player.'],\n",
       " 'uris': None,\n",
       " 'included': ['metadatas', 'documents'],\n",
       " 'data': None,\n",
       " 'metadatas': [{'team': 'Royal Challengers Bangalore'},\n",
       "  {'team': 'Chennai Super Kings'},\n",
       "  {'team': 'Mumbai Indians'},\n",
       "  {'team': 'Chennai Super Kings'},\n",
       "  {'team': 'Royal Challengers Bangalore'},\n",
       "  {'team': 'Mumbai Indians'},\n",
       "  {'team': 'Chennai Super Kings'},\n",
       "  {'team': 'Mumbai Indians'},\n",
       "  {'team': 'Chennai Super Kings'}]}"
      ]
     },
     "execution_count": 13,
     "metadata": {},
     "output_type": "execute_result"
    }
   ],
   "source": [
    "# view documents\n",
    "vector_store.get()"
   ]
  },
  {
   "cell_type": "markdown",
   "id": "0c6a5459",
   "metadata": {},
   "source": [
    "## Working with Qdrant\n",
    "### Why I Prefer Qdrant for Vector Store\n",
    "\n",
    "- ✅ **Native LangChain integration**  \n",
    "  Works seamlessly with `langchain_qdrant` module.\n",
    "\n",
    "- ⚡ **High performance & scalability**  \n",
    "  Uses HNSW algorithm for fast and accurate vector search.\n",
    "\n",
    "- 🐳 **Simple local deployment via Docker**  \n",
    "  Easily spin up locally with persistence using a single Docker command.\n",
    "\n",
    "- 📌 **Persistent storage**  \n",
    "  Unlike Chroma (in-memory by default), Qdrant stores data on disk.\n",
    "\n",
    "- 🔌 **Cloud-ready**  \n",
    "  Can switch to Qdrant Cloud by changing `location` parameter. No major code changes.\n",
    "\n",
    "- 🧠 **Better recall quality**  \n",
    "  Optimized for LLM/RAG workloads with good search relevance.\n",
    "\n",
    "- 🔁 **Metadata & payload support**  \n",
    "  Supports metadata filtering and advanced querying natively.\n",
    "\n",
    "- 🔄 **Update-friendly**  \n",
    "  Easy to delete, overwrite, and re-upload documents without unexpected issues.\n",
    "\n",
    "- 🔍 **Transparent inspection**  \n",
    "  You can view all stored vectors and payloads via REST API or Qdrant UI.\n",
    "\n",
    "start server - ```docker run -p 6333:6333 -v qdrant_data:/qdrant/storage qdrant/qdrant```"
   ]
  },
  {
   "cell_type": "code",
   "execution_count": null,
   "id": "eccee831",
   "metadata": {},
   "outputs": [],
   "source": [
    "from langchain_qdrant import Qdrant\n",
    "from langchain_openai import OpenAIEmbeddings\n",
    "from qdrant_client import QdrantClient\n",
    "from qdrant_client.http.models import VectorParams, Distance\n",
    "\n",
    "# Create EMPTY vector store (not available via lc)\n",
    "\n",
    "# Step 1: Connect to Qdrant\n",
    "client = QdrantClient(host=\"localhost\", port=6333)\n",
    "\n",
    "# Step 2: Create an empty collection manually\n",
    "collection_name = \"ipl_players\"\n",
    "if client.collection_exists(collection_name):\n",
    "    client.delete_collection(collection_name)\n",
    "\n",
    "client.create_collection(\n",
    "    collection_name=collection_name,\n",
    "    vectors_config=VectorParams(\n",
    "        size=1536,  # for OpenAI embeddings\n",
    "        distance=Distance.COSINE,\n",
    "    )\n",
    ")\n",
    "\n",
    "# Step 3: Initialize LangChain vector store (no documents yet)\n",
    "vector_store = Qdrant(\n",
    "    client=client,\n",
    "    collection_name=collection_name,\n",
    "    embeddings=OpenAIEmbeddings()\n",
    ")\n",
    "\n",
    "# Add documents\n",
    "vector_store.add_documents(docs)\n",
    "\n",
    "# Search documents\n",
    "results = vector_store.similarity_search(\n",
    "    query='Who among these are a bowler?',\n",
    "    k=2\n",
    ")\n",
    "\n",
    "# Search with score\n",
    "results_with_score = vector_store.similarity_search_with_score(\n",
    "    query='Who among these are a bowler?',\n",
    "    k=2\n",
    ")\n",
    "\n",
    "# Metadata filtering\n",
    "csk_players = vector_store.similarity_search_with_score(\n",
    "    query=\"\",\n",
    "    filter={\"team\": \"Chennai Super Kings\"}\n",
    ")\n",
    "\n",
    "# Delete documents (requires document ids from search results)\n",
    "# vector_store.delete_documents([doc_id])\n",
    "\n",
    "# Note: Qdrant handles updates by deleting and re-inserting documents\n",
    "# NOT available - vector_store.update_document(document_id=…, document=updated_doc1)\n",
    "# To update, you would:\n",
    "# 1. Delete the old document\n",
    "# 2. Add the new document\n",
    "\n",
    "# get(include=…) not available. use\n",
    "# QdrantClient.scroll()"
   ]
  },
  {
   "cell_type": "code",
   "execution_count": 16,
   "id": "573f5f6f",
   "metadata": {},
   "outputs": [
    {
     "data": {
      "text/plain": [
       "[(Document(metadata={'team': 'Chennai Super Kings', '_id': 'f7512f7b-f32c-422d-92b1-8bb0607d9e95', '_collection_name': 'ipl_players'}, page_content='MS Dhoni, famously known as Captain Cool, has led Chennai Super Kings to multiple IPL titles. His finishing skills, wicketkeeping, and leadership are legendary.'),\n",
       "  0.6757109),\n",
       " (Document(metadata={'team': 'Chennai Super Kings', '_id': '626eaab9-de4c-40cd-a427-88437bd269cb', '_collection_name': 'ipl_players'}, page_content='Ravindra Jadeja is a dynamic all-rounder who contributes with both bat and ball. Representing Chennai Super Kings, his quick fielding and match-winning performances make him a key player.'),\n",
       "  0.6718323)]"
      ]
     },
     "execution_count": 16,
     "metadata": {},
     "output_type": "execute_result"
    }
   ],
   "source": [
    "csk_players"
   ]
  },
  {
   "cell_type": "code",
   "execution_count": 19,
   "id": "d825a9f7",
   "metadata": {},
   "outputs": [
    {
     "name": "stdout",
     "output_type": "stream",
     "text": [
      "id: 1f12d243-6ab4-4c13-bb2d-7a3e94d5d3ad\n",
      "vector: [-0.0021045282, -0.0021428505, 0.026800001, 0.012601621, -0.030453386]...\n",
      "payload: {'page_content': 'Virat Kohli is one of the most successful and consistent batsmen in IPL history. Known for his aggressive batting style and fitness, he has led the Royal Challengers Bangalore in multiple seasons.', 'metadata': {'team': 'Royal Challengers Bangalore'}}\n",
      "========================================\n",
      "id: 52960293-3a14-4a30-bd60-de4a7a643ed4\n",
      "vector: [-0.018104512, 0.012812021, 0.0347942, 0.02491663, -0.05048827]...\n",
      "payload: {'page_content': 'Ravindra Jadeja is a dynamic all-rounder who contributes with both bat and ball. Representing Chennai Super Kings, his quick fielding and match-winning performances make him a key player.', 'metadata': {'team': 'Chennai Super Kings'}}\n",
      "========================================\n",
      "id: cbcf9d03-8850-4bb1-a491-f861fc480aae\n",
      "vector: [-0.02714536, 0.008853954, 0.026993142, 0.017187834, -0.02762738]...\n",
      "payload: {'page_content': 'Jasprit Bumrah is considered one of the best fast bowlers in T20 cricket. Playing for Mumbai Indians, he is known for his yorkers and death-over expertise.', 'metadata': {'team': 'Mumbai Indians'}}\n",
      "========================================\n",
      "id: e4780241-305c-4f7b-8c1e-4ee36d13ab09\n",
      "vector: [0.0009279891, -0.00476, 0.012466203, -0.013459086, -0.051889516]...\n",
      "payload: {'page_content': 'MS Dhoni, famously known as Captain Cool, has led Chennai Super Kings to multiple IPL titles. His finishing skills, wicketkeeping, and leadership are legendary.', 'metadata': {'team': 'Chennai Super Kings'}}\n",
      "========================================\n",
      "id: ebdb0146-33f3-4533-a351-5e8c787bef58\n",
      "vector: [-0.0026802118, -0.00010323028, 0.028156532, -0.0065495092, -0.031056121]...\n",
      "payload: {'page_content': \"Rohit Sharma is the most successful captain in IPL history, leading Mumbai Indians to five titles. He's known for his calm demeanor and ability to play big innings under pressure.\", 'metadata': {'team': 'Mumbai Indians'}}\n",
      "========================================\n"
     ]
    }
   ],
   "source": [
    "# Fetch all points from the collection\n",
    "points = client.scroll(\n",
    "    collection_name=collection_name,\n",
    "    with_payload=True,\n",
    "    with_vectors=True,\n",
    "    limit=100\n",
    ")\n",
    "\n",
    "for point in points[0]:  # points = (List[PointStruct], next_offset)\n",
    "    print(f\"id: {point.id}\")\n",
    "    print(f\"vector: {point.vector[:5]}...\")  # Print part of the vector\n",
    "    print(f\"payload: {point.payload}\")\n",
    "    print(\"=\" * 40)"
   ]
  },
  {
   "cell_type": "code",
   "execution_count": null,
   "id": "c618b8ce",
   "metadata": {},
   "outputs": [],
   "source": []
  }
 ],
 "metadata": {
  "kernelspec": {
   "display_name": "lang_venv",
   "language": "python",
   "name": "python3"
  },
  "language_info": {
   "codemirror_mode": {
    "name": "ipython",
    "version": 3
   },
   "file_extension": ".py",
   "mimetype": "text/x-python",
   "name": "python",
   "nbconvert_exporter": "python",
   "pygments_lexer": "ipython3",
   "version": "3.10.11"
  }
 },
 "nbformat": 4,
 "nbformat_minor": 5
}
