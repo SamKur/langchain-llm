{
  "cells": [
    {
      "cell_type": "code",
      "execution_count": 1,
      "metadata": {
        "id": "JRG8AtkSdLM3"
      },
      "outputs": [],
      "source": [
        "from langchain_openai import ChatOpenAI\n",
        "from langchain_core.tools import tool\n",
        "import requests"
      ]
    },
    {
      "cell_type": "code",
      "execution_count": 2,
      "metadata": {
        "id": "-F_IXJLikwHO"
      },
      "outputs": [],
      "source": [
        "from langchain_community.tools import DuckDuckGoSearchRun\n",
        "\n",
        "search_tool = DuckDuckGoSearchRun()"
      ]
    },
    {
      "cell_type": "code",
      "execution_count": 3,
      "metadata": {},
      "outputs": [],
      "source": [
        "# replacing with Tavily (google search) as 1000 free api monthly\n",
        "from langchain_tavily import TavilySearch\n",
        "\n",
        "search_tool = TavilySearch()"
      ]
    },
    {
      "cell_type": "code",
      "execution_count": 5,
      "metadata": {},
      "outputs": [],
      "source": [
        "# lagnchain tool also available, but implementing custom tool\n",
        "\n",
        "import os\n",
        "OPENWEATHERMAP_API_KEY = os.environ['OPENWEATHERMAP_API_KEY']\n",
        "@tool\n",
        "def get_weather_data(city: str) -> str:\n",
        "    \"\"\"\n",
        "    This function fetches the current weather data for a given city\n",
        "    \"\"\"\n",
        "    url = f'https://api.openweathermap.org/data/2.5/weather?q={city}&appid={OPENWEATHERMAP_API_KEY}'\n",
        "\n",
        "    response = requests.get(url)\n",
        "\n",
        "    return response.json()"
      ]
    },
    {
      "cell_type": "code",
      "execution_count": 6,
      "metadata": {
        "id": "LSBEXlq3llWG"
      },
      "outputs": [],
      "source": [
        "llm = ChatOpenAI()"
      ]
    },
    {
      "cell_type": "code",
      "execution_count": 7,
      "metadata": {
        "id": "QpkrG8nAlysd"
      },
      "outputs": [],
      "source": [
        "from langchain.agents import create_react_agent, AgentExecutor\n",
        "from langchain import hub"
      ]
    },
    {
      "cell_type": "code",
      "execution_count": 8,
      "metadata": {
        "colab": {
          "base_uri": "https://localhost:8080/"
        },
        "id": "upsYmEP97Fk0",
        "outputId": "785e378e-b472-46e1-d8ee-7f971b6b3094"
      },
      "outputs": [],
      "source": [
        "# Step 2: Pull the ReAct prompt from LangChain Hub\n",
        "prompt = hub.pull(\"hwchase17/react\")  # pulls the standard ReAct agent prompt\n",
        "# it have tools list, usr query and thoughts\n"
      ]
    },
    {
      "cell_type": "code",
      "execution_count": 9,
      "metadata": {
        "id": "46OsNvahYoXO"
      },
      "outputs": [],
      "source": [
        "# Step 3: Create the ReAct agent manually with the pulled prompt\n",
        "agent = create_react_agent(\n",
        "    llm=llm,\n",
        "    tools=[search_tool, get_weather_data],\n",
        "    prompt=prompt\n",
        ")"
      ]
    },
    {
      "cell_type": "code",
      "execution_count": 10,
      "metadata": {
        "id": "n_eQWa9qYqVN"
      },
      "outputs": [],
      "source": [
        "# Step 4: Wrap it with AgentExecutor\n",
        "agent_executor = AgentExecutor(\n",
        "    agent=agent,\n",
        "    tools=[search_tool, get_weather_data],\n",
        "    verbose=True\n",
        ")"
      ]
    },
    {
      "cell_type": "code",
      "execution_count": 11,
      "metadata": {
        "colab": {
          "base_uri": "https://localhost:8080/"
        },
        "id": "4731_FTsYsJT",
        "outputId": "e8ff82ef-4e44-4324-a379-b0e2ebb6ef88"
      },
      "outputs": [
        {
          "name": "stdout",
          "output_type": "stream",
          "text": [
            "\n",
            "\n",
            "\u001b[1m> Entering new AgentExecutor chain...\u001b[0m\n",
            "\u001b[32;1m\u001b[1;3mI should first search for the capital of Madhya Pradesh and then use the weather data function to get the current weather condition of that city.\n",
            "Action: tavily_search\n",
            "Action Input: Capital of Madhya Pradesh\u001b[0m\u001b[36;1m\u001b[1;3m{'query': 'Capital of Madhya Pradesh', 'follow_up_questions': None, 'answer': None, 'images': [], 'results': [{'url': 'https://en.wikipedia.org/wiki/Madhya_Pradesh', 'title': 'Madhya Pradesh - Wikipedia', 'content': 'Its capital is Bhopal and the largest city is Indore. Other major cities includes Jabalpur, Gwalior, Ujjain and Sagar. Madhya Pradesh is the second largest', 'score': 0.98569, 'raw_content': None}, {'url': 'https://en.wikipedia.org/wiki/Bhopal', 'title': 'Bhopal - Wikipedia', 'content': \"# Bhopal Bhopal Bhopal bhopal.city Flourishing around 1707, the city was the capital of the former Bhopal State, a princely state of the British ruled by the Nawabs of Bhopal until India's independence in 1947. Bhopal was also rated as the cleanest state capital city in India for three consecutive years, 2017, 2018, and 2019. ### Bhopal in 1984 | Bhopal | | Religion in Bhopal City (2011) | | | | | Madhya Pradesh is one of the few states in India, which uses the Mayor-in-Council (MIC) system and hence the elected representatives of the Bhopal Municipal Corporation are also organised as MIC. Bhopal Municipal Corporation was ranked 3rd out of 21 Cities for best governance and administrative practices in India in 2014. It is located in Bhopal, the capital city of Madhya Pradesh.\", 'score': 0.98323, 'raw_content': None}, {'url': 'https://www.britannica.com/place/Madhya-Pradesh', 'title': 'Madhya Pradesh | History, Government, Map, Capital, & Facts', 'content': 'Madhya Pradesh | History, Government, Map, Capital, & Facts | Britannica Madhya Pradesh MaheshwarNarmada River at Maheshwar, Madhya Pradesh, India.(more) Madhya Pradesh Madhya Pradesh, state of India. The climate in Madhya Pradesh is governed by a monsoon weather pattern. Hindi, the official state language, is also the language most widely spoken in Madhya Pradesh. Madhya Pradesh also draws a portion of its power from several thermal stations located within the state. Overall, Madhya Pradesh has remained an industrially underdeveloped state. The structure of the government of Madhya Pradesh, like that of most other states of India, is determined by the national constitution of 1950. \"Madhya Pradesh\". IndiaNetzone - Madhya Pradesh, India', 'score': 0.97685, 'raw_content': None}, {'url': 'https://bhopal.nic.in/en/about-district/', 'title': 'About District | District Bhopal, Government of Madhya Pradesh | India', 'content': 'India’s heartland of the year Madhya Pradesh State’s heartland Bhopal district was formed in the year 1972. Bhopal is a district of Indian state of Madhya Pradesh. The headquarters of the district is Bhopal which is also the state capital. Bhopal is located in the southern part of the city district. Bhopal, the capital of Madhya Pradesh, is a fascinating amalgam of scenic beauty, old historic city and modern urban planning. His descendants build Bhopal into a beautiful city. ### Bhopal, the city of Lakes The two lakes of Bhopal still dominate the city, and are indeed its nucleus. ### Bhopal, the City in Mid of India © District Bhopal, Madhya Pradesh , Developed and hosted by National Informatics Centre,  ', 'score': 0.97373, 'raw_content': None}, {'url': 'https://www.reddit.com/r/MadhyaPradesh/comments/1i9hy0t/why_is_bhopal_the_capital_of_madhypradesh/', 'title': 'Why is bhopal the capital of madhypradesh ? : r/MadhyaPradesh', 'content': \"The New Bhopal was built after it's declaration as a capital accordingly. All the offices, residential areas etc is planned accordingly.\", 'score': 0.97172, 'raw_content': None}], 'response_time': 1.19}\u001b[0m\u001b[32;1m\u001b[1;3mI have found that the capital of Madhya Pradesh is Bhopal. Now, I should fetch the current weather data for Bhopal.\n",
            "Action: get_weather_data\n",
            "Action Input: Bhopal\u001b[0m\u001b[33;1m\u001b[1;3m{'coord': {'lon': 77.4, 'lat': 23.2667}, 'weather': [{'id': 804, 'main': 'Clouds', 'description': 'overcast clouds', 'icon': '04d'}], 'base': 'stations', 'main': {'temp': 298.44, 'feels_like': 299.27, 'temp_min': 298.44, 'temp_max': 298.44, 'pressure': 1005, 'humidity': 86, 'sea_level': 1005, 'grnd_level': 949}, 'visibility': 10000, 'wind': {'speed': 4.92, 'deg': 241, 'gust': 9.4}, 'clouds': {'all': 100}, 'dt': 1752806617, 'sys': {'country': 'IN', 'sunrise': 1752797665, 'sunset': 1752845905}, 'timezone': 19800, 'id': 1275841, 'name': 'Bhopal', 'cod': 200}\u001b[0m\u001b[32;1m\u001b[1;3mI now know the final answer\n",
            "Final Answer: The capital of Madhya Pradesh is Bhopal and the current weather condition in Bhopal is overcast clouds with a temperature of 298.44 Kelvin.\u001b[0m\n",
            "\n",
            "\u001b[1m> Finished chain.\u001b[0m\n",
            "{'input': \"Find the capital of Madhya Pradesh, then find it's current weather condition\", 'output': 'The capital of Madhya Pradesh is Bhopal and the current weather condition in Bhopal is overcast clouds with a temperature of 298.44 Kelvin.'}\n"
          ]
        }
      ],
      "source": [
        "# Step 5: Invoke\n",
        "response = agent_executor.invoke({\"input\": \"Find the capital of Madhya Pradesh, then find it's current weather condition\"})\n",
        "print(response)     # Thought-Action-Observation loop\n",
        "\n",
        "# starting loop\n",
        "# agent sends -> actions and action input -> agent executor -> sends observation (output) and prev msgs to agent\n",
        "# ending loop\n",
        "# ends completely until agent says Final Answer"
      ]
    },
    {
      "cell_type": "code",
      "execution_count": 12,
      "metadata": {
        "colab": {
          "base_uri": "https://localhost:8080/",
          "height": 35
        },
        "id": "dISl6fzqZKfU",
        "outputId": "e2c9f778-4108-43cb-e393-3052b2347fef"
      },
      "outputs": [
        {
          "data": {
            "text/plain": [
              "'The capital of Madhya Pradesh is Bhopal and the current weather condition in Bhopal is overcast clouds with a temperature of 298.44 Kelvin.'"
            ]
          },
          "execution_count": 12,
          "metadata": {},
          "output_type": "execute_result"
        }
      ],
      "source": [
        "response['output']"
      ]
    }
  ],
  "metadata": {
    "colab": {
      "provenance": []
    },
    "kernelspec": {
      "display_name": "lang_venv",
      "language": "python",
      "name": "python3"
    },
    "language_info": {
      "codemirror_mode": {
        "name": "ipython",
        "version": 3
      },
      "file_extension": ".py",
      "mimetype": "text/x-python",
      "name": "python",
      "nbconvert_exporter": "python",
      "pygments_lexer": "ipython3",
      "version": "3.10.11"
    }
  },
  "nbformat": 4,
  "nbformat_minor": 0
}
