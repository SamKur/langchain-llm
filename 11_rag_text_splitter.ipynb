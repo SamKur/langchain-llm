{
 "cells": [
  {
   "cell_type": "markdown",
   "id": "a55d2831",
   "metadata": {},
   "source": [
    "## Text Splitter\n",
    "[Visualizer](https://chunkviz.up.railway.app/)\n"
   ]
  },
  {
   "cell_type": "markdown",
   "id": "9af7c48d",
   "metadata": {},
   "source": [
    "### 1. length based"
   ]
  },
  {
   "cell_type": "code",
   "execution_count": 1,
   "id": "86df77d7",
   "metadata": {},
   "outputs": [
    {
     "name": "stdout",
     "output_type": "stream",
     "text": [
      "['I am susamay kumbhakar a', 'a data scientist with 4', '4 years of experience in', 'in python']\n"
     ]
    }
   ],
   "source": [
    "from langchain.text_splitter import CharacterTextSplitter\n",
    "text =\"I am susamay kumbhakar a data scientist with 4 years of experience in python\"\n",
    "splitter= CharacterTextSplitter(chunk_size=25, chunk_overlap=3, separator='') # 15% is a good overlap\n",
    "chunks = splitter.split_text(text)\n",
    "print(chunks)\n",
    "\n",
    "# splitter.split_documents(docs) # for document objs"
   ]
  },
  {
   "cell_type": "code",
   "execution_count": 2,
   "id": "4d593c0e",
   "metadata": {},
   "outputs": [],
   "source": [
    "# TRY - load pdf and perform spliiting\n"
   ]
  },
  {
   "cell_type": "markdown",
   "id": "1077d18c",
   "metadata": {},
   "source": [
    "### 2. text structure based - RecursiveCharacterTextSplitter\n",
    "(like paragraph - \\n\\n, line - \\n, word - ' ', character - '')"
   ]
  },
  {
   "cell_type": "code",
   "execution_count": 3,
   "id": "40ae0f8a",
   "metadata": {},
   "outputs": [],
   "source": [
    "from langchain.text_splitter import RecursiveCharacterTextSplitter\n",
    "splitter = RecursiveCharacterTextSplitter(chunk_size=25, chunk_overlap=3) # max 25 characters, optimize smaller to near 25"
   ]
  },
  {
   "cell_type": "code",
   "execution_count": 4,
   "id": "3ab9594c",
   "metadata": {},
   "outputs": [
    {
     "name": "stdout",
     "output_type": "stream",
     "text": [
      "['Space exploration has', 'led to incredible', 'scientific discoveries.', 'From landing on the Moon', 'to exploring Mars,', 'humanity continues to', 'to push the boundaries', 'of what’s possible', 'beyond our planet.', 'These missions have not', 'only expanded our', 'knowledge of the', 'universe but have also', 'contributed to', 'to advancements in', 'in technology here on', 'on Earth. Satellite', 'communications, GPS, and', 'even certain medical', 'imaging techniques trace', 'their roots back to', 'to innovations driven by', 'by space programs.']\n"
     ]
    }
   ],
   "source": [
    "text=\"\"\"\n",
    "Space exploration has led to incredible scientific discoveries. From landing on the Moon to exploring Mars, humanity continues to push the boundaries of what’s possible beyond our planet.\n",
    "\n",
    "These missions have not only expanded our knowledge of the universe but have also contributed to advancements in technology here on Earth. Satellite communications, GPS, and even certain medical imaging techniques trace their roots back to innovations driven by space programs.\n",
    "\"\"\"\n",
    "chunks = splitter.split_text(text)\n",
    "print(chunks)"
   ]
  },
  {
   "cell_type": "markdown",
   "id": "ca197cca",
   "metadata": {},
   "source": [
    "### 3. document structure based - RecursiveCharacterTextSplitter\n",
    "(diff format - like markdown or python file) - special case of prev"
   ]
  },
  {
   "cell_type": "code",
   "execution_count": 5,
   "id": "72313f53",
   "metadata": {},
   "outputs": [],
   "source": [
    "text = \"\"\"\n",
    "class Student:\n",
    "    def __init__(self, name, age, grade):\n",
    "        self.name = name\n",
    "        self.age = age\n",
    "        self.grade = grade  # Grade is a float (like 8.5 or 9.2)\n",
    "\n",
    "    def get_details(self):\n",
    "        return self.name\"\n",
    "\n",
    "    def is_passing(self):\n",
    "        return self.grade >= 6.0\n",
    "\n",
    "\n",
    "# Example usage\n",
    "student1 = Student(\"Aarav\", 20, 8.2)\n",
    "print(student1.get_details())\n",
    "\n",
    "if student1.is_passing():\n",
    "    print(\"The student is passing.\")\n",
    "else:\n",
    "    print(\"The student is not passing.\")\n",
    "\"\"\""
   ]
  },
  {
   "cell_type": "code",
   "execution_count": 6,
   "id": "520cd130",
   "metadata": {},
   "outputs": [
    {
     "name": "stdout",
     "output_type": "stream",
     "text": [
      "['class Student:\\n    def __init__(self, name, age, grade):\\n        self.name = name\\n        self.age = age\\n        self.grade = grade  # Grade is a float (like 8.5 or 9.2)\\n\\n    def get_details(self):\\n        return self.name\"\\n\\n    def is_passing(self):\\n        return self.grade >= 6.0', '# Example usage\\nstudent1 = Student(\"Aarav\", 20, 8.2)\\nprint(student1.get_details())\\n\\nif student1.is_passing():\\n    print(\"The student is passing.\")\\nelse:\\n    print(\"The student is not passing.\")']\n"
     ]
    }
   ],
   "source": [
    "from langchain.text_splitter import RecursiveCharacterTextSplitter, Language # can also use MarkdownTextSplitter\n",
    "splitter = RecursiveCharacterTextSplitter.from_language(language=Language.PYTHON, chunk_size=300, chunk_overlap=0)\n",
    "chunks = splitter.split_text(text)\n",
    "print(chunks)"
   ]
  },
  {
   "cell_type": "markdown",
   "id": "72d3bb66",
   "metadata": {},
   "source": [
    "### 4. Semantic Text Splitter\n",
    "Given 5 sentences: S1, S2, S3, S4, S5\n",
    "\n",
    "Generate embeddings for consecutive pairs: (S1-S2), (S2-S3), (S3-S4), (S4-S5)\n",
    "\n",
    "Compute cosine similarities for each pair → get 4 similarity scores\n",
    "\n",
    "Calculate mean and standard deviation (SD) of these scores\n",
    "\n",
    "If a similarity drops significantly (e.g., below mean − SD), insert a split between those sentences"
   ]
  },
  {
   "cell_type": "code",
   "execution_count": 7,
   "id": "6d27ff42",
   "metadata": {},
   "outputs": [],
   "source": [
    "text1 = \"\"\"\n",
    "The ancient forest, a silent guardian of forgotten lore, whispered tales of old. Towering trees, centuries old, formed a canopy that filtered the sunlight into dappled patterns on the mossy ground. This was a place of profound peace, where time seemed to slow, and the very air hummed with a mystical energy.\n",
    "\n",
    "Meanwhile, in the bustling city miles away, sirens wailed. Traffic snarled, and the relentless rhythm of urban life pulsed through concrete canyons. People rushed, their faces etched with the urgency of modern existence, a stark contrast to the timeless tranquility of the woods. Skyscrapers pierced the clouds, monuments to human ambition and tireless innovation.\n",
    "\n",
    "Back in the forest, a solitary deer grazed quietly by a hidden spring. The rustle of leaves underfoot was the only sound, a gentle symphony of nature. Sunlight now painted the western sky in hues of orange and purple, casting long shadows that danced among the ancient trunks. The profound peace of the ancient forest settled once more, an enduring echo of forgotten lore.\n",
    "\"\"\""
   ]
  },
  {
   "cell_type": "code",
   "execution_count": 8,
   "id": "4c8ea145",
   "metadata": {},
   "outputs": [
    {
     "data": {
      "text/plain": [
       "[Document(metadata={}, page_content='\\nThe ancient forest, a silent guardian of forgotten lore, whispered tales of old. Towering trees, centuries old, formed a canopy that filtered the sunlight into dappled patterns on the mossy ground. This was a place of profound peace, where time seemed to slow, and the very air hummed with a mystical energy. Meanwhile, in the bustling city miles away, sirens wailed. Traffic snarled, and the relentless rhythm of urban life pulsed through concrete canyons. People rushed, their faces etched with the urgency of modern existence, a stark contrast to the timeless tranquility of the woods.'),\n",
       " Document(metadata={}, page_content='Skyscrapers pierced the clouds, monuments to human ambition and tireless innovation. Back in the forest, a solitary deer grazed quietly by a hidden spring. The rustle of leaves underfoot was the only sound, a gentle symphony of nature. Sunlight now painted the western sky in hues of orange and purple, casting long shadows that danced among the ancient trunks. The profound peace of the ancient forest settled once more, an enduring echo of forgotten lore. ')]"
      ]
     },
     "execution_count": 8,
     "metadata": {},
     "output_type": "execute_result"
    }
   ],
   "source": [
    "from langchain_experimental.text_splitter import SemanticChunker\n",
    "from langchain_openai.embeddings import OpenAIEmbeddings\n",
    "\n",
    "splitter = SemanticChunker( OpenAIEmbeddings(), breakpoint_threshold_type=\"standard_deviation\",  # percentile/fixed\n",
    "                            breakpoint_threshold_amount = 1 # allow upto 1 sd, if more than that -> split\n",
    ")\n",
    "docs = splitter.create_documents([text1]) # the context of text1 and text2 would be treated as different and independent\n",
    "docs"
   ]
  }
 ],
 "metadata": {
  "kernelspec": {
   "display_name": "lang_venv",
   "language": "python",
   "name": "python3"
  },
  "language_info": {
   "codemirror_mode": {
    "name": "ipython",
    "version": 3
   },
   "file_extension": ".py",
   "mimetype": "text/x-python",
   "name": "python",
   "nbconvert_exporter": "python",
   "pygments_lexer": "ipython3",
   "version": "3.10.11"
  }
 },
 "nbformat": 4,
 "nbformat_minor": 5
}
