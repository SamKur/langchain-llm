{
 "cells": [
  {
   "cell_type": "markdown",
   "metadata": {},
   "source": [
    "# Achieve Structured Output from LLMs"
   ]
  },
  {
   "cell_type": "code",
   "execution_count": null,
   "metadata": {},
   "outputs": [],
   "source": [
    "from dotenv import load_dotenv\n",
    "load_dotenv()"
   ]
  },
  {
   "cell_type": "code",
   "execution_count": null,
   "metadata": {},
   "outputs": [],
   "source": [
    "from langchain_openai import ChatOpenAI\n",
    "model = ChatOpenAI(model='gpt-4.1-nano', max_completion_tokens = 1000)"
   ]
  },
  {
   "cell_type": "markdown",
   "metadata": {
    "id": "Y4DKBUv7706e"
   },
   "source": [
    "## 1. TypedDict (inherits TypedDict)"
   ]
  },
  {
   "cell_type": "code",
   "execution_count": null,
   "metadata": {
    "executionInfo": {
     "elapsed": 20,
     "status": "ok",
     "timestamp": 1748585468980,
     "user": {
      "displayName": "Susamay Kumbhakar",
      "userId": "17628977713333455389"
     },
     "user_tz": -330
    },
    "id": "CsBe443r-QM0"
   },
   "outputs": [],
   "source": [
    "from typing import TypedDict       # buit-in mypy module\n",
    "\n",
    "class Person(TypedDict):\n",
    "    name: str\n",
    "    age: int\n",
    "\n",
    "person1 : Person = {\"name\": \"Alice\", \"age\": 30} # suggests type but doesnt enforce\n",
    "print(person1)"
   ]
  },
  {
   "cell_type": "markdown",
   "metadata": {},
   "source": [
    "### Problem statement: Review to structured op {'summary':.., 'sentiment':...}"
   ]
  },
  {
   "cell_type": "code",
   "execution_count": null,
   "metadata": {},
   "outputs": [],
   "source": [
    "from typing import TypedDict, Annotated\n",
    "\n",
    "sample_review_input = \"\"\"\n",
    "The hardware is great,but the software feels bloated.\n",
    "There are too many pre-installed apps that I can't remove.\n",
    "Also, the UI looks outdated compared to other brands.\n",
    "Hoping for a software update to fix this .\"\"\"\n",
    "\n",
    "class Review(TypedDict):    # output format/schema\n",
    "    # summary: str          # OR add context specific metadata to a type using Annotated\n",
    "    summary: Annotated[str, \"A brief summary of the review\"]\n",
    "    # sentiment: str\n",
    "    sentiment: Annotated[str, \"Sentiment of the review. Either negative or positive or neutral\"]\n",
    "\n",
    "structured_model = model.with_structured_output(Review) # extra\n",
    "result = structured_model.invoke(sample_review_input)   # not model.invoke\n",
    "print(result)                                           # not result.content\n",
    "print(type(result))                                     # dictionary\n",
    "print(result['sentiment'])"
   ]
  },
  {
   "cell_type": "code",
   "execution_count": null,
   "metadata": {},
   "outputs": [],
   "source": [
    "# More flexible implementation\n",
    "\n",
    "from typing import TypedDict, Annotated, Optional, Literal\n",
    "\n",
    "# schema\n",
    "class Review(TypedDict):\n",
    "\n",
    "    key_themes: Annotated[list[str], \"Write down all the key themes discussed in the review in a list\"]\n",
    "    summary: Annotated[str, \"A brief summary of the review\"]\n",
    "    sentiment: Annotated[Literal[\"pos\", \"neg\", \"none\"], \"Return sentiment of the review either negative, positive or neutral\"]\n",
    "    pros: Annotated[Optional[list[str]], \"Write down all the pros inside a list\"]\n",
    "    cons: Annotated[Optional[list[str]], \"Write down all the cons inside a list\"]\n",
    "    name: Annotated[Optional[str], \"Write the name of the reviewer\"]\n",
    "    \n",
    "\n",
    "structured_model = model.with_structured_output(Review)\n",
    "\n",
    "result = structured_model.invoke(\"\"\"I recently upgraded to the Samsung Galaxy S24 Ultra, and I must say, it’s an absolute powerhouse! The Snapdragon 8 Gen 3 processor makes everything lightning fast—whether I’m gaming, multitasking, or editing photos. The 5000mAh battery easily lasts a full day even with heavy use, and the 45W fast charging is a lifesaver.\n",
    "\n",
    "The S-Pen integration is a great touch for note-taking and quick sketches, though I don't use it often. What really blew me away is the 200MP camera—the night mode is stunning, capturing crisp, vibrant images even in low light. Zooming up to 100x actually works well for distant objects, but anything beyond 30x loses quality.\n",
    "\n",
    "However, the weight and size make it a bit uncomfortable for one-handed use. Also, Samsung’s One UI still comes with bloatware—why do I need five different Samsung apps for things Google already provides? The $1,300 price tag is also a hard pill to swallow.\n",
    "\n",
    "Pros:\n",
    "Insanely powerful processor (great for gaming and productivity)\n",
    "Stunning 200MP camera with incredible zoom capabilities\n",
    "Long battery life with fast charging\n",
    "S-Pen support is unique and useful\n",
    "\n",
    "Review by Susamay\n",
    "\"\"\")\n",
    "\n",
    "print(result['name'])\n",
    "print(result['cons'])"
   ]
  },
  {
   "cell_type": "markdown",
   "metadata": {},
   "source": [
    "## 2. Pydantic (inherits BaseModel)"
   ]
  },
  {
   "cell_type": "code",
   "execution_count": null,
   "metadata": {},
   "outputs": [],
   "source": [
    "from pydantic import BaseModel, EmailStr, Field, field_validator\n",
    "from typing import Optional\n",
    "\n",
    "class Student(BaseModel):\n",
    "\n",
    "    name: str = 'nitish'\n",
    "    age: Optional[int] = None\n",
    "    email: EmailStr\n",
    "    cgpa: float = Field(gt=0, lt=10, default=5, description='A decimal value representing the cgpa of the student')\n",
    "    \n",
    "    @field_validator('name')\n",
    "    @classmethod\n",
    "    def transform_name(cls, value):\n",
    "        if value[0] in 'aeiou': raise \"Name must start with consonant\"\n",
    "        return value.upper()\n",
    "\n",
    "new_student1 = {'age':'32', 'email':'abc@gmail.com'}\n",
    "student1 = Student(**new_student1)      # pass as kwargs/ **dict\n",
    "print(student1)                         # Object\n",
    "print(student1.name)                    # Access Obj Attribute\n",
    "\n",
    "\n",
    "student_dict1 = dict(student1)          # convert to dictionary\n",
    "print(student_dict1['age'])\n",
    "\n",
    "student_json = student1.model_dump_json()   # convert to json obj\n",
    "\n",
    "student2 = Student(name='susamay', age=27, email='susamay.sk@gmail.com', cgpa=8.14)\n",
    "print(student2)"
   ]
  },
  {
   "cell_type": "code",
   "execution_count": null,
   "metadata": {},
   "outputs": [],
   "source": [
    "# Pydantc-enforced implementation of previous typing module\n",
    "\n",
    "from typing import TypedDict, Annotated, Optional, Literal # these are still helpful\n",
    "from pydantic import BaseModel, EmailStr, Field \n",
    "\n",
    "prompt = \"\"\"I recently upgraded to the Samsung Galaxy S24 Ultra, and I must say, it’s an absolute powerhouse! The Snapdragon 8 Gen 3 processor makes everything lightning fast—whether I’m gaming, multitasking, or editing photos. The 5000mAh battery easily lasts a full day even with heavy use, and the 45W fast charging is a lifesaver.\n",
    "\n",
    "The S-Pen integration is a great touch for note-taking and quick sketches, though I don't use it often. What really blew me away is the 200MP camera—the night mode is stunning, capturing crisp, vibrant images even in low light. Zooming up to 100x actually works well for distant objects, but anything beyond 30x loses quality.\n",
    "\n",
    "However, the weight and size make it a bit uncomfortable for one-handed use. Also, Samsung’s One UI still comes with bloatware—why do I need five different Samsung apps for things Google already provides? The $1,300 price tag is also a hard pill to swallow.\n",
    "\n",
    "Pros:\n",
    "Insanely powerful processor (great for gaming and productivity)\n",
    "Stunning 200MP camera with incredible zoom capabilities\n",
    "Long battery life with fast charging\n",
    "S-Pen support is unique and useful\n",
    "\n",
    "Review by Susamay\n",
    "\"\"\"\n",
    "\n",
    "# schema\n",
    "class Review(BaseModel):\n",
    "    # key_themes: Annotated[list[str], \"Write down all the key themes discussed in the review in a list\"]\n",
    "    key_themes: list[str] = Field( description=\"Write down all the key themes discussed in the review in a list\")\n",
    "    summary: str = Field(description=\"A brief summary of the review\")\n",
    "    sentiment: Literal[\"pos\", \"neg\", \"none\"] = Field(description=\"Return sentiment of the review either negative, positive or neutral\")\n",
    "    pros: Optional[list[str]] = Field(default=None, description= \"Write down all the pros inside a list\")\n",
    "    cons: Optional[list[str]] = Field(default=None, description= \"Write down all the cons inside a list\")\n",
    "    # name: Optional[str] = Field(default=\"UNKNOWN\", description= \"Write the name of the reviewer\") # OR\n",
    "    name: Annotated [ Optional[str], Field(default=\"UNKNOWN\", description= \"Write the name of the reviewer\") ]\n",
    "\n",
    "\n",
    "structured_model = model.with_structured_output(Review)\n",
    "result = structured_model.invoke(prompt)\n",
    "\n",
    "print(result.name)\n",
    "# print(result['name']) # will not work by default, need to be converted to dict\n",
    "# print(result.model_dump()['name'])\n",
    "print(result.cons)"
   ]
  },
  {
   "cell_type": "markdown",
   "metadata": {},
   "source": [
    "## 3. json-Schema (universal)"
   ]
  },
  {
   "cell_type": "code",
   "execution_count": null,
   "metadata": {},
   "outputs": [],
   "source": [
    "# Export pydantic to JSON schema dict\n",
    "schema_dict = Review.model_json_schema()\n",
    "\n",
    "# Save to file\n",
    "import json\n",
    "with open(\"07_json_schema.json\", \"w\") as f:\n",
    "    json.dump(schema_dict, f, indent=2)"
   ]
  },
  {
   "cell_type": "code",
   "execution_count": null,
   "metadata": {},
   "outputs": [],
   "source": [
    "# created a schema - 07_json_schema.json\n",
    "\n",
    "import json\n",
    "\n",
    "# Load from file or define inline\n",
    "with open(\"07_json_schema.json\") as f:\n",
    "    json_schema = json.load(f)\n",
    "\n",
    "structured_model = model.with_structured_output(schema= json_schema, method= \"json_schema\") # for agentic ai use - \"function_calling\"\n",
    "response = structured_model.invoke(prompt)\n",
    "print(response)"
   ]
  }
 ],
 "metadata": {
  "colab": {
   "authorship_tag": "ABX9TyPPGW1Yc72g146v32QbNjh7",
   "provenance": []
  },
  "kernelspec": {
   "display_name": "lang_venv",
   "language": "python",
   "name": "python3"
  },
  "language_info": {
   "codemirror_mode": {
    "name": "ipython",
    "version": 3
   },
   "file_extension": ".py",
   "mimetype": "text/x-python",
   "name": "python",
   "nbconvert_exporter": "python",
   "pygments_lexer": "ipython3",
   "version": "3.10.11"
  }
 },
 "nbformat": 4,
 "nbformat_minor": 0
}
