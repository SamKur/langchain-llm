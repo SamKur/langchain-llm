{
 "cells": [
  {
   "cell_type": "markdown",
   "id": "b15620ea",
   "metadata": {},
   "source": [
    "## Document loader\n",
    "[Documentation Link](https://langchain.com/)"
   ]
  },
  {
   "cell_type": "markdown",
   "id": "4b7036ac",
   "metadata": {},
   "source": [
    "### TextLoader"
   ]
  },
  {
   "cell_type": "code",
   "execution_count": 3,
   "id": "9df7087a",
   "metadata": {},
   "outputs": [
    {
     "name": "stdout",
     "output_type": "stream",
     "text": [
      "[Document(metadata={'source': 'input_files/modern_warfare_poem.txt'}, page_content=\"Shadows of the New Battlefield\\n\\nIn the silence before the dawn,\\nA low hum stirs the sky,\\nGlistening metal glides afar,\\nWhere unseen pilots fly.\\nA world away from muddy boots,\\nAnd banners soaked in red,\\nCommands are issued quietlyâ€”\\nNo words for those who've fled.\\n\\nWires flicker with electric light,\\nA signal, sharp and cold,\\nThe old constraints of battle gone,\\nNew paradigms unfold.\\nSatellites blinking overhead,\\nRelaying every breath,\\nIn ones and zeroes, war is waged,\\nWith algorithms of death.\\n\\nAcross the globe a soldier sits,\\nIn cubicle and chair,\\nHis screen reveals the distant lands,\\nHe'll strike from anywhere.\\nNo midnight march, no battle cryâ€”\\nA drone is poised to fire,\\nDecisions made in silent rooms,\\nUnleashing searing ire.\\n\\nCybernetic shadows creep\\nThrough firewalls, dark and deep.\\nA thousand systems compromisedâ€”\\nThe secrets they will keep.\\nA virus slips across the line\\nAnd towns are quick to dark,\\nA digital invasion bears\\nAn unseen, deadly mark.\\n\\nYet still, the anguish echoes on,\\nAnd mothers grieve the same,\\nFor armored steel or subtle code\\nExtinguishes the flame.\\nThe battles may be waged remote,\\nBut loss is always near,\\nA silent scream within the soulâ€”\\nA single, trembling tear.\\n\\nPropaganda swiftly moves\\nOn networks, fast and wide,\\nThe truth is bent, the stories shaped\\nBy powers that decide.\\nOld scars are painted over fresh,\\nWhile children learn to pray,\\nTheir lullabies drowned out by drones\\nThat rumble, far away.\\n\\nThe clash of cultures, ancient feuds,\\nNow fought in cryptic ways,\\nA meme, a leak, a whispered threat\\nCan set the world ablaze.\\nAnd soldiers clad in camouflage\\nMay never see the fight,\\nFor wars are waged with data streams\\nWithin the endless night.\\n\\nYet hope endures where sorrow blooms\\nOn fields once drenched in blood,\\nFor unity may yet be found\\nBeneath the rising flood.\\nMay those who hold the wires tight\\nRemember all the cost;\\nFor honor, peace, and memoryâ€”\\nTo mourn the millions lost.\")]\n",
      "1\n",
      "{'source': 'input_files/modern_warfare_poem.txt'}\n",
      "Shadows of the New Battlefield\n",
      "\n",
      "In the silence before the dawn,\n",
      "A low hum stirs the sky,\n",
      "Glistening metal glides afar,\n",
      "Where unseen pilots fly.\n",
      "A world away from muddy boots,\n",
      "And banners soaked in red,\n",
      "Commands are issued quietlyâ€”\n",
      "No words for those who've fled.\n",
      "\n",
      "Wires flicker with electric light,\n",
      "A signal, sharp and cold,\n",
      "The old constraints of battle gone,\n",
      "New paradigms unfold.\n",
      "Satellites blinking overhead,\n",
      "Relaying every breath,\n",
      "In ones and zeroes, war is waged,\n",
      "With algorithms of death.\n",
      "\n",
      "Across the globe a soldier sits,\n",
      "In cubicle and chair,\n",
      "His screen reveals the distant lands,\n",
      "He'll strike from anywhere.\n",
      "No midnight march, no battle cryâ€”\n",
      "A drone is poised to fire,\n",
      "Decisions made in silent rooms,\n",
      "Unleashing searing ire.\n",
      "\n",
      "Cybernetic shadows creep\n",
      "Through firewalls, dark and deep.\n",
      "A thousand systems compromisedâ€”\n",
      "The secrets they will keep.\n",
      "A virus slips across the line\n",
      "And towns are quick to dark,\n",
      "A digital invasion bears\n",
      "An unseen, deadly mark.\n",
      "\n",
      "Yet still, the anguish echoes on,\n",
      "And mothers grieve the same,\n",
      "For armored steel or subtle code\n",
      "Extinguishes the flame.\n",
      "The battles may be waged remote,\n",
      "But loss is always near,\n",
      "A silent scream within the soulâ€”\n",
      "A single, trembling tear.\n",
      "\n",
      "Propaganda swiftly moves\n",
      "On networks, fast and wide,\n",
      "The truth is bent, the stories shaped\n",
      "By powers that decide.\n",
      "Old scars are painted over fresh,\n",
      "While children learn to pray,\n",
      "Their lullabies drowned out by drones\n",
      "That rumble, far away.\n",
      "\n",
      "The clash of cultures, ancient feuds,\n",
      "Now fought in cryptic ways,\n",
      "A meme, a leak, a whispered threat\n",
      "Can set the world ablaze.\n",
      "And soldiers clad in camouflage\n",
      "May never see the fight,\n",
      "For wars are waged with data streams\n",
      "Within the endless night.\n",
      "\n",
      "Yet hope endures where sorrow blooms\n",
      "On fields once drenched in blood,\n",
      "For unity may yet be found\n",
      "Beneath the rising flood.\n",
      "May those who hold the wires tight\n",
      "Remember all the cost;\n",
      "For honor, peace, and memoryâ€”\n",
      "To mourn the millions lost.\n"
     ]
    }
   ],
   "source": [
    "from langchain_community.document_loaders import TextLoader\n",
    "loader = TextLoader('input_files/modern_warfare_poem.txt')\n",
    "docs  = loader.load()\n",
    "docs2 = loader.lazy_load()\n",
    "print(docs) # list of p doc objects (p= no of pages)\n",
    "print(len(docs))\n",
    "print(docs[0].metadata) # total_pages etc\n",
    "print(docs[0].page_content) # this can be used while chain/prompt invoking"
   ]
  },
  {
   "cell_type": "markdown",
   "id": "ca7948f5",
   "metadata": {},
   "source": [
    "### PyPDFLoader\n",
    "Not great for OCR related"
   ]
  },
  {
   "cell_type": "code",
   "execution_count": null,
   "id": "fb92d567",
   "metadata": {},
   "outputs": [
    {
     "name": "stderr",
     "output_type": "stream",
     "text": [
      "Ignoring wrong pointing object 8 0 (offset 0)\n"
     ]
    },
    {
     "name": "stdout",
     "output_type": "stream",
     "text": [
      "{'producer': 'macOS Version 13.2.1 (Build 22D68) Quartz PDFContext', 'creator': 'PyPDF', 'creationdate': \"D:20230818132911Z00'00'\", 'moddate': \"D:20230818132911Z00'00'\", 'source': 'input_files/ai-data-scientist.pdf', 'total_pages': 1, 'page': 0, 'page_label': '1'}\n",
      "GitHub Repository with Notes and Code from the eBook Above\n",
      "AI and Data Scientist\n",
      "Mathematics\n",
      "Linear Algebra, Calculus, Mathematical Analysis\n",
      "Mathematics for Machine Learning Courses\n",
      "Di!erential Calculus\n",
      "Coursera: Algebra and Di!erential Calculus Course\n",
      "Statistics\n",
      "Statistics, CLT\n",
      "Coursera: Introduction to Statistics Course\n",
      "Hypothesis Testing\n",
      ">\n",
      "Coursera: Hypothesis Testing Course\n",
      "Probability and Sampling\n",
      "Coursera: Probability and Statistics Course\n",
      "AB Testing\n",
      "Practitioner’s Guide to Statistical Tests Article\n",
      "Experiment Design Article Article\n",
      "Increasing Test Sensitivity\n",
      "Minimum Detectable E!ect Article\n",
      "Paper: Improving Test Sensitivity Paper\n",
      "Paper: Improving Sensitivity (CUPED) Paper\n",
      "CUPED at Booking.com Article\n",
      "Doordash: CUPAC Article\n",
      "Ratio Metrics\n",
      "Microsoft: Delta Method in Metric Analytics Paper\n",
      "Paper: Ratio Metrics Paper\n",
      ">\n",
      "v\n",
      "v\n",
      "<\n",
      "^\n",
      "<Econometrics\n",
      "Pre-requisites of Econometrics\n",
      "Fundamentals of econometrics Book\n",
      "Regressions, time series, ﬁtting distributions\n",
      "Intro to Econometrics Book\n",
      "Coursera: Econometrics Course\n",
      "Kaggle — Learn Time Series Course\n",
      "Kaggle — Time Series Basics Tutorial\n",
      "ARIMA Model for Time Series Tutorial\n",
      "Time Series Models Tutorial\n",
      "Forecasting Task with Solution OpenSource Project\n",
      "Coursera: Linear Regression Course\n",
      "v\n",
      "v\n",
      "Coding\n",
      "Learn Python Programming Language\n",
      "Learn Python - Kaggle Course\n",
      "Google's Python Class Course\n",
      "Algorithmic Exercises Tutorial + Challenges\n",
      "Study Plans - Leetcode Challenges\n",
      "Algorithms Specialization Course\n",
      "Data Structures and Algorithms (Python)\n",
      "Learn SQL\n",
      "SQL Tutorial Course\n",
      "> Exploratory Data Analysis (EDA)\n",
      "Data understanding, Data Analysis, Vizualisation\n",
      "Exploratory Data Analysis With Python and Pandas Course\n",
      "Exploratory Data Analysis for Machine Learning Course\n",
      "Exploratory Data Analysis with Seaborn Course\n",
      ">\n",
      "v\n",
      "Machine Learning <\n",
      "Classic ML (Sup. and Unsup.) Advanced ML (Ensembles, NNs)\n",
      "Open Machine Learning Course - OpenDataScience Course\n",
      "Machine Learning Specialization Course\n",
      "Pattern Recognition & ML by Christopher m. bishop eBook\n",
      "v\n",
      "Deep Learning\n",
      "Fully connected NN, CNN, RNN, LSTM, Transformers, Transfer Learning\n",
      "Deep Learning Specialization Courses\n",
      "Deep Learning Book eBook\n",
      "Attention is all you need Paper\n",
      "The Illustrated Transformer Article\n",
      "v\n",
      ">\n",
      "<\n",
      "^\n",
      "MLOps\n",
      "Deployment models, CI/CD\n",
      "MLOps Specialization Courses\n",
      "v\n",
      ">\n",
      "<\n",
      "Keep Learning\n",
      "Find the detailed version of this roadmap\n",
      "along with resources and other roadmaps\n",
      "https://roadmap.sh\n",
      "This roadmap was\n",
      "Careem (an Uber company). Shout out to the creators\n",
      "@mohamadtweets @BulatShkanovand\n",
      "created by the AI and DS team at\n",
      "Netﬂix: Stratiﬁcation Paper\n"
     ]
    }
   ],
   "source": [
    "from langchain_community.document_loaders import PyPDFLoader\n",
    "loader = PyPDFLoader('input_files/ai-data-scientist.pdf')\n",
    "docs  = loader.load()\n",
    "docs2 = loader.lazy_load()\n",
    "print(docs) # list of p doc objects (p= no of pages)\n",
    "\n",
    "print(docs[0].metadata) # total_pages etc\n",
    "print(docs[0].page_content) # this can be used while chain/prompt invoking"
   ]
  },
  {
   "cell_type": "code",
   "execution_count": null,
   "id": "21e489f6",
   "metadata": {},
   "outputs": [
    {
     "name": "stdout",
     "output_type": "stream",
     "text": [
      "19\n"
     ]
    }
   ],
   "source": [
    "from langchain_community.document_loaders import DirectoryLoader, PyPDFLoader\n",
    "loader = DirectoryLoader(path='input_files/sample_directory/',glob=\"*.pdf\",loader_cls=PyPDFLoader)\n",
    "# loader.lazy_load()\n",
    "docs = loader.load()\n",
    "\n",
    "print(len(docs))"
   ]
  },
  {
   "cell_type": "markdown",
   "id": "be8d210c",
   "metadata": {},
   "source": [
    "#### Custom Document Loader (inherit BaseLoader)\n",
    "[HowTo](https://python.langchain.com/docs/how_to/document_loader_custom/)"
   ]
  }
 ],
 "metadata": {
  "kernelspec": {
   "display_name": "lang_venv",
   "language": "python",
   "name": "python3"
  },
  "language_info": {
   "codemirror_mode": {
    "name": "ipython",
    "version": 3
   },
   "file_extension": ".py",
   "mimetype": "text/x-python",
   "name": "python",
   "nbconvert_exporter": "python",
   "pygments_lexer": "ipython3",
   "version": "3.10.11"
  }
 },
 "nbformat": 4,
 "nbformat_minor": 5
}
