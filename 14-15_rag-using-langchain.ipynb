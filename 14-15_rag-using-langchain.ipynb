{
 "cells": [
  {
   "cell_type": "code",
   "execution_count": 1,
   "metadata": {
    "executionInfo": {
     "elapsed": 10,
     "status": "ok",
     "timestamp": 1745233975926,
     "user": {
      "displayName": "CampusX",
      "userId": "17274569631252575216"
     },
     "user_tz": -330
    },
    "id": "nG6m3Q9DBHV1"
   },
   "outputs": [
    {
     "data": {
      "text/plain": [
       "True"
      ]
     },
     "execution_count": 1,
     "metadata": {},
     "output_type": "execute_result"
    }
   ],
   "source": [
    "from dotenv import load_dotenv\n",
    "load_dotenv()"
   ]
  },
  {
   "cell_type": "markdown",
   "metadata": {
    "id": "33R54QYjCMAJ"
   },
   "source": [
    "## Install libraries\n",
    "```%pip install -q youtube-transcript-api langchain-community langchain-openai faiss-cpu tiktoken python-dotenv```"
   ]
  },
  {
   "cell_type": "code",
   "execution_count": 3,
   "metadata": {
    "executionInfo": {
     "elapsed": 6515,
     "status": "ok",
     "timestamp": 1745234356486,
     "user": {
      "displayName": "CampusX",
      "userId": "17274569631252575216"
     },
     "user_tz": -330
    },
    "id": "hPcswe0tExci"
   },
   "outputs": [],
   "source": [
    "from youtube_transcript_api import YouTubeTranscriptApi, TranscriptsDisabled\n",
    "from langchain.text_splitter import RecursiveCharacterTextSplitter\n",
    "from langchain_openai import OpenAIEmbeddings, ChatOpenAI\n",
    "from langchain_community.vectorstores import FAISS\n",
    "from langchain_core.prompts import PromptTemplate"
   ]
  },
  {
   "cell_type": "markdown",
   "metadata": {
    "id": "0ZZrs-ijCTYt"
   },
   "source": [
    "## Step 1a - Indexing (Document Ingestion)"
   ]
  },
  {
   "cell_type": "code",
   "execution_count": 4,
   "metadata": {
    "colab": {
     "base_uri": "https://localhost:8080/"
    },
    "executionInfo": {
     "elapsed": 898,
     "status": "ok",
     "timestamp": 1745235392711,
     "user": {
      "displayName": "CampusX",
      "userId": "17274569631252575216"
     },
     "user_tz": -330
    },
    "id": "1p9AXZycFIH6",
    "outputId": "74950ea5-66f9-4242-bf72-7b2d2ba3aaa7"
   },
   "outputs": [
    {
     "name": "stdout",
     "output_type": "stream",
     "text": [
      "Software engineering is getting crushed by AI and Lead Code the platform that is used for software engineering interviews is slowly dying. Matter of fact, companies like GitLab, Buffer, and Zapier ditched Leap Code years ago. And recently, Snapchat announced that they've stopped Leap Code interviews entirely. So, these tech interviews aren't just changing, but the whole interview hiring process is going through a complete overhaul. So, in this video, let's talk about the death of lead code, the impact of AI, how software engineering interviews are going to look like, and what you need to do to prepare right now. And this is especially important if you're trying to break into tech or or even in tech because in some way, shape, or form, you will be affected by these changes. First, let's talk about the death of lead code. For those who don't know what lead code is, it's basically a website that has a lot of different brain puzzle coding questions, like using ones and zeros. What is the number of islands in this maze? Given an array, which two numbers can add up to a given sum and tech companies like Google, Amazon, and Meta use these exact questions on their software engineering interviews with the idea that it's a coding question. We can see how competent someone is by their solution to this problem. And if they do a good job, we can hire them. And for the longest time, it was a win-win for companies and candidates. Companies could give this coding assessment at scale to a bunch of different candidates and just hire the best ones. And for candidates, they knew exactly what to prepare for, what to expect in the interview, and as long as they worked on this skill of solving leak code problems, they were set. So, it seemed perfect until it wasn't. So, the first problem with leaked code was that cheating was huge. Specifically after 2020, when everything went virtual, people went crazy with cheating. People used things like chatbt, got on secret Discord calls. There were even computer vision tools that could change the orientation of the appearance of your eyes. So even if you're looking to the side, like a separate monitor that might have like a solution there. It'll appear as if you're always looking straight at the interviewer. But there were always flaws in how it would work. Whether it be cheating software glitching or chatbt giving an incorrect answer, some small element that would make the tool unusable. Until things took a huge turn. In winter 2025, a Colombia student named Roy Lee created a software called Interview Coder, which was specifically designed using AI to allow you to cheat in real time on technical coding interviews. And from a pure design technical standpoint, it's pretty impressive. Now, I don't condone cheating. I don't condone using it, but I do have to acknowledge when I saw the demos, my mind was boggled. So, by design, the tool sits on top of your screen, and when you feed it a screenshot of a lead code problem, it feeds it into the LLM and generates a solution for you. Think of chat GPT, but specifically designed and optimized for technical interviews. And for the user, to make sure you aren't staring at one area of the screen for too long, because that would look unnatural and suspicious, the software actually moves around to keep your eyes naturally moving, so no one can detect that you're cheating. And the best part of all of this is that Roy actually proved it worked. Roy used it on his own technical coding interviews at companies like Amazon, Meta, and Tik Tok. And he got those high-paying offers. He passed the interviews. But instead of just quietly accepting his offers, he decided to show the whole world how he did it. He made a very detailed YouTube video showing how his software cheated the Amazon coding interview. And tech companies were furious. I mean obviously Amazon, Meta, Tik Tok all rescended his offers blacklisting him and Amazon specifically asked Colombia to kick him out of the university threatening that they wouldn't hire any of the Colombia students into Amazon ever again. So obviously Colombia obliged and Roy was kicked out. But regardless, he started a movement and he's been successful. Not only did he expose tech interviews, his company, Interview Coder, is on track for $2 million annual recurring revenue. So, he doesn't even need those high-paying tech job offers. Plus, he raised another $5.3 million in creating another company called Cluey that is designed to cheat on everything. So, for him, taking down tech interviews was just step one in his bucket list of cheating. The second problem with Leap Code is it just flat out sucks. And this is part of the reason why Roy even created his software. So, as a software engineer myself, for many years in my day-to-day job, I am building applications. I've been writing API endpoints. I'm constructing software that will be put out into the world. Not once on my job have I ever been asked, can you reverse a link list? Can you find the minimum substring in this array? Because truthfully, leap code has nothing to do with being a good software engineer. And I want you to think about it like this. Hypothetically, just because I eat a lot of protein and I can lift 225 pounds on the bench, that does not mean I'm ready to play professional football and be in the NFL. Now, it might help me to be strong and muscular if I want to be in the NFL. And maybe if I could only bench 100 pounds, that might hurt me from being in the NFL, but it's a logical fallacy to assume the reverse. So, just cuz someone is really good at solving logical puzzles on leak code, that does not mean they are a good software engineer. Imagine there's someone who can throw, catch, and run the football at a professional NFL level, but because they can only bench 215 lbs for some reason, versus me, if I can bench 225 lbs, but I can't catch a football for the life of me, I should not be allowed to make it into the NFL. But unfortunately, with the way the system is designed, tech companies care far more about your weightlifting, i.e. the leak code, than your ability to create software applications and be a good software engineer. or at least they used to and thankfully things are taking a change. So although for the most part big tech companies still care a lot about lead code on a micro level a lot of startups don't even use it. Matter of fact startups because they are super tight on their budget they can't afford to make a wrong hire. They can't afford to do brain teaser interviews. They want to assess you based on your actual software engineering skills because that is what will be directly useful for them on the job. One time I actually did an interview for a startup and they were building a product that could write full applications using pure Python for front-end, backend, full stack performance. No HTML, CSS, JavaScript, none of that. Only Python. And when I got this interview opportunity, I didn't even bother to open up Leap Code cuz I knew it wasn't going to be useful. Matter of fact, the way the interview went, I joined the call and then the engineer, the interviewer basically verbally described some features they had developed in their product in the past. Then they asked me to code up the internal implementation. Obviously, they won't show me their actual codebase, but the interview was designed to be a near exact on the job performance. And this wasn't the only startup. I recently talked to another founder and he said for interviews, they actually treat it as a short-term 5-day long contract. They asked candidates, hey, develop this one feature end to end. We will pay you for this project and if it's good, we'll hire you full-time. And it's in both parties interest that this works out because the founders basically get one of their features done. The candidate can show off their skills in the best way possible and it's completely fair because it sets job expectation standards from there and the candidate gets paid. So this is the true win-win scenario that lead code was striving to be. Plus startup interviews they actually recommend that you use AI or any tools that you would have access to on the job because if it helps you write better software once again that's a win-win. So if you're trying to prepare for this new style of interview, forget grinding leap code and focus on building real things. Start by using AI tools like GitHub C-Pilot, Cursor or Warp to accelerate your coding workflow and work smarter. Use platforms like Replet or Versel to quickly develop full stack applications. But whatever you do, make sure to build projects that solve actual problems, not just another coding project for the sake of doing a coding project. I am tired of to-do list apps. Oh, but what if I have no idea what coding project I can do? Try this. Go to a local mom and pop store and ask them, \"Is there any annoying, time-consuming things that you do every day?\" You'd be surprised. A lot of small non- tech business owners still use pen and paper for inventory or manually typing out customer emails. A simple AI project could be building a chatbot that automatically replies to common customer questions using website FAQ, or creating a tool that uses OCR to scan handwritten receipts and log inventory into Google Sheets. Or if you're a student in university, go to a non-technical club like a cultural org, business frat, or volunteer group and identify problems. Maybe they're manually collecting dues, tracking attendance in spreadsheets, or sending out weekly event reminders. A simple project could be building a Google calendar autosync tool, an event RSVP tracker, or even a custom GPT that helps draft emails and social posts. You can use Zapier, Open AI, and Google Appcript to create something pretty quickly in like a weekend. Again, it's not about the actual code that you write, but rather the problem-solving skills since that's exactly what hiring managers want to see. And maybe through your search of solving real world problems, you might accidentally create a startup. Just make sure it's not built to help people cheat. The second way interviews are changing is by using more system design. And this is an area where AI can't really do a lot of cheating for you because it involves a lot of human reflection and conversation. For those who don't know, system design is pretty much a type of interview that is traditionally given to senior level engineers. And the questions could go something like, if you had to design the architecture of a company like Netflix or Spotify, how would you go about it? Someone might start by asking, would you use AWS as your cloud provider? And then dive into choices around storage, latency, availability zones, and caching strategies. Then they might follow up with a scenario like, what would you do if there's a sudden traffic spike? to which someone would respond by saying you would scale horizontally using load balancers, autoscaling groups, and possibly a content delivery network to distribute the load efficiently. And although sure, you could technically cheat in this, it's much more difficult because it's more of a conversation where you're talking about the design of things, not just here's a question and here's an answer. Plus, there are a lot of follow-ups and intricacies. For each design choice in storage or availability zones, you need to defend your answer. And usually, there are a ton of curveball questions, too. Sometimes the interviewer might ask you to defend an incorrect answer for which you would have to identify hey that's wrong and explain why. For example, if I ask why is the sky pink? You would have had to have been knowledgeable enough to actually say actually the sky is blue and here's the science around it. And if you're using AI for all of this, trust me, you will run into some hallucination, some incorrect answer during the interview and you might have your own latencies and throughput limitations. If you understood that joke, leave a comment down below. And if you're preparing for system design interviews, I recommend starting with groing the system design interview or designing data inensive applications. After that, try doing mock interviews on platforms like interviewing.io where you get that realworld Google Amazinesesque type interview experience. And once you're comfortable with that, try diving into real world system walkthroughs on YouTube channels like Bite My Go. And if you want a solid free resource to help you out with all of this, check the link down below in the description. I'll have something ready for you. Well, that's about all I have in this video. I really hope that you guys enjoyed it. And if you did, make sure to hit the like button, subscribe if you haven't already. If you're interested in my free tech newsletter, link will be down below in the description. And if you're interested in what software engineers actually do on a day-to-day basis, you might want to watch this video right here.\n"
     ]
    }
   ],
   "source": [
    "video_id = \"La385-EDmWw\" # only the ID, not full URL\n",
    "try:\n",
    "    # If you don’t care which language, this returns the “best” one\n",
    "    transcript_list = YouTubeTranscriptApi.get_transcript(video_id, languages=[\"en\"])\n",
    "    # {text: , start: , duration: }, ...\n",
    "\n",
    "    # Flatten it to plain text\n",
    "    transcript = \" \".join(chunk[\"text\"] for chunk in transcript_list)\n",
    "    print(transcript)\n",
    "\n",
    "except TranscriptsDisabled:\n",
    "    print(\"No captions available for this video.\")"
   ]
  },
  {
   "cell_type": "code",
   "execution_count": 5,
   "metadata": {
    "colab": {
     "base_uri": "https://localhost:8080/"
    },
    "executionInfo": {
     "elapsed": 52,
     "status": "ok",
     "timestamp": 1745235201852,
     "user": {
      "displayName": "CampusX",
      "userId": "17274569631252575216"
     },
     "user_tz": -330
    },
    "id": "oWSK4-VQH8CG",
    "outputId": "01528517-4192-4620-f234-97055e4b6655"
   },
   "outputs": [
    {
     "data": {
      "text/plain": [
       "[{'text': 'Software engineering is getting crushed',\n",
       "  'start': 0.08,\n",
       "  'duration': 3.92},\n",
       " {'text': 'by AI and Lead Code the platform that is',\n",
       "  'start': 1.839,\n",
       "  'duration': 3.92},\n",
       " {'text': 'used for software engineering interviews',\n",
       "  'start': 4.0,\n",
       "  'duration': 3.6},\n",
       " {'text': 'is slowly dying. Matter of fact,',\n",
       "  'start': 5.759,\n",
       "  'duration': 3.681},\n",
       " {'text': 'companies like GitLab, Buffer, and',\n",
       "  'start': 7.6,\n",
       "  'duration': 4.64},\n",
       " {'text': 'Zapier ditched Leap Code years ago. And',\n",
       "  'start': 9.44,\n",
       "  'duration': 4.319},\n",
       " {'text': 'recently, Snapchat announced that',\n",
       "  'start': 12.24,\n",
       "  'duration': 3.279},\n",
       " {'text': \"they've stopped Leap Code interviews\",\n",
       "  'start': 13.759,\n",
       "  'duration': 3.52},\n",
       " {'text': 'entirely. So, these tech interviews',\n",
       "  'start': 15.519,\n",
       "  'duration': 3.52},\n",
       " {'text': \"aren't just changing, but the whole\",\n",
       "  'start': 17.279,\n",
       "  'duration': 3.521},\n",
       " {'text': 'interview hiring process is going',\n",
       "  'start': 19.039,\n",
       "  'duration': 3.761},\n",
       " {'text': 'through a complete overhaul. So, in this',\n",
       "  'start': 20.8,\n",
       "  'duration': 3.6},\n",
       " {'text': \"video, let's talk about the death of\",\n",
       "  'start': 22.8,\n",
       "  'duration': 3.84},\n",
       " {'text': 'lead code, the impact of AI, how', 'start': 24.4, 'duration': 3.52},\n",
       " {'text': 'software engineering interviews are',\n",
       "  'start': 26.64,\n",
       "  'duration': 2.879},\n",
       " {'text': 'going to look like, and what you need to',\n",
       "  'start': 27.92,\n",
       "  'duration': 3.84},\n",
       " {'text': 'do to prepare right now. And this is',\n",
       "  'start': 29.519,\n",
       "  'duration': 3.681},\n",
       " {'text': \"especially important if you're trying to\",\n",
       "  'start': 31.76,\n",
       "  'duration': 3.6},\n",
       " {'text': 'break into tech or or even in tech',\n",
       "  'start': 33.2,\n",
       "  'duration': 4.24},\n",
       " {'text': 'because in some way, shape, or form, you',\n",
       "  'start': 35.36,\n",
       "  'duration': 3.76},\n",
       " {'text': 'will be affected by these changes.',\n",
       "  'start': 37.44,\n",
       "  'duration': 3.04},\n",
       " {'text': \"First, let's talk about the death of\",\n",
       "  'start': 39.12,\n",
       "  'duration': 2.959},\n",
       " {'text': \"lead code. For those who don't know what\",\n",
       "  'start': 40.48,\n",
       "  'duration': 4.0},\n",
       " {'text': \"lead code is, it's basically a website\",\n",
       "  'start': 42.079,\n",
       "  'duration': 4.721},\n",
       " {'text': 'that has a lot of different brain puzzle',\n",
       "  'start': 44.48,\n",
       "  'duration': 4.16},\n",
       " {'text': 'coding questions, like using ones and',\n",
       "  'start': 46.8,\n",
       "  'duration': 4.0},\n",
       " {'text': 'zeros. What is the number of islands in',\n",
       "  'start': 48.64,\n",
       "  'duration': 4.399},\n",
       " {'text': 'this maze? Given an array, which two',\n",
       "  'start': 50.8,\n",
       "  'duration': 4.16},\n",
       " {'text': 'numbers can add up to a given sum and',\n",
       "  'start': 53.039,\n",
       "  'duration': 3.761},\n",
       " {'text': 'tech companies like Google, Amazon, and',\n",
       "  'start': 54.96,\n",
       "  'duration': 4.079},\n",
       " {'text': 'Meta use these exact questions on their',\n",
       "  'start': 56.8,\n",
       "  'duration': 3.84},\n",
       " {'text': 'software engineering interviews with the',\n",
       "  'start': 59.039,\n",
       "  'duration': 3.761},\n",
       " {'text': \"idea that it's a coding question. We can\",\n",
       "  'start': 60.64,\n",
       "  'duration': 4.08},\n",
       " {'text': 'see how competent someone is by their',\n",
       "  'start': 62.8,\n",
       "  'duration': 3.84},\n",
       " {'text': 'solution to this problem. And if they do',\n",
       "  'start': 64.72,\n",
       "  'duration': 3.84},\n",
       " {'text': 'a good job, we can hire them. And for',\n",
       "  'start': 66.64,\n",
       "  'duration': 3.68},\n",
       " {'text': 'the longest time, it was a win-win for',\n",
       "  'start': 68.56,\n",
       "  'duration': 3.44},\n",
       " {'text': 'companies and candidates. Companies',\n",
       "  'start': 70.32,\n",
       "  'duration': 3.44},\n",
       " {'text': 'could give this coding assessment at',\n",
       "  'start': 72.0,\n",
       "  'duration': 3.6},\n",
       " {'text': 'scale to a bunch of different candidates',\n",
       "  'start': 73.76,\n",
       "  'duration': 3.6},\n",
       " {'text': 'and just hire the best ones. And for',\n",
       "  'start': 75.6,\n",
       "  'duration': 3.68},\n",
       " {'text': 'candidates, they knew exactly what to',\n",
       "  'start': 77.36,\n",
       "  'duration': 4.079},\n",
       " {'text': 'prepare for, what to expect in the',\n",
       "  'start': 79.28,\n",
       "  'duration': 4.08},\n",
       " {'text': 'interview, and as long as they worked on',\n",
       "  'start': 81.439,\n",
       "  'duration': 4.081},\n",
       " {'text': 'this skill of solving leak code', 'start': 83.36, 'duration': 4.32},\n",
       " {'text': 'problems, they were set. So, it seemed',\n",
       "  'start': 85.52,\n",
       "  'duration': 4.239},\n",
       " {'text': \"perfect until it wasn't. So, the first\",\n",
       "  'start': 87.68,\n",
       "  'duration': 4.079},\n",
       " {'text': 'problem with leaked code was that',\n",
       "  'start': 89.759,\n",
       "  'duration': 5.04},\n",
       " {'text': 'cheating was huge. Specifically after',\n",
       "  'start': 91.759,\n",
       "  'duration': 5.441},\n",
       " {'text': '2020, when everything went virtual,',\n",
       "  'start': 94.799,\n",
       "  'duration': 4.401},\n",
       " {'text': 'people went crazy with cheating. People',\n",
       "  'start': 97.2,\n",
       "  'duration': 4.4},\n",
       " {'text': 'used things like chatbt, got on secret',\n",
       "  'start': 99.2,\n",
       "  'duration': 4.4},\n",
       " {'text': 'Discord calls. There were even computer',\n",
       "  'start': 101.6,\n",
       "  'duration': 4.08},\n",
       " {'text': 'vision tools that could change the',\n",
       "  'start': 103.6,\n",
       "  'duration': 4.0},\n",
       " {'text': 'orientation of the appearance of your',\n",
       "  'start': 105.68,\n",
       "  'duration': 3.52},\n",
       " {'text': \"eyes. So even if you're looking to the\",\n",
       "  'start': 107.6,\n",
       "  'duration': 3.6},\n",
       " {'text': 'side, like a separate monitor that might',\n",
       "  'start': 109.2,\n",
       "  'duration': 3.76},\n",
       " {'text': \"have like a solution there. It'll appear\",\n",
       "  'start': 111.2,\n",
       "  'duration': 3.44},\n",
       " {'text': \"as if you're always looking straight at\",\n",
       "  'start': 112.96,\n",
       "  'duration': 3.199},\n",
       " {'text': 'the interviewer. But there were always',\n",
       "  'start': 114.64,\n",
       "  'duration': 3.2},\n",
       " {'text': 'flaws in how it would work. Whether it',\n",
       "  'start': 116.159,\n",
       "  'duration': 4.64},\n",
       " {'text': 'be cheating software glitching or chatbt',\n",
       "  'start': 117.84,\n",
       "  'duration': 5.2},\n",
       " {'text': 'giving an incorrect answer, some small',\n",
       "  'start': 120.799,\n",
       "  'duration': 3.761},\n",
       " {'text': 'element that would make the tool',\n",
       "  'start': 123.04,\n",
       "  'duration': 4.719},\n",
       " {'text': 'unusable. Until things took a huge turn.',\n",
       "  'start': 124.56,\n",
       "  'duration': 6.0},\n",
       " {'text': 'In winter 2025, a Colombia student named',\n",
       "  'start': 127.759,\n",
       "  'duration': 4.881},\n",
       " {'text': 'Roy Lee created a software called',\n",
       "  'start': 130.56,\n",
       "  'duration': 3.92},\n",
       " {'text': 'Interview Coder, which was specifically',\n",
       "  'start': 132.64,\n",
       "  'duration': 5.04},\n",
       " {'text': 'designed using AI to allow you to cheat',\n",
       "  'start': 134.48,\n",
       "  'duration': 5.28},\n",
       " {'text': 'in real time on technical coding',\n",
       "  'start': 137.68,\n",
       "  'duration': 4.0},\n",
       " {'text': 'interviews. And from a pure design',\n",
       "  'start': 139.76,\n",
       "  'duration': 3.44},\n",
       " {'text': \"technical standpoint, it's pretty\",\n",
       "  'start': 141.68,\n",
       "  'duration': 2.96},\n",
       " {'text': \"impressive. Now, I don't condone\",\n",
       "  'start': 143.2,\n",
       "  'duration': 3.36},\n",
       " {'text': \"cheating. I don't condone using it, but\",\n",
       "  'start': 144.64,\n",
       "  'duration': 3.76},\n",
       " {'text': 'I do have to acknowledge when I saw the',\n",
       "  'start': 146.56,\n",
       "  'duration': 4.399},\n",
       " {'text': 'demos, my mind was boggled. So, by',\n",
       "  'start': 148.4,\n",
       "  'duration': 4.32},\n",
       " {'text': 'design, the tool sits on top of your',\n",
       "  'start': 150.959,\n",
       "  'duration': 3.121},\n",
       " {'text': 'screen, and when you feed it a', 'start': 152.72, 'duration': 3.28},\n",
       " {'text': 'screenshot of a lead code problem, it',\n",
       "  'start': 154.08,\n",
       "  'duration': 4.96},\n",
       " {'text': 'feeds it into the LLM and generates a',\n",
       "  'start': 156.0,\n",
       "  'duration': 5.519},\n",
       " {'text': 'solution for you. Think of chat GPT, but',\n",
       "  'start': 159.04,\n",
       "  'duration': 5.36},\n",
       " {'text': 'specifically designed and optimized for',\n",
       "  'start': 161.519,\n",
       "  'duration': 5.121},\n",
       " {'text': 'technical interviews. And for the user,',\n",
       "  'start': 164.4,\n",
       "  'duration': 4.32},\n",
       " {'text': \"to make sure you aren't staring at one\",\n",
       "  'start': 166.64,\n",
       "  'duration': 4.08},\n",
       " {'text': 'area of the screen for too long, because',\n",
       "  'start': 168.72,\n",
       "  'duration': 3.599},\n",
       " {'text': 'that would look unnatural and', 'start': 170.72, 'duration': 3.28},\n",
       " {'text': 'suspicious, the software actually moves',\n",
       "  'start': 172.319,\n",
       "  'duration': 3.361},\n",
       " {'text': 'around to keep your eyes naturally',\n",
       "  'start': 174.0,\n",
       "  'duration': 3.519},\n",
       " {'text': \"moving, so no one can detect that you're\",\n",
       "  'start': 175.68,\n",
       "  'duration': 3.52},\n",
       " {'text': 'cheating. And the best part of all of',\n",
       "  'start': 177.519,\n",
       "  'duration': 4.161},\n",
       " {'text': 'this is that Roy actually proved it',\n",
       "  'start': 179.2,\n",
       "  'duration': 4.399},\n",
       " {'text': 'worked. Roy used it on his own technical',\n",
       "  'start': 181.68,\n",
       "  'duration': 3.68},\n",
       " {'text': 'coding interviews at companies like',\n",
       "  'start': 183.599,\n",
       "  'duration': 4.081},\n",
       " {'text': 'Amazon, Meta, and Tik Tok. And he got',\n",
       "  'start': 185.36,\n",
       "  'duration': 4.159},\n",
       " {'text': 'those high-paying offers. He passed the',\n",
       "  'start': 187.68,\n",
       "  'duration': 3.68},\n",
       " {'text': 'interviews. But instead of just quietly',\n",
       "  'start': 189.519,\n",
       "  'duration': 4.0},\n",
       " {'text': 'accepting his offers, he decided to show',\n",
       "  'start': 191.36,\n",
       "  'duration': 4.48},\n",
       " {'text': 'the whole world how he did it. He made a',\n",
       "  'start': 193.519,\n",
       "  'duration': 4.72},\n",
       " {'text': 'very detailed YouTube video showing how',\n",
       "  'start': 195.84,\n",
       "  'duration': 4.72},\n",
       " {'text': 'his software cheated the Amazon coding',\n",
       "  'start': 198.239,\n",
       "  'duration': 3.841},\n",
       " {'text': 'interview. And tech companies were',\n",
       "  'start': 200.56,\n",
       "  'duration': 4.399},\n",
       " {'text': 'furious. I mean obviously Amazon, Meta,',\n",
       "  'start': 202.08,\n",
       "  'duration': 4.799},\n",
       " {'text': 'Tik Tok all rescended his offers',\n",
       "  'start': 204.959,\n",
       "  'duration': 4.401},\n",
       " {'text': 'blacklisting him and Amazon specifically',\n",
       "  'start': 206.879,\n",
       "  'duration': 5.121},\n",
       " {'text': 'asked Colombia to kick him out of the',\n",
       "  'start': 209.36,\n",
       "  'duration': 4.159},\n",
       " {'text': 'university threatening that they',\n",
       "  'start': 212.0,\n",
       "  'duration': 3.519},\n",
       " {'text': \"wouldn't hire any of the Colombia\",\n",
       "  'start': 213.519,\n",
       "  'duration': 4.0},\n",
       " {'text': 'students into Amazon ever again. So',\n",
       "  'start': 215.519,\n",
       "  'duration': 4.321},\n",
       " {'text': 'obviously Colombia obliged and Roy was',\n",
       "  'start': 217.519,\n",
       "  'duration': 4.961},\n",
       " {'text': 'kicked out. But regardless, he started a',\n",
       "  'start': 219.84,\n",
       "  'duration': 4.72},\n",
       " {'text': \"movement and he's been successful. Not\",\n",
       "  'start': 222.48,\n",
       "  'duration': 4.64},\n",
       " {'text': 'only did he expose tech interviews, his',\n",
       "  'start': 224.56,\n",
       "  'duration': 4.72},\n",
       " {'text': 'company, Interview Coder, is on track',\n",
       "  'start': 227.12,\n",
       "  'duration': 5.28},\n",
       " {'text': 'for $2 million annual recurring revenue.',\n",
       "  'start': 229.28,\n",
       "  'duration': 4.56},\n",
       " {'text': \"So, he doesn't even need those\", 'start': 232.4, 'duration': 3.52},\n",
       " {'text': 'high-paying tech job offers. Plus, he',\n",
       "  'start': 233.84,\n",
       "  'duration': 4.56},\n",
       " {'text': 'raised another $5.3 million in creating',\n",
       "  'start': 235.92,\n",
       "  'duration': 4.56},\n",
       " {'text': 'another company called Cluey that is',\n",
       "  'start': 238.4,\n",
       "  'duration': 4.559},\n",
       " {'text': 'designed to cheat on everything. So, for',\n",
       "  'start': 240.48,\n",
       "  'duration': 4.24},\n",
       " {'text': 'him, taking down tech interviews was',\n",
       "  'start': 242.959,\n",
       "  'duration': 3.92},\n",
       " {'text': 'just step one in his bucket list of',\n",
       "  'start': 244.72,\n",
       "  'duration': 3.92},\n",
       " {'text': 'cheating. The second problem with Leap',\n",
       "  'start': 246.879,\n",
       "  'duration': 4.481},\n",
       " {'text': 'Code is it just flat out sucks. And this',\n",
       "  'start': 248.64,\n",
       "  'duration': 4.4},\n",
       " {'text': 'is part of the reason why Roy even',\n",
       "  'start': 251.36,\n",
       "  'duration': 3.519},\n",
       " {'text': 'created his software. So, as a software',\n",
       "  'start': 253.04,\n",
       "  'duration': 3.84},\n",
       " {'text': 'engineer myself, for many years in my',\n",
       "  'start': 254.879,\n",
       "  'duration': 4.161},\n",
       " {'text': 'day-to-day job, I am building', 'start': 256.88, 'duration': 4.319},\n",
       " {'text': \"applications. I've been writing API\",\n",
       "  'start': 259.04,\n",
       "  'duration': 3.84},\n",
       " {'text': \"endpoints. I'm constructing software\",\n",
       "  'start': 261.199,\n",
       "  'duration': 3.841},\n",
       " {'text': 'that will be put out into the world. Not',\n",
       "  'start': 262.88,\n",
       "  'duration': 3.92},\n",
       " {'text': 'once on my job have I ever been asked,',\n",
       "  'start': 265.04,\n",
       "  'duration': 3.439},\n",
       " {'text': 'can you reverse a link list? Can you',\n",
       "  'start': 266.8,\n",
       "  'duration': 3.44},\n",
       " {'text': 'find the minimum substring in this',\n",
       "  'start': 268.479,\n",
       "  'duration': 3.921},\n",
       " {'text': 'array? Because truthfully, leap code has',\n",
       "  'start': 270.24,\n",
       "  'duration': 3.92},\n",
       " {'text': 'nothing to do with being a good software',\n",
       "  'start': 272.4,\n",
       "  'duration': 3.2},\n",
       " {'text': 'engineer. And I want you to think about',\n",
       "  'start': 274.16,\n",
       "  'duration': 3.28},\n",
       " {'text': 'it like this. Hypothetically, just',\n",
       "  'start': 275.6,\n",
       "  'duration': 4.4},\n",
       " {'text': 'because I eat a lot of protein and I can',\n",
       "  'start': 277.44,\n",
       "  'duration': 5.199},\n",
       " {'text': 'lift 225 pounds on the bench, that does',\n",
       "  'start': 280.0,\n",
       "  'duration': 4.96},\n",
       " {'text': \"not mean I'm ready to play professional\",\n",
       "  'start': 282.639,\n",
       "  'duration': 4.401},\n",
       " {'text': 'football and be in the NFL. Now, it',\n",
       "  'start': 284.96,\n",
       "  'duration': 4.16},\n",
       " {'text': 'might help me to be strong and muscular',\n",
       "  'start': 287.04,\n",
       "  'duration': 4.0},\n",
       " {'text': 'if I want to be in the NFL. And maybe if',\n",
       "  'start': 289.12,\n",
       "  'duration': 4.48},\n",
       " {'text': 'I could only bench 100 pounds, that',\n",
       "  'start': 291.04,\n",
       "  'duration': 4.719},\n",
       " {'text': 'might hurt me from being in the NFL, but',\n",
       "  'start': 293.6,\n",
       "  'duration': 4.8},\n",
       " {'text': \"it's a logical fallacy to assume the\",\n",
       "  'start': 295.759,\n",
       "  'duration': 4.801},\n",
       " {'text': 'reverse. So, just cuz someone is really',\n",
       "  'start': 298.4,\n",
       "  'duration': 4.64},\n",
       " {'text': 'good at solving logical puzzles on leak',\n",
       "  'start': 300.56,\n",
       "  'duration': 4.24},\n",
       " {'text': 'code, that does not mean they are a good',\n",
       "  'start': 303.04,\n",
       "  'duration': 3.28},\n",
       " {'text': \"software engineer. Imagine there's\",\n",
       "  'start': 304.8,\n",
       "  'duration': 3.679},\n",
       " {'text': 'someone who can throw, catch, and run',\n",
       "  'start': 306.32,\n",
       "  'duration': 4.159},\n",
       " {'text': 'the football at a professional NFL',\n",
       "  'start': 308.479,\n",
       "  'duration': 3.921},\n",
       " {'text': 'level, but because they can only bench',\n",
       "  'start': 310.479,\n",
       "  'duration': 5.201},\n",
       " {'text': '215 lbs for some reason, versus me, if I',\n",
       "  'start': 312.4,\n",
       "  'duration': 5.84},\n",
       " {'text': \"can bench 225 lbs, but I can't catch a\",\n",
       "  'start': 315.68,\n",
       "  'duration': 4.16},\n",
       " {'text': 'football for the life of me, I should',\n",
       "  'start': 318.24,\n",
       "  'duration': 3.44},\n",
       " {'text': 'not be allowed to make it into the NFL.',\n",
       "  'start': 319.84,\n",
       "  'duration': 3.76},\n",
       " {'text': 'But unfortunately, with the way the',\n",
       "  'start': 321.68,\n",
       "  'duration': 4.239},\n",
       " {'text': 'system is designed, tech companies care',\n",
       "  'start': 323.6,\n",
       "  'duration': 5.36},\n",
       " {'text': 'far more about your weightlifting, i.e.',\n",
       "  'start': 325.919,\n",
       "  'duration': 4.961},\n",
       " {'text': 'the leak code, than your ability to',\n",
       "  'start': 328.96,\n",
       "  'duration': 4.0},\n",
       " {'text': 'create software applications and be a',\n",
       "  'start': 330.88,\n",
       "  'duration': 3.92},\n",
       " {'text': 'good software engineer. or at least they',\n",
       "  'start': 332.96,\n",
       "  'duration': 4.239},\n",
       " {'text': 'used to and thankfully things are taking',\n",
       "  'start': 334.8,\n",
       "  'duration': 4.239},\n",
       " {'text': 'a change. So although for the most part',\n",
       "  'start': 337.199,\n",
       "  'duration': 3.681},\n",
       " {'text': 'big tech companies still care a lot',\n",
       "  'start': 339.039,\n",
       "  'duration': 4.321},\n",
       " {'text': 'about lead code on a micro level a lot',\n",
       "  'start': 340.88,\n",
       "  'duration': 4.24},\n",
       " {'text': \"of startups don't even use it. Matter of\",\n",
       "  'start': 343.36,\n",
       "  'duration': 3.279},\n",
       " {'text': 'fact startups because they are super',\n",
       "  'start': 345.12,\n",
       "  'duration': 3.2},\n",
       " {'text': \"tight on their budget they can't afford\",\n",
       "  'start': 346.639,\n",
       "  'duration': 3.681},\n",
       " {'text': \"to make a wrong hire. They can't afford\",\n",
       "  'start': 348.32,\n",
       "  'duration': 4.159},\n",
       " {'text': 'to do brain teaser interviews. They want',\n",
       "  'start': 350.32,\n",
       "  'duration': 4.159},\n",
       " {'text': 'to assess you based on your actual',\n",
       "  'start': 352.479,\n",
       "  'duration': 3.921},\n",
       " {'text': 'software engineering skills because that',\n",
       "  'start': 354.479,\n",
       "  'duration': 3.921},\n",
       " {'text': 'is what will be directly useful for them',\n",
       "  'start': 356.4,\n",
       "  'duration': 3.76},\n",
       " {'text': 'on the job. One time I actually did an',\n",
       "  'start': 358.4,\n",
       "  'duration': 3.44},\n",
       " {'text': 'interview for a startup and they were',\n",
       "  'start': 360.16,\n",
       "  'duration': 3.84},\n",
       " {'text': 'building a product that could write full',\n",
       "  'start': 361.84,\n",
       "  'duration': 4.72},\n",
       " {'text': 'applications using pure Python for',\n",
       "  'start': 364.0,\n",
       "  'duration': 4.0},\n",
       " {'text': 'front-end, backend, full stack',\n",
       "  'start': 366.56,\n",
       "  'duration': 4.079},\n",
       " {'text': 'performance. No HTML, CSS, JavaScript,',\n",
       "  'start': 368.0,\n",
       "  'duration': 4.319},\n",
       " {'text': 'none of that. Only Python. And when I',\n",
       "  'start': 370.639,\n",
       "  'duration': 3.441},\n",
       " {'text': \"got this interview opportunity, I didn't\",\n",
       "  'start': 372.319,\n",
       "  'duration': 4.0},\n",
       " {'text': 'even bother to open up Leap Code cuz I',\n",
       "  'start': 374.08,\n",
       "  'duration': 3.44},\n",
       " {'text': \"knew it wasn't going to be useful.\",\n",
       "  'start': 376.319,\n",
       "  'duration': 2.72},\n",
       " {'text': 'Matter of fact, the way the interview',\n",
       "  'start': 377.52,\n",
       "  'duration': 3.2},\n",
       " {'text': 'went, I joined the call and then the',\n",
       "  'start': 379.039,\n",
       "  'duration': 4.16},\n",
       " {'text': 'engineer, the interviewer basically',\n",
       "  'start': 380.72,\n",
       "  'duration': 4.96},\n",
       " {'text': 'verbally described some features they',\n",
       "  'start': 383.199,\n",
       "  'duration': 4.081},\n",
       " {'text': 'had developed in their product in the',\n",
       "  'start': 385.68,\n",
       "  'duration': 4.0},\n",
       " {'text': 'past. Then they asked me to code up the',\n",
       "  'start': 387.28,\n",
       "  'duration': 4.479},\n",
       " {'text': 'internal implementation. Obviously, they',\n",
       "  'start': 389.68,\n",
       "  'duration': 4.4},\n",
       " {'text': \"won't show me their actual codebase, but\",\n",
       "  'start': 391.759,\n",
       "  'duration': 4.88},\n",
       " {'text': 'the interview was designed to be a near',\n",
       "  'start': 394.08,\n",
       "  'duration': 4.48},\n",
       " {'text': 'exact on the job performance. And this',\n",
       "  'start': 396.639,\n",
       "  'duration': 3.521},\n",
       " {'text': \"wasn't the only startup. I recently\",\n",
       "  'start': 398.56,\n",
       "  'duration': 3.44},\n",
       " {'text': 'talked to another founder and he said',\n",
       "  'start': 400.16,\n",
       "  'duration': 3.599},\n",
       " {'text': 'for interviews, they actually treat it',\n",
       "  'start': 402.0,\n",
       "  'duration': 4.24},\n",
       " {'text': 'as a short-term 5-day long contract.',\n",
       "  'start': 403.759,\n",
       "  'duration': 4.72},\n",
       " {'text': 'They asked candidates, hey, develop this',\n",
       "  'start': 406.24,\n",
       "  'duration': 4.56},\n",
       " {'text': 'one feature end to end. We will pay you',\n",
       "  'start': 408.479,\n",
       "  'duration': 4.401},\n",
       " {'text': \"for this project and if it's good, we'll\",\n",
       "  'start': 410.8,\n",
       "  'duration': 3.92},\n",
       " {'text': \"hire you full-time. And it's in both\",\n",
       "  'start': 412.88,\n",
       "  'duration': 3.84},\n",
       " {'text': 'parties interest that this works out',\n",
       "  'start': 414.72,\n",
       "  'duration': 3.919},\n",
       " {'text': 'because the founders basically get one',\n",
       "  'start': 416.72,\n",
       "  'duration': 3.52},\n",
       " {'text': 'of their features done. The candidate',\n",
       "  'start': 418.639,\n",
       "  'duration': 3.441},\n",
       " {'text': 'can show off their skills in the best',\n",
       "  'start': 420.24,\n",
       "  'duration': 4.0},\n",
       " {'text': \"way possible and it's completely fair\",\n",
       "  'start': 422.08,\n",
       "  'duration': 4.08},\n",
       " {'text': 'because it sets job expectation', 'start': 424.24, 'duration': 4.0},\n",
       " {'text': 'standards from there and the candidate',\n",
       "  'start': 426.16,\n",
       "  'duration': 4.319},\n",
       " {'text': 'gets paid. So this is the true win-win',\n",
       "  'start': 428.24,\n",
       "  'duration': 3.76},\n",
       " {'text': 'scenario that lead code was striving to',\n",
       "  'start': 430.479,\n",
       "  'duration': 3.521},\n",
       " {'text': 'be. Plus startup interviews they',\n",
       "  'start': 432.0,\n",
       "  'duration': 4.24},\n",
       " {'text': 'actually recommend that you use AI or',\n",
       "  'start': 434.0,\n",
       "  'duration': 4.0},\n",
       " {'text': 'any tools that you would have access to',\n",
       "  'start': 436.24,\n",
       "  'duration': 3.76},\n",
       " {'text': 'on the job because if it helps you write',\n",
       "  'start': 438.0,\n",
       "  'duration': 3.919},\n",
       " {'text': \"better software once again that's a\",\n",
       "  'start': 440.0,\n",
       "  'duration': 3.44},\n",
       " {'text': \"win-win. So if you're trying to prepare\",\n",
       "  'start': 441.919,\n",
       "  'duration': 3.521},\n",
       " {'text': 'for this new style of interview, forget',\n",
       "  'start': 443.44,\n",
       "  'duration': 4.319},\n",
       " {'text': 'grinding leap code and focus on building',\n",
       "  'start': 445.44,\n",
       "  'duration': 4.4},\n",
       " {'text': 'real things. Start by using AI tools',\n",
       "  'start': 447.759,\n",
       "  'duration': 4.88},\n",
       " {'text': 'like GitHub C-Pilot, Cursor or Warp to',\n",
       "  'start': 449.84,\n",
       "  'duration': 4.639},\n",
       " {'text': 'accelerate your coding workflow and work',\n",
       "  'start': 452.639,\n",
       "  'duration': 3.84},\n",
       " {'text': 'smarter. Use platforms like Replet or',\n",
       "  'start': 454.479,\n",
       "  'duration': 4.16},\n",
       " {'text': 'Versel to quickly develop full stack',\n",
       "  'start': 456.479,\n",
       "  'duration': 4.481},\n",
       " {'text': 'applications. But whatever you do, make',\n",
       "  'start': 458.639,\n",
       "  'duration': 4.96},\n",
       " {'text': 'sure to build projects that solve actual',\n",
       "  'start': 460.96,\n",
       "  'duration': 4.239},\n",
       " {'text': 'problems, not just another coding',\n",
       "  'start': 463.599,\n",
       "  'duration': 3.121},\n",
       " {'text': 'project for the sake of doing a coding',\n",
       "  'start': 465.199,\n",
       "  'duration': 3.761},\n",
       " {'text': 'project. I am tired of to-do list apps.',\n",
       "  'start': 466.72,\n",
       "  'duration': 3.68},\n",
       " {'text': 'Oh, but what if I have no idea what',\n",
       "  'start': 468.96,\n",
       "  'duration': 3.359},\n",
       " {'text': 'coding project I can do? Try this. Go to',\n",
       "  'start': 470.4,\n",
       "  'duration': 4.0},\n",
       " {'text': 'a local mom and pop store and ask them,',\n",
       "  'start': 472.319,\n",
       "  'duration': 4.481},\n",
       " {'text': '\"Is there any annoying, time-consuming',\n",
       "  'start': 474.4,\n",
       "  'duration': 4.4},\n",
       " {'text': 'things that you do every day?\" You\\'d be',\n",
       "  'start': 476.8,\n",
       "  'duration': 3.839},\n",
       " {'text': 'surprised. A lot of small non- tech',\n",
       "  'start': 478.8,\n",
       "  'duration': 3.92},\n",
       " {'text': 'business owners still use pen and paper',\n",
       "  'start': 480.639,\n",
       "  'duration': 4.481},\n",
       " {'text': 'for inventory or manually typing out',\n",
       "  'start': 482.72,\n",
       "  'duration': 4.4},\n",
       " {'text': 'customer emails. A simple AI project',\n",
       "  'start': 485.12,\n",
       "  'duration': 3.759},\n",
       " {'text': 'could be building a chatbot that',\n",
       "  'start': 487.12,\n",
       "  'duration': 3.519},\n",
       " {'text': 'automatically replies to common customer',\n",
       "  'start': 488.879,\n",
       "  'duration': 4.88},\n",
       " {'text': 'questions using website FAQ, or creating',\n",
       "  'start': 490.639,\n",
       "  'duration': 5.921},\n",
       " {'text': 'a tool that uses OCR to scan handwritten',\n",
       "  'start': 493.759,\n",
       "  'duration': 5.44},\n",
       " {'text': 'receipts and log inventory into Google',\n",
       "  'start': 496.56,\n",
       "  'duration': 4.16},\n",
       " {'text': \"Sheets. Or if you're a student in\",\n",
       "  'start': 499.199,\n",
       "  'duration': 3.68},\n",
       " {'text': 'university, go to a non-technical club',\n",
       "  'start': 500.72,\n",
       "  'duration': 4.64},\n",
       " {'text': 'like a cultural org, business frat, or',\n",
       "  'start': 502.879,\n",
       "  'duration': 4.88},\n",
       " {'text': 'volunteer group and identify problems.',\n",
       "  'start': 505.36,\n",
       "  'duration': 4.16},\n",
       " {'text': \"Maybe they're manually collecting dues,\",\n",
       "  'start': 507.759,\n",
       "  'duration': 3.521},\n",
       " {'text': 'tracking attendance in spreadsheets, or',\n",
       "  'start': 509.52,\n",
       "  'duration': 3.6},\n",
       " {'text': 'sending out weekly event reminders. A',\n",
       "  'start': 511.28,\n",
       "  'duration': 3.52},\n",
       " {'text': 'simple project could be building a',\n",
       "  'start': 513.12,\n",
       "  'duration': 3.919},\n",
       " {'text': 'Google calendar autosync tool, an event',\n",
       "  'start': 514.8,\n",
       "  'duration': 5.119},\n",
       " {'text': 'RSVP tracker, or even a custom GPT that',\n",
       "  'start': 517.039,\n",
       "  'duration': 5.041},\n",
       " {'text': 'helps draft emails and social posts. You',\n",
       "  'start': 519.919,\n",
       "  'duration': 4.561},\n",
       " {'text': 'can use Zapier, Open AI, and Google',\n",
       "  'start': 522.08,\n",
       "  'duration': 4.16},\n",
       " {'text': 'Appcript to create something pretty',\n",
       "  'start': 524.48,\n",
       "  'duration': 3.84},\n",
       " {'text': \"quickly in like a weekend. Again, it's\",\n",
       "  'start': 526.24,\n",
       "  'duration': 3.599},\n",
       " {'text': 'not about the actual code that you',\n",
       "  'start': 528.32,\n",
       "  'duration': 3.68},\n",
       " {'text': 'write, but rather the problem-solving',\n",
       "  'start': 529.839,\n",
       "  'duration': 4.241},\n",
       " {'text': \"skills since that's exactly what hiring\",\n",
       "  'start': 532.0,\n",
       "  'duration': 4.0},\n",
       " {'text': 'managers want to see. And maybe through',\n",
       "  'start': 534.08,\n",
       "  'duration': 3.759},\n",
       " {'text': 'your search of solving real world',\n",
       "  'start': 536.0,\n",
       "  'duration': 3.76},\n",
       " {'text': 'problems, you might accidentally create',\n",
       "  'start': 537.839,\n",
       "  'duration': 3.921},\n",
       " {'text': \"a startup. Just make sure it's not built\",\n",
       "  'start': 539.76,\n",
       "  'duration': 3.44},\n",
       " {'text': 'to help people cheat. The second way',\n",
       "  'start': 541.76,\n",
       "  'duration': 3.84},\n",
       " {'text': 'interviews are changing is by using more',\n",
       "  'start': 543.2,\n",
       "  'duration': 4.639},\n",
       " {'text': 'system design. And this is an area where',\n",
       "  'start': 545.6,\n",
       "  'duration': 4.16},\n",
       " {'text': \"AI can't really do a lot of cheating for\",\n",
       "  'start': 547.839,\n",
       "  'duration': 3.921},\n",
       " {'text': 'you because it involves a lot of human',\n",
       "  'start': 549.76,\n",
       "  'duration': 3.759},\n",
       " {'text': 'reflection and conversation. For those',\n",
       "  'start': 551.76,\n",
       "  'duration': 3.36},\n",
       " {'text': \"who don't know, system design is pretty\",\n",
       "  'start': 553.519,\n",
       "  'duration': 3.041},\n",
       " {'text': 'much a type of interview that is',\n",
       "  'start': 555.12,\n",
       "  'duration': 3.2},\n",
       " {'text': 'traditionally given to senior level',\n",
       "  'start': 556.56,\n",
       "  'duration': 3.68},\n",
       " {'text': 'engineers. And the questions could go',\n",
       "  'start': 558.32,\n",
       "  'duration': 4.16},\n",
       " {'text': 'something like, if you had to design the',\n",
       "  'start': 560.24,\n",
       "  'duration': 4.64},\n",
       " {'text': 'architecture of a company like Netflix',\n",
       "  'start': 562.48,\n",
       "  'duration': 4.56},\n",
       " {'text': 'or Spotify, how would you go about it?',\n",
       "  'start': 564.88,\n",
       "  'duration': 3.84},\n",
       " {'text': 'Someone might start by asking, would you',\n",
       "  'start': 567.04,\n",
       "  'duration': 4.16},\n",
       " {'text': 'use AWS as your cloud provider? And then',\n",
       "  'start': 568.72,\n",
       "  'duration': 4.32},\n",
       " {'text': 'dive into choices around storage,',\n",
       "  'start': 571.2,\n",
       "  'duration': 4.0},\n",
       " {'text': 'latency, availability zones, and caching',\n",
       "  'start': 573.04,\n",
       "  'duration': 3.68},\n",
       " {'text': 'strategies. Then they might follow up',\n",
       "  'start': 575.2,\n",
       "  'duration': 3.28},\n",
       " {'text': 'with a scenario like, what would you do',\n",
       "  'start': 576.72,\n",
       "  'duration': 3.84},\n",
       " {'text': \"if there's a sudden traffic spike? to\",\n",
       "  'start': 578.48,\n",
       "  'duration': 3.84},\n",
       " {'text': 'which someone would respond by saying',\n",
       "  'start': 580.56,\n",
       "  'duration': 4.08},\n",
       " {'text': 'you would scale horizontally using load',\n",
       "  'start': 582.32,\n",
       "  'duration': 4.079},\n",
       " {'text': 'balancers, autoscaling groups, and',\n",
       "  'start': 584.64,\n",
       "  'duration': 3.759},\n",
       " {'text': 'possibly a content delivery network to',\n",
       "  'start': 586.399,\n",
       "  'duration': 3.521},\n",
       " {'text': 'distribute the load efficiently. And',\n",
       "  'start': 588.399,\n",
       "  'duration': 3.041},\n",
       " {'text': 'although sure, you could technically',\n",
       "  'start': 589.92,\n",
       "  'duration': 3.599},\n",
       " {'text': \"cheat in this, it's much more difficult\",\n",
       "  'start': 591.44,\n",
       "  'duration': 3.519},\n",
       " {'text': \"because it's more of a conversation\",\n",
       "  'start': 593.519,\n",
       "  'duration': 2.961},\n",
       " {'text': \"where you're talking about the design of\",\n",
       "  'start': 594.959,\n",
       "  'duration': 3.361},\n",
       " {'text': \"things, not just here's a question and\",\n",
       "  'start': 596.48,\n",
       "  'duration': 3.359},\n",
       " {'text': \"here's an answer. Plus, there are a lot\",\n",
       "  'start': 598.32,\n",
       "  'duration': 3.76},\n",
       " {'text': 'of follow-ups and intricacies. For each',\n",
       "  'start': 599.839,\n",
       "  'duration': 4.961},\n",
       " {'text': 'design choice in storage or availability',\n",
       "  'start': 602.08,\n",
       "  'duration': 4.879},\n",
       " {'text': 'zones, you need to defend your answer.',\n",
       "  'start': 604.8,\n",
       "  'duration': 3.44},\n",
       " {'text': 'And usually, there are a ton of',\n",
       "  'start': 606.959,\n",
       "  'duration': 3.281},\n",
       " {'text': 'curveball questions, too. Sometimes the',\n",
       "  'start': 608.24,\n",
       "  'duration': 4.48},\n",
       " {'text': 'interviewer might ask you to defend an',\n",
       "  'start': 610.24,\n",
       "  'duration': 4.64},\n",
       " {'text': 'incorrect answer for which you would',\n",
       "  'start': 612.72,\n",
       "  'duration': 4.64},\n",
       " {'text': \"have to identify hey that's wrong and\",\n",
       "  'start': 614.88,\n",
       "  'duration': 4.8},\n",
       " {'text': 'explain why. For example, if I ask why',\n",
       "  'start': 617.36,\n",
       "  'duration': 4.32},\n",
       " {'text': 'is the sky pink? You would have had to',\n",
       "  'start': 619.68,\n",
       "  'duration': 3.52},\n",
       " {'text': 'have been knowledgeable enough to',\n",
       "  'start': 621.68,\n",
       "  'duration': 4.32},\n",
       " {'text': 'actually say actually the sky is blue',\n",
       "  'start': 623.2,\n",
       "  'duration': 4.639},\n",
       " {'text': \"and here's the science around it. And if\",\n",
       "  'start': 626.0,\n",
       "  'duration': 3.839},\n",
       " {'text': \"you're using AI for all of this, trust\",\n",
       "  'start': 627.839,\n",
       "  'duration': 3.601},\n",
       " {'text': 'me, you will run into some', 'start': 629.839, 'duration': 3.601},\n",
       " {'text': 'hallucination, some incorrect answer',\n",
       "  'start': 631.44,\n",
       "  'duration': 3.6},\n",
       " {'text': 'during the interview and you might have',\n",
       "  'start': 633.44,\n",
       "  'duration': 3.36},\n",
       " {'text': 'your own latencies and throughput',\n",
       "  'start': 635.04,\n",
       "  'duration': 3.12},\n",
       " {'text': 'limitations. If you understood that',\n",
       "  'start': 636.8,\n",
       "  'duration': 2.96},\n",
       " {'text': 'joke, leave a comment down below. And if',\n",
       "  'start': 638.16,\n",
       "  'duration': 2.799},\n",
       " {'text': \"you're preparing for system design\",\n",
       "  'start': 639.76,\n",
       "  'duration': 2.8},\n",
       " {'text': 'interviews, I recommend starting with',\n",
       "  'start': 640.959,\n",
       "  'duration': 3.841},\n",
       " {'text': 'groing the system design interview or',\n",
       "  'start': 642.56,\n",
       "  'duration': 4.24},\n",
       " {'text': 'designing data inensive applications.',\n",
       "  'start': 644.8,\n",
       "  'duration': 3.84},\n",
       " {'text': 'After that, try doing mock interviews on',\n",
       "  'start': 646.8,\n",
       "  'duration': 4.08},\n",
       " {'text': 'platforms like interviewing.io where you',\n",
       "  'start': 648.64,\n",
       "  'duration': 5.6},\n",
       " {'text': 'get that realworld Google Amazinesesque',\n",
       "  'start': 650.88,\n",
       "  'duration': 5.44},\n",
       " {'text': 'type interview experience. And once',\n",
       "  'start': 654.24,\n",
       "  'duration': 3.92},\n",
       " {'text': \"you're comfortable with that, try diving\",\n",
       "  'start': 656.32,\n",
       "  'duration': 3.759},\n",
       " {'text': 'into real world system walkthroughs on',\n",
       "  'start': 658.16,\n",
       "  'duration': 4.0},\n",
       " {'text': 'YouTube channels like Bite My Go. And if',\n",
       "  'start': 660.079,\n",
       "  'duration': 4.0},\n",
       " {'text': 'you want a solid free resource to help',\n",
       "  'start': 662.16,\n",
       "  'duration': 3.76},\n",
       " {'text': 'you out with all of this, check the link',\n",
       "  'start': 664.079,\n",
       "  'duration': 3.601},\n",
       " {'text': \"down below in the description. I'll have\",\n",
       "  'start': 665.92,\n",
       "  'duration': 3.12},\n",
       " {'text': \"something ready for you. Well, that's\",\n",
       "  'start': 667.68,\n",
       "  'duration': 2.719},\n",
       " {'text': 'about all I have in this video. I really',\n",
       "  'start': 669.04,\n",
       "  'duration': 2.64},\n",
       " {'text': 'hope that you guys enjoyed it. And if',\n",
       "  'start': 670.399,\n",
       "  'duration': 2.321},\n",
       " {'text': 'you did, make sure to hit the like',\n",
       "  'start': 671.68,\n",
       "  'duration': 2.24},\n",
       " {'text': \"button, subscribe if you haven't\",\n",
       "  'start': 672.72,\n",
       "  'duration': 2.88},\n",
       " {'text': \"already. If you're interested in my free\",\n",
       "  'start': 673.92,\n",
       "  'duration': 3.76},\n",
       " {'text': 'tech newsletter, link will be down below',\n",
       "  'start': 675.6,\n",
       "  'duration': 3.6},\n",
       " {'text': \"in the description. And if you're\",\n",
       "  'start': 677.68,\n",
       "  'duration': 2.96},\n",
       " {'text': 'interested in what software engineers',\n",
       "  'start': 679.2,\n",
       "  'duration': 3.199},\n",
       " {'text': 'actually do on a day-to-day basis, you',\n",
       "  'start': 680.64,\n",
       "  'duration': 3.199},\n",
       " {'text': 'might want to watch this video right',\n",
       "  'start': 682.399,\n",
       "  'duration': 4.081},\n",
       " {'text': 'here.', 'start': 683.839, 'duration': 2.641}]"
      ]
     },
     "execution_count": 5,
     "metadata": {},
     "output_type": "execute_result"
    }
   ],
   "source": [
    "transcript_list"
   ]
  },
  {
   "cell_type": "markdown",
   "metadata": {
    "id": "eKkcYsaOCrRX"
   },
   "source": [
    "## Step 1b - Indexing (Text Splitting)"
   ]
  },
  {
   "cell_type": "code",
   "execution_count": 6,
   "metadata": {
    "executionInfo": {
     "elapsed": 20,
     "status": "ok",
     "timestamp": 1745235446670,
     "user": {
      "displayName": "CampusX",
      "userId": "17274569631252575216"
     },
     "user_tz": -330
    },
    "id": "24i-ZSVXFbnC"
   },
   "outputs": [],
   "source": [
    "splitter = RecursiveCharacterTextSplitter(chunk_size=1000, chunk_overlap=200)\n",
    "chunks = splitter.create_documents([transcript])"
   ]
  },
  {
   "cell_type": "code",
   "execution_count": 7,
   "metadata": {
    "colab": {
     "base_uri": "https://localhost:8080/"
    },
    "executionInfo": {
     "elapsed": 21,
     "status": "ok",
     "timestamp": 1745235449014,
     "user": {
      "displayName": "CampusX",
      "userId": "17274569631252575216"
     },
     "user_tz": -330
    },
    "id": "4Dm9sfpQFnF1",
    "outputId": "7b9bea3d-b5a4-47f1-f793-16b6bfdd6a7b"
   },
   "outputs": [
    {
     "data": {
      "text/plain": [
       "17"
      ]
     },
     "execution_count": 7,
     "metadata": {},
     "output_type": "execute_result"
    }
   ],
   "source": [
    "len(chunks)"
   ]
  },
  {
   "cell_type": "code",
   "execution_count": 8,
   "metadata": {
    "colab": {
     "base_uri": "https://localhost:8080/"
    },
    "executionInfo": {
     "elapsed": 13,
     "status": "ok",
     "timestamp": 1745235470518,
     "user": {
      "displayName": "CampusX",
      "userId": "17274569631252575216"
     },
     "user_tz": -330
    },
    "id": "mYlrcBrkFO-N",
    "outputId": "b6e33df4-c8a2-4c2d-f929-4af59774bd94"
   },
   "outputs": [
    {
     "data": {
      "text/plain": [
       "Document(metadata={}, page_content='and the candidate gets paid. So this is the true win-win scenario that lead code was striving to be. Plus startup interviews they actually recommend that you use AI or any tools that you would have access to on the job because if it helps you write better software once again that\\'s a win-win. So if you\\'re trying to prepare for this new style of interview, forget grinding leap code and focus on building real things. Start by using AI tools like GitHub C-Pilot, Cursor or Warp to accelerate your coding workflow and work smarter. Use platforms like Replet or Versel to quickly develop full stack applications. But whatever you do, make sure to build projects that solve actual problems, not just another coding project for the sake of doing a coding project. I am tired of to-do list apps. Oh, but what if I have no idea what coding project I can do? Try this. Go to a local mom and pop store and ask them, \"Is there any annoying, time-consuming things that you do every day?\" You\\'d be surprised.')"
      ]
     },
     "execution_count": 8,
     "metadata": {},
     "output_type": "execute_result"
    }
   ],
   "source": [
    "chunks[10]"
   ]
  },
  {
   "cell_type": "markdown",
   "metadata": {
    "id": "8xYFK7WXC2Ka"
   },
   "source": [
    "## Step 1c & 1d - Indexing (Embedding Generation and Storing in Vector Store)"
   ]
  },
  {
   "cell_type": "code",
   "execution_count": 9,
   "metadata": {
    "executionInfo": {
     "elapsed": 2382,
     "status": "ok",
     "timestamp": 1745235518958,
     "user": {
      "displayName": "CampusX",
      "userId": "17274569631252575216"
     },
     "user_tz": -330
    },
    "id": "jYXeS5T7FrC4"
   },
   "outputs": [],
   "source": [
    "embeddings = OpenAIEmbeddings(model=\"text-embedding-3-small\")\n",
    "vector_store = FAISS.from_documents(chunks, embeddings)"
   ]
  },
  {
   "cell_type": "code",
   "execution_count": 10,
   "metadata": {
    "colab": {
     "base_uri": "https://localhost:8080/"
    },
    "executionInfo": {
     "elapsed": 36,
     "status": "ok",
     "timestamp": 1745235520140,
     "user": {
      "displayName": "CampusX",
      "userId": "17274569631252575216"
     },
     "user_tz": -330
    },
    "id": "PWYkp-NmFSVF",
    "outputId": "36f75b4d-b798-4e06-aeea-5c56c91befe0"
   },
   "outputs": [
    {
     "data": {
      "text/plain": [
       "{0: '953ee627-500a-48d4-a978-68836df13651',\n",
       " 1: 'ad4d38e2-80e9-4f6a-bed5-5b40639d008c',\n",
       " 2: 'c5a2ba9c-948f-4680-b363-b3a6f907ee9f',\n",
       " 3: '7ddf9271-80b6-4055-870b-09e136b188c2',\n",
       " 4: 'a675f4c5-f443-43ca-8090-db4285c984b2',\n",
       " 5: '88b59ed8-61ad-44f9-90be-2143c2e2b724',\n",
       " 6: '7f622005-1015-4ffe-9644-c9dacbcea493',\n",
       " 7: '2b6be001-b23a-43d2-8912-04e6cf6af68e',\n",
       " 8: 'd1a38023-416d-45f3-a92d-2198f77226b2',\n",
       " 9: 'bc6a2a4a-8a26-448a-b909-0c8f1ded3422',\n",
       " 10: '1880639b-248c-48f8-928d-c39daffdd08a',\n",
       " 11: '67d67a17-4156-4661-bd8b-b0bd7324a34e',\n",
       " 12: '1348569f-f231-4e2a-9cdb-b54a54fb2e81',\n",
       " 13: '84d9875a-688a-41f7-9257-5188db75a71f',\n",
       " 14: '1474ee21-d000-4918-a07c-0e35f49dbd80',\n",
       " 15: '189e466c-28da-45c5-bb7c-bb7218d7edba',\n",
       " 16: '67e392ef-d4b8-4847-b534-8ee7a5fd72d4'}"
      ]
     },
     "execution_count": 10,
     "metadata": {},
     "output_type": "execute_result"
    }
   ],
   "source": [
    "vector_store.index_to_docstore_id"
   ]
  },
  {
   "cell_type": "code",
   "execution_count": 11,
   "metadata": {
    "colab": {
     "base_uri": "https://localhost:8080/"
    },
    "executionInfo": {
     "elapsed": 32,
     "status": "ok",
     "timestamp": 1745235542610,
     "user": {
      "displayName": "CampusX",
      "userId": "17274569631252575216"
     },
     "user_tz": -330
    },
    "id": "MxokTcWEGGAo",
    "outputId": "e05f7a2a-4cb1-4fb0-ba48-e6887877a260"
   },
   "outputs": [
    {
     "data": {
      "text/plain": [
       "[Document(id='189e466c-28da-45c5-bb7c-bb7218d7edba', metadata={}, page_content=\"latencies and throughput limitations. If you understood that joke, leave a comment down below. And if you're preparing for system design interviews, I recommend starting with groing the system design interview or designing data inensive applications. After that, try doing mock interviews on platforms like interviewing.io where you get that realworld Google Amazinesesque type interview experience. And once you're comfortable with that, try diving into real world system walkthroughs on YouTube channels like Bite My Go. And if you want a solid free resource to help you out with all of this, check the link down below in the description. I'll have something ready for you. Well, that's about all I have in this video. I really hope that you guys enjoyed it. And if you did, make sure to hit the like button, subscribe if you haven't already. If you're interested in my free tech newsletter, link will be down below in the description. And if you're interested in what software engineers actually\")]"
      ]
     },
     "execution_count": 11,
     "metadata": {},
     "output_type": "execute_result"
    }
   ],
   "source": [
    "vector_store.get_by_ids(['189e466c-28da-45c5-bb7c-bb7218d7edba'])"
   ]
  },
  {
   "cell_type": "markdown",
   "metadata": {
    "id": "Zez1650EDN9J"
   },
   "source": [
    "## Step 2 - Retrieval"
   ]
  },
  {
   "cell_type": "code",
   "execution_count": 12,
   "metadata": {
    "executionInfo": {
     "elapsed": 11,
     "status": "ok",
     "timestamp": 1745235840759,
     "user": {
      "displayName": "CampusX",
      "userId": "17274569631252575216"
     },
     "user_tz": -330
    },
    "id": "KEuoGUYOF3oG"
   },
   "outputs": [],
   "source": [
    "retriever = vector_store.as_retriever(search_type=\"similarity\", search_kwargs={\"k\": 4})"
   ]
  },
  {
   "cell_type": "code",
   "execution_count": 13,
   "metadata": {
    "colab": {
     "base_uri": "https://localhost:8080/"
    },
    "executionInfo": {
     "elapsed": 39,
     "status": "ok",
     "timestamp": 1745235842062,
     "user": {
      "displayName": "CampusX",
      "userId": "17274569631252575216"
     },
     "user_tz": -330
    },
    "id": "Qcose8VuGFAv",
    "outputId": "f8e5472c-4073-4e44-af3a-f4ffcd023dc5"
   },
   "outputs": [
    {
     "data": {
      "text/plain": [
       "VectorStoreRetriever(tags=['FAISS', 'OpenAIEmbeddings'], vectorstore=<langchain_community.vectorstores.faiss.FAISS object at 0x00000235DE442EF0>, search_kwargs={'k': 4})"
      ]
     },
     "execution_count": 13,
     "metadata": {},
     "output_type": "execute_result"
    }
   ],
   "source": [
    "retriever"
   ]
  },
  {
   "cell_type": "code",
   "execution_count": 16,
   "metadata": {
    "colab": {
     "base_uri": "https://localhost:8080/"
    },
    "executionInfo": {
     "elapsed": 848,
     "status": "ok",
     "timestamp": 1745235863196,
     "user": {
      "displayName": "CampusX",
      "userId": "17274569631252575216"
     },
     "user_tz": -330
    },
    "id": "Wvrsq08TGGNk",
    "outputId": "55ed9475-4497-4e53-d380-5c4c10bf68cb"
   },
   "outputs": [
    {
     "data": {
      "text/plain": [
       "[Document(id='1348569f-f231-4e2a-9cdb-b54a54fb2e81', metadata={}, page_content=\"A simple project could be building a Google calendar autosync tool, an event RSVP tracker, or even a custom GPT that helps draft emails and social posts. You can use Zapier, Open AI, and Google Appcript to create something pretty quickly in like a weekend. Again, it's not about the actual code that you write, but rather the problem-solving skills since that's exactly what hiring managers want to see. And maybe through your search of solving real world problems, you might accidentally create a startup. Just make sure it's not built to help people cheat. The second way interviews are changing is by using more system design. And this is an area where AI can't really do a lot of cheating for you because it involves a lot of human reflection and conversation. For those who don't know, system design is pretty much a type of interview that is traditionally given to senior level engineers. And the questions could go something like, if you had to design the architecture of a company like\"),\n",
       " Document(id='953ee627-500a-48d4-a978-68836df13651', metadata={}, page_content=\"Software engineering is getting crushed by AI and Lead Code the platform that is used for software engineering interviews is slowly dying. Matter of fact, companies like GitLab, Buffer, and Zapier ditched Leap Code years ago. And recently, Snapchat announced that they've stopped Leap Code interviews entirely. So, these tech interviews aren't just changing, but the whole interview hiring process is going through a complete overhaul. So, in this video, let's talk about the death of lead code, the impact of AI, how software engineering interviews are going to look like, and what you need to do to prepare right now. And this is especially important if you're trying to break into tech or or even in tech because in some way, shape, or form, you will be affected by these changes. First, let's talk about the death of lead code. For those who don't know what lead code is, it's basically a website that has a lot of different brain puzzle coding questions, like using ones and zeros. What is the\"),\n",
       " Document(id='84d9875a-688a-41f7-9257-5188db75a71f', metadata={}, page_content=\"design is pretty much a type of interview that is traditionally given to senior level engineers. And the questions could go something like, if you had to design the architecture of a company like Netflix or Spotify, how would you go about it? Someone might start by asking, would you use AWS as your cloud provider? And then dive into choices around storage, latency, availability zones, and caching strategies. Then they might follow up with a scenario like, what would you do if there's a sudden traffic spike? to which someone would respond by saying you would scale horizontally using load balancers, autoscaling groups, and possibly a content delivery network to distribute the load efficiently. And although sure, you could technically cheat in this, it's much more difficult because it's more of a conversation where you're talking about the design of things, not just here's a question and here's an answer. Plus, there are a lot of follow-ups and intricacies. For each design choice in\"),\n",
       " Document(id='67d67a17-4156-4661-bd8b-b0bd7324a34e', metadata={}, page_content='what if I have no idea what coding project I can do? Try this. Go to a local mom and pop store and ask them, \"Is there any annoying, time-consuming things that you do every day?\" You\\'d be surprised. A lot of small non- tech business owners still use pen and paper for inventory or manually typing out customer emails. A simple AI project could be building a chatbot that automatically replies to common customer questions using website FAQ, or creating a tool that uses OCR to scan handwritten receipts and log inventory into Google Sheets. Or if you\\'re a student in university, go to a non-technical club like a cultural org, business frat, or volunteer group and identify problems. Maybe they\\'re manually collecting dues, tracking attendance in spreadsheets, or sending out weekly event reminders. A simple project could be building a Google calendar autosync tool, an event RSVP tracker, or even a custom GPT that helps draft emails and social posts. You can use Zapier, Open AI, and Google')]"
      ]
     },
     "execution_count": 16,
     "metadata": {},
     "output_type": "execute_result"
    }
   ],
   "source": [
    "retriever.invoke('is dsa important now-a-days?')"
   ]
  },
  {
   "cell_type": "markdown",
   "metadata": {
    "id": "F8y0wRmoDSVZ"
   },
   "source": [
    "## Step 3 - Augmentation"
   ]
  },
  {
   "cell_type": "code",
   "execution_count": 17,
   "metadata": {
    "executionInfo": {
     "elapsed": 23,
     "status": "ok",
     "timestamp": 1745235963649,
     "user": {
      "displayName": "CampusX",
      "userId": "17274569631252575216"
     },
     "user_tz": -330
    },
    "id": "2-NeLx9wFHzw"
   },
   "outputs": [],
   "source": [
    "prompt = PromptTemplate(\n",
    "    template=\"\"\"\n",
    "      You are a helpful assistant.\n",
    "      Answer ONLY from the provided transcript context.\n",
    "      If the context is insufficient, just say you don't know.\n",
    "\n",
    "      {context}\n",
    "      Question: {question}\n",
    "    \"\"\",\n",
    "    input_variables = ['context', 'question']\n",
    ")"
   ]
  },
  {
   "cell_type": "code",
   "execution_count": 26,
   "metadata": {
    "executionInfo": {
     "elapsed": 837,
     "status": "ok",
     "timestamp": 1745236226157,
     "user": {
      "displayName": "CampusX",
      "userId": "17274569631252575216"
     },
     "user_tz": -330
    },
    "id": "WI9BOZQwGizf"
   },
   "outputs": [],
   "source": [
    "question          = \"is the topic of dsa vs system design and project building discussed in this video? if yes then what was discussed\"\n",
    "retrieved_docs    = retriever.invoke(question)"
   ]
  },
  {
   "cell_type": "code",
   "execution_count": 27,
   "metadata": {
    "colab": {
     "base_uri": "https://localhost:8080/"
    },
    "executionInfo": {
     "elapsed": 67,
     "status": "ok",
     "timestamp": 1745236228199,
     "user": {
      "displayName": "CampusX",
      "userId": "17274569631252575216"
     },
     "user_tz": -330
    },
    "id": "hfv8yNFsK_GN",
    "outputId": "79fa2a7e-8d92-45bf-99e4-ad12cd86c7a1"
   },
   "outputs": [
    {
     "data": {
      "text/plain": [
       "[Document(id='84d9875a-688a-41f7-9257-5188db75a71f', metadata={}, page_content=\"design is pretty much a type of interview that is traditionally given to senior level engineers. And the questions could go something like, if you had to design the architecture of a company like Netflix or Spotify, how would you go about it? Someone might start by asking, would you use AWS as your cloud provider? And then dive into choices around storage, latency, availability zones, and caching strategies. Then they might follow up with a scenario like, what would you do if there's a sudden traffic spike? to which someone would respond by saying you would scale horizontally using load balancers, autoscaling groups, and possibly a content delivery network to distribute the load efficiently. And although sure, you could technically cheat in this, it's much more difficult because it's more of a conversation where you're talking about the design of things, not just here's a question and here's an answer. Plus, there are a lot of follow-ups and intricacies. For each design choice in\"),\n",
       " Document(id='1474ee21-d000-4918-a07c-0e35f49dbd80', metadata={}, page_content=\"more of a conversation where you're talking about the design of things, not just here's a question and here's an answer. Plus, there are a lot of follow-ups and intricacies. For each design choice in storage or availability zones, you need to defend your answer. And usually, there are a ton of curveball questions, too. Sometimes the interviewer might ask you to defend an incorrect answer for which you would have to identify hey that's wrong and explain why. For example, if I ask why is the sky pink? You would have had to have been knowledgeable enough to actually say actually the sky is blue and here's the science around it. And if you're using AI for all of this, trust me, you will run into some hallucination, some incorrect answer during the interview and you might have your own latencies and throughput limitations. If you understood that joke, leave a comment down below. And if you're preparing for system design interviews, I recommend starting with groing the system design\"),\n",
       " Document(id='189e466c-28da-45c5-bb7c-bb7218d7edba', metadata={}, page_content=\"latencies and throughput limitations. If you understood that joke, leave a comment down below. And if you're preparing for system design interviews, I recommend starting with groing the system design interview or designing data inensive applications. After that, try doing mock interviews on platforms like interviewing.io where you get that realworld Google Amazinesesque type interview experience. And once you're comfortable with that, try diving into real world system walkthroughs on YouTube channels like Bite My Go. And if you want a solid free resource to help you out with all of this, check the link down below in the description. I'll have something ready for you. Well, that's about all I have in this video. I really hope that you guys enjoyed it. And if you did, make sure to hit the like button, subscribe if you haven't already. If you're interested in my free tech newsletter, link will be down below in the description. And if you're interested in what software engineers actually\"),\n",
       " Document(id='1348569f-f231-4e2a-9cdb-b54a54fb2e81', metadata={}, page_content=\"A simple project could be building a Google calendar autosync tool, an event RSVP tracker, or even a custom GPT that helps draft emails and social posts. You can use Zapier, Open AI, and Google Appcript to create something pretty quickly in like a weekend. Again, it's not about the actual code that you write, but rather the problem-solving skills since that's exactly what hiring managers want to see. And maybe through your search of solving real world problems, you might accidentally create a startup. Just make sure it's not built to help people cheat. The second way interviews are changing is by using more system design. And this is an area where AI can't really do a lot of cheating for you because it involves a lot of human reflection and conversation. For those who don't know, system design is pretty much a type of interview that is traditionally given to senior level engineers. And the questions could go something like, if you had to design the architecture of a company like\")]"
      ]
     },
     "execution_count": 27,
     "metadata": {},
     "output_type": "execute_result"
    }
   ],
   "source": [
    "retrieved_docs"
   ]
  },
  {
   "cell_type": "code",
   "execution_count": 28,
   "metadata": {
    "colab": {
     "base_uri": "https://localhost:8080/",
     "height": 156
    },
    "executionInfo": {
     "elapsed": 47,
     "status": "ok",
     "timestamp": 1745236231322,
     "user": {
      "displayName": "CampusX",
      "userId": "17274569631252575216"
     },
     "user_tz": -330
    },
    "id": "bKwpvAo5G_Pk",
    "outputId": "26f0efd0-b35f-44dd-9735-dfc41c1ab86d"
   },
   "outputs": [
    {
     "data": {
      "text/plain": [
       "\"design is pretty much a type of interview that is traditionally given to senior level engineers. And the questions could go something like, if you had to design the architecture of a company like Netflix or Spotify, how would you go about it? Someone might start by asking, would you use AWS as your cloud provider? And then dive into choices around storage, latency, availability zones, and caching strategies. Then they might follow up with a scenario like, what would you do if there's a sudden traffic spike? to which someone would respond by saying you would scale horizontally using load balancers, autoscaling groups, and possibly a content delivery network to distribute the load efficiently. And although sure, you could technically cheat in this, it's much more difficult because it's more of a conversation where you're talking about the design of things, not just here's a question and here's an answer. Plus, there are a lot of follow-ups and intricacies. For each design choice in\\n\\nmore of a conversation where you're talking about the design of things, not just here's a question and here's an answer. Plus, there are a lot of follow-ups and intricacies. For each design choice in storage or availability zones, you need to defend your answer. And usually, there are a ton of curveball questions, too. Sometimes the interviewer might ask you to defend an incorrect answer for which you would have to identify hey that's wrong and explain why. For example, if I ask why is the sky pink? You would have had to have been knowledgeable enough to actually say actually the sky is blue and here's the science around it. And if you're using AI for all of this, trust me, you will run into some hallucination, some incorrect answer during the interview and you might have your own latencies and throughput limitations. If you understood that joke, leave a comment down below. And if you're preparing for system design interviews, I recommend starting with groing the system design\\n\\nlatencies and throughput limitations. If you understood that joke, leave a comment down below. And if you're preparing for system design interviews, I recommend starting with groing the system design interview or designing data inensive applications. After that, try doing mock interviews on platforms like interviewing.io where you get that realworld Google Amazinesesque type interview experience. And once you're comfortable with that, try diving into real world system walkthroughs on YouTube channels like Bite My Go. And if you want a solid free resource to help you out with all of this, check the link down below in the description. I'll have something ready for you. Well, that's about all I have in this video. I really hope that you guys enjoyed it. And if you did, make sure to hit the like button, subscribe if you haven't already. If you're interested in my free tech newsletter, link will be down below in the description. And if you're interested in what software engineers actually\\n\\nA simple project could be building a Google calendar autosync tool, an event RSVP tracker, or even a custom GPT that helps draft emails and social posts. You can use Zapier, Open AI, and Google Appcript to create something pretty quickly in like a weekend. Again, it's not about the actual code that you write, but rather the problem-solving skills since that's exactly what hiring managers want to see. And maybe through your search of solving real world problems, you might accidentally create a startup. Just make sure it's not built to help people cheat. The second way interviews are changing is by using more system design. And this is an area where AI can't really do a lot of cheating for you because it involves a lot of human reflection and conversation. For those who don't know, system design is pretty much a type of interview that is traditionally given to senior level engineers. And the questions could go something like, if you had to design the architecture of a company like\""
      ]
     },
     "execution_count": 28,
     "metadata": {},
     "output_type": "execute_result"
    }
   ],
   "source": [
    "context_text = \"\\n\\n\".join(doc.page_content for doc in retrieved_docs)\n",
    "context_text"
   ]
  },
  {
   "cell_type": "code",
   "execution_count": 29,
   "metadata": {
    "executionInfo": {
     "elapsed": 21,
     "status": "ok",
     "timestamp": 1745236234708,
     "user": {
      "displayName": "CampusX",
      "userId": "17274569631252575216"
     },
     "user_tz": -330
    },
    "id": "_bikWKZWDiqB"
   },
   "outputs": [],
   "source": [
    "final_prompt = prompt.invoke({\"context\": context_text, \"question\": question})"
   ]
  },
  {
   "cell_type": "code",
   "execution_count": 30,
   "metadata": {
    "colab": {
     "base_uri": "https://localhost:8080/"
    },
    "executionInfo": {
     "elapsed": 50,
     "status": "ok",
     "timestamp": 1745236236226,
     "user": {
      "displayName": "CampusX",
      "userId": "17274569631252575216"
     },
     "user_tz": -330
    },
    "id": "5LOFVVAbLYvU",
    "outputId": "b6c47460-fdf3-4dad-ebe5-611b3dfe854b"
   },
   "outputs": [
    {
     "data": {
      "text/plain": [
       "StringPromptValue(text=\"\\n      You are a helpful assistant.\\n      Answer ONLY from the provided transcript context.\\n      If the context is insufficient, just say you don't know.\\n\\n      design is pretty much a type of interview that is traditionally given to senior level engineers. And the questions could go something like, if you had to design the architecture of a company like Netflix or Spotify, how would you go about it? Someone might start by asking, would you use AWS as your cloud provider? And then dive into choices around storage, latency, availability zones, and caching strategies. Then they might follow up with a scenario like, what would you do if there's a sudden traffic spike? to which someone would respond by saying you would scale horizontally using load balancers, autoscaling groups, and possibly a content delivery network to distribute the load efficiently. And although sure, you could technically cheat in this, it's much more difficult because it's more of a conversation where you're talking about the design of things, not just here's a question and here's an answer. Plus, there are a lot of follow-ups and intricacies. For each design choice in\\n\\nmore of a conversation where you're talking about the design of things, not just here's a question and here's an answer. Plus, there are a lot of follow-ups and intricacies. For each design choice in storage or availability zones, you need to defend your answer. And usually, there are a ton of curveball questions, too. Sometimes the interviewer might ask you to defend an incorrect answer for which you would have to identify hey that's wrong and explain why. For example, if I ask why is the sky pink? You would have had to have been knowledgeable enough to actually say actually the sky is blue and here's the science around it. And if you're using AI for all of this, trust me, you will run into some hallucination, some incorrect answer during the interview and you might have your own latencies and throughput limitations. If you understood that joke, leave a comment down below. And if you're preparing for system design interviews, I recommend starting with groing the system design\\n\\nlatencies and throughput limitations. If you understood that joke, leave a comment down below. And if you're preparing for system design interviews, I recommend starting with groing the system design interview or designing data inensive applications. After that, try doing mock interviews on platforms like interviewing.io where you get that realworld Google Amazinesesque type interview experience. And once you're comfortable with that, try diving into real world system walkthroughs on YouTube channels like Bite My Go. And if you want a solid free resource to help you out with all of this, check the link down below in the description. I'll have something ready for you. Well, that's about all I have in this video. I really hope that you guys enjoyed it. And if you did, make sure to hit the like button, subscribe if you haven't already. If you're interested in my free tech newsletter, link will be down below in the description. And if you're interested in what software engineers actually\\n\\nA simple project could be building a Google calendar autosync tool, an event RSVP tracker, or even a custom GPT that helps draft emails and social posts. You can use Zapier, Open AI, and Google Appcript to create something pretty quickly in like a weekend. Again, it's not about the actual code that you write, but rather the problem-solving skills since that's exactly what hiring managers want to see. And maybe through your search of solving real world problems, you might accidentally create a startup. Just make sure it's not built to help people cheat. The second way interviews are changing is by using more system design. And this is an area where AI can't really do a lot of cheating for you because it involves a lot of human reflection and conversation. For those who don't know, system design is pretty much a type of interview that is traditionally given to senior level engineers. And the questions could go something like, if you had to design the architecture of a company like\\n      Question: is the topic of dsa vs system design and project building discussed in this video? if yes then what was discussed\\n    \")"
      ]
     },
     "execution_count": 30,
     "metadata": {},
     "output_type": "execute_result"
    }
   ],
   "source": [
    "final_prompt"
   ]
  },
  {
   "cell_type": "markdown",
   "metadata": {
    "id": "MxxcV2C_DXqt"
   },
   "source": [
    "## Step 4 - Generation"
   ]
  },
  {
   "cell_type": "code",
   "execution_count": 31,
   "metadata": {},
   "outputs": [],
   "source": [
    "client = ChatOpenAI(model=\"gpt-4o-mini\", temperature=0.2)"
   ]
  },
  {
   "cell_type": "code",
   "execution_count": 32,
   "metadata": {
    "colab": {
     "base_uri": "https://localhost:8080/"
    },
    "executionInfo": {
     "elapsed": 3438,
     "status": "ok",
     "timestamp": 1745236242832,
     "user": {
      "displayName": "CampusX",
      "userId": "17274569631252575216"
     },
     "user_tz": -330
    },
    "id": "HX6vxSoUHBok",
    "outputId": "eade1e56-b8af-4b7e-c34b-08a4a1b0da00"
   },
   "outputs": [
    {
     "name": "stdout",
     "output_type": "stream",
     "text": [
      "Yes, the topic of system design and project building is discussed in this video. \n",
      "\n",
      "For system design, it explains that it is a type of interview traditionally given to senior-level engineers, involving questions about designing architectures for companies like Netflix or Spotify. It emphasizes the conversational nature of these interviews, where candidates must defend their design choices and handle follow-up questions.\n",
      "\n",
      "For project building, it suggests simple projects like a Google calendar autosync tool or an event RSVP tracker, highlighting the importance of problem-solving skills over the actual code written. It mentions using tools like Zapier, OpenAI, and Google Apps Script to create projects quickly, and notes that through solving real-world problems, one might even create a startup.\n"
     ]
    }
   ],
   "source": [
    "answer = client.invoke(final_prompt)\n",
    "print(answer.content)"
   ]
  },
  {
   "cell_type": "markdown",
   "metadata": {
    "id": "wH2Ph0NcDlo5"
   },
   "source": [
    "## Building a Chain"
   ]
  },
  {
   "cell_type": "code",
   "execution_count": 33,
   "metadata": {
    "executionInfo": {
     "elapsed": 340,
     "status": "ok",
     "timestamp": 1745236852212,
     "user": {
      "displayName": "CampusX",
      "userId": "17274569631252575216"
     },
     "user_tz": -330
    },
    "id": "RdTwSS3nHKRz"
   },
   "outputs": [],
   "source": [
    "from langchain_core.runnables import RunnableParallel, RunnablePassthrough, RunnableLambda\n",
    "from langchain_core.output_parsers import StrOutputParser"
   ]
  },
  {
   "cell_type": "code",
   "execution_count": 34,
   "metadata": {
    "executionInfo": {
     "elapsed": 130,
     "status": "ok",
     "timestamp": 1745236853660,
     "user": {
      "displayName": "CampusX",
      "userId": "17274569631252575216"
     },
     "user_tz": -330
    },
    "id": "VGezE1qYQJ76"
   },
   "outputs": [],
   "source": [
    "def format_docs(retrieved_docs):\n",
    "    context_text = \"\\n\\n\".join(doc.page_content for doc in retrieved_docs)\n",
    "    return context_text"
   ]
  },
  {
   "cell_type": "code",
   "execution_count": 35,
   "metadata": {
    "executionInfo": {
     "elapsed": 77,
     "status": "ok",
     "timestamp": 1745236855337,
     "user": {
      "displayName": "CampusX",
      "userId": "17274569631252575216"
     },
     "user_tz": -330
    },
    "id": "fmYnYqbWQWLi"
   },
   "outputs": [],
   "source": [
    "parallel_chain = RunnableParallel({\n",
    "    'context': retriever | RunnableLambda(format_docs),\n",
    "    'question': RunnablePassthrough()\n",
    "})"
   ]
  },
  {
   "cell_type": "code",
   "execution_count": 36,
   "metadata": {
    "colab": {
     "base_uri": "https://localhost:8080/"
    },
    "executionInfo": {
     "elapsed": 878,
     "status": "ok",
     "timestamp": 1745236869006,
     "user": {
      "displayName": "CampusX",
      "userId": "17274569631252575216"
     },
     "user_tz": -330
    },
    "id": "lGI1hEvfQvLb",
    "outputId": "093b395c-69da-44d8-dbef-b313f3752687"
   },
   "outputs": [
    {
     "data": {
      "text/plain": [
       "{'context': \"solving logical puzzles on leak code, that does not mean they are a good software engineer. Imagine there's someone who can throw, catch, and run the football at a professional NFL level, but because they can only bench 215 lbs for some reason, versus me, if I can bench 225 lbs, but I can't catch a football for the life of me, I should not be allowed to make it into the NFL. But unfortunately, with the way the system is designed, tech companies care far more about your weightlifting, i.e. the leak code, than your ability to create software applications and be a good software engineer. or at least they used to and thankfully things are taking a change. So although for the most part big tech companies still care a lot about lead code on a micro level a lot of startups don't even use it. Matter of fact startups because they are super tight on their budget they can't afford to make a wrong hire. They can't afford to do brain teaser interviews. They want to assess you based on your actual\\n\\nmore of a conversation where you're talking about the design of things, not just here's a question and here's an answer. Plus, there are a lot of follow-ups and intricacies. For each design choice in storage or availability zones, you need to defend your answer. And usually, there are a ton of curveball questions, too. Sometimes the interviewer might ask you to defend an incorrect answer for which you would have to identify hey that's wrong and explain why. For example, if I ask why is the sky pink? You would have had to have been knowledgeable enough to actually say actually the sky is blue and here's the science around it. And if you're using AI for all of this, trust me, you will run into some hallucination, some incorrect answer during the interview and you might have your own latencies and throughput limitations. If you understood that joke, leave a comment down below. And if you're preparing for system design interviews, I recommend starting with groing the system design\\n\\nA simple project could be building a Google calendar autosync tool, an event RSVP tracker, or even a custom GPT that helps draft emails and social posts. You can use Zapier, Open AI, and Google Appcript to create something pretty quickly in like a weekend. Again, it's not about the actual code that you write, but rather the problem-solving skills since that's exactly what hiring managers want to see. And maybe through your search of solving real world problems, you might accidentally create a startup. Just make sure it's not built to help people cheat. The second way interviews are changing is by using more system design. And this is an area where AI can't really do a lot of cheating for you because it involves a lot of human reflection and conversation. For those who don't know, system design is pretty much a type of interview that is traditionally given to senior level engineers. And the questions could go something like, if you had to design the architecture of a company like\\n\\ndesign is pretty much a type of interview that is traditionally given to senior level engineers. And the questions could go something like, if you had to design the architecture of a company like Netflix or Spotify, how would you go about it? Someone might start by asking, would you use AWS as your cloud provider? And then dive into choices around storage, latency, availability zones, and caching strategies. Then they might follow up with a scenario like, what would you do if there's a sudden traffic spike? to which someone would respond by saying you would scale horizontally using load balancers, autoscaling groups, and possibly a content delivery network to distribute the load efficiently. And although sure, you could technically cheat in this, it's much more difficult because it's more of a conversation where you're talking about the design of things, not just here's a question and here's an answer. Plus, there are a lot of follow-ups and intricacies. For each design choice in\",\n",
       " 'question': 'why dsa is not enough?'}"
      ]
     },
     "execution_count": 36,
     "metadata": {},
     "output_type": "execute_result"
    }
   ],
   "source": [
    "parallel_chain.invoke('why dsa is not enough?')"
   ]
  },
  {
   "cell_type": "code",
   "execution_count": 37,
   "metadata": {
    "executionInfo": {
     "elapsed": 12,
     "status": "ok",
     "timestamp": 1745237089834,
     "user": {
      "displayName": "CampusX",
      "userId": "17274569631252575216"
     },
     "user_tz": -330
    },
    "id": "e6osgdBfRCPN"
   },
   "outputs": [],
   "source": [
    "parser = StrOutputParser()"
   ]
  },
  {
   "cell_type": "code",
   "execution_count": 38,
   "metadata": {
    "executionInfo": {
     "elapsed": 37,
     "status": "ok",
     "timestamp": 1745237124641,
     "user": {
      "displayName": "CampusX",
      "userId": "17274569631252575216"
     },
     "user_tz": -330
    },
    "id": "Y3e2en89QyOC"
   },
   "outputs": [],
   "source": [
    "main_chain = parallel_chain | prompt | client | parser"
   ]
  },
  {
   "cell_type": "code",
   "execution_count": 39,
   "metadata": {
    "colab": {
     "base_uri": "https://localhost:8080/",
     "height": 122
    },
    "executionInfo": {
     "elapsed": 3395,
     "status": "ok",
     "timestamp": 1745237137046,
     "user": {
      "displayName": "CampusX",
      "userId": "17274569631252575216"
     },
     "user_tz": -330
    },
    "id": "Ur7Ph_xlRE-7",
    "outputId": "92122b01-36e9-4de4-85cb-6eb1e893a33d"
   },
   "outputs": [
    {
     "data": {
      "text/plain": [
       "\"The video discusses a controversial software called Interview Coder, created by a Columbia student named Roy Lee, which uses AI to help users cheat in technical coding interviews. The software generates solutions for coding problems by analyzing screenshots and is designed to prevent detection by moving the user's gaze around the screen. Although the creator achieved success in interviews at major tech companies like Amazon and Meta, he faced severe repercussions, including being blacklisted and expelled from Columbia after revealing his methods in a YouTube video. The video also offers resources for preparing for system design interviews and encourages viewers to engage with the content.\""
      ]
     },
     "execution_count": 39,
     "metadata": {},
     "output_type": "execute_result"
    }
   ],
   "source": [
    "main_chain.invoke('Can you summarize the video')"
   ]
  },
  {
   "cell_type": "markdown",
   "metadata": {},
   "source": [
    "## Improvements\n",
    "\n",
    "1. **UI based enhancements**\n",
    "2. **Evaluation**\n",
    "    - a. Ragas  \n",
    "    - b. LangSmith  \n",
    "3. **Indexing**\n",
    "    - a. Document Ingestion  \n",
    "    - b. Text Splitting  \n",
    "    - c. Vector Store  \n",
    "4. **Retrieval**\n",
    "    - a. *Pre-Retrieval*  \n",
    "        - i. Query rewriting using LLM  \n",
    "        - ii. Multi-query generation  \n",
    "        - iii. Domain aware routing  \n",
    "    - b. *During Retrieval*  \n",
    "        - i. MMR  \n",
    "        - ii. Hybrid Retrieval  \n",
    "        - iii. Reranking  \n",
    "    - c. *Post-Retrieval*  \n",
    "        - i. Contextual Compression  \n",
    "5. **Augmentation**\n",
    "    - a. Prompt Templating  \n",
    "    - b. Answer grounding  \n",
    "    - c. Context window optimization  \n",
    "6. **Generation**\n",
    "    - a. Answer with Citation  \n",
    "    - b. Guard railing  \n",
    "7. **System Design**\n",
    "    - a. Multimodal  \n",
    "    - b. Agentic  \n",
    "    - c. Memory based  \n"
   ]
  }
 ],
 "metadata": {
  "colab": {
   "authorship_tag": "ABX9TyPdLwZ2Mde9S84uNIB9gawv",
   "provenance": []
  },
  "kernelspec": {
   "display_name": "lang_venv",
   "language": "python",
   "name": "python3"
  },
  "language_info": {
   "codemirror_mode": {
    "name": "ipython",
    "version": 3
   },
   "file_extension": ".py",
   "mimetype": "text/x-python",
   "name": "python",
   "nbconvert_exporter": "python",
   "pygments_lexer": "ipython3",
   "version": "3.10.11"
  }
 },
 "nbformat": 4,
 "nbformat_minor": 0
}
