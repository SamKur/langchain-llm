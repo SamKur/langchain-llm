{
 "cells": [
  {
   "cell_type": "code",
   "execution_count": 1,
   "metadata": {
    "executionInfo": {
     "elapsed": 10,
     "status": "ok",
     "timestamp": 1745233975926,
     "user": {
      "displayName": "CampusX",
      "userId": "17274569631252575216"
     },
     "user_tz": -330
    },
    "id": "nG6m3Q9DBHV1"
   },
   "outputs": [
    {
     "data": {
      "text/plain": [
       "True"
      ]
     },
     "execution_count": 1,
     "metadata": {},
     "output_type": "execute_result"
    }
   ],
   "source": [
    "from dotenv import load_dotenv\n",
    "load_dotenv()"
   ]
  },
  {
   "cell_type": "markdown",
   "metadata": {
    "id": "33R54QYjCMAJ"
   },
   "source": [
    "## Install libraries\n",
    "```%pip install -q youtube-transcript-api langchain-community langchain-openai faiss-cpu tiktoken python-dotenv```"
   ]
  },
  {
   "cell_type": "code",
   "execution_count": 2,
   "metadata": {
    "executionInfo": {
     "elapsed": 6515,
     "status": "ok",
     "timestamp": 1745234356486,
     "user": {
      "displayName": "CampusX",
      "userId": "17274569631252575216"
     },
     "user_tz": -330
    },
    "id": "hPcswe0tExci"
   },
   "outputs": [],
   "source": [
    "from youtube_transcript_api import YouTubeTranscriptApi, TranscriptsDisabled\n",
    "from langchain.text_splitter import RecursiveCharacterTextSplitter\n",
    "from langchain_openai import OpenAIEmbeddings, ChatOpenAI\n",
    "from langchain_community.vectorstores import FAISS\n",
    "from langchain_core.prompts import PromptTemplate"
   ]
  },
  {
   "cell_type": "markdown",
   "metadata": {
    "id": "0ZZrs-ijCTYt"
   },
   "source": [
    "## Step 1a - Indexing (Document Ingestion)"
   ]
  },
  {
   "cell_type": "code",
   "execution_count": 3,
   "metadata": {
    "colab": {
     "base_uri": "https://localhost:8080/"
    },
    "executionInfo": {
     "elapsed": 898,
     "status": "ok",
     "timestamp": 1745235392711,
     "user": {
      "displayName": "CampusX",
      "userId": "17274569631252575216"
     },
     "user_tz": -330
    },
    "id": "1p9AXZycFIH6",
    "outputId": "74950ea5-66f9-4242-bf72-7b2d2ba3aaa7"
   },
   "outputs": [],
   "source": [
    "video_id = \"La385-EDmWw\" # only the ID, not full URL\n",
    "try:\n",
    "    # If you don’t care which language, this returns the “best” one\n",
    "    transcript_list = YouTubeTranscriptApi.get_transcript(video_id, languages=[\"en\"])\n",
    "    # {text: , start: , duration: }, ...\n",
    "\n",
    "    # Flatten it to plain text\n",
    "    transcript = \" \".join(chunk[\"text\"] for chunk in transcript_list)\n",
    "    # print(transcript)   # full video caption\n",
    "\n",
    "except TranscriptsDisabled:\n",
    "    print(\"No captions available for this video.\")"
   ]
  },
  {
   "cell_type": "code",
   "execution_count": 4,
   "metadata": {
    "colab": {
     "base_uri": "https://localhost:8080/"
    },
    "executionInfo": {
     "elapsed": 52,
     "status": "ok",
     "timestamp": 1745235201852,
     "user": {
      "displayName": "CampusX",
      "userId": "17274569631252575216"
     },
     "user_tz": -330
    },
    "id": "oWSK4-VQH8CG",
    "outputId": "01528517-4192-4620-f234-97055e4b6655"
   },
   "outputs": [
    {
     "data": {
      "text/plain": [
       "[{'text': 'Software engineering is getting crushed',\n",
       "  'start': 0.08,\n",
       "  'duration': 3.92},\n",
       " {'text': 'by AI and Lead Code the platform that is',\n",
       "  'start': 1.839,\n",
       "  'duration': 3.92},\n",
       " {'text': 'used for software engineering interviews',\n",
       "  'start': 4.0,\n",
       "  'duration': 3.6}]"
      ]
     },
     "execution_count": 4,
     "metadata": {},
     "output_type": "execute_result"
    }
   ],
   "source": [
    "transcript_list[0:3]"
   ]
  },
  {
   "cell_type": "markdown",
   "metadata": {
    "id": "eKkcYsaOCrRX"
   },
   "source": [
    "## Step 1b - Indexing (Text Splitting)"
   ]
  },
  {
   "cell_type": "code",
   "execution_count": 5,
   "metadata": {
    "executionInfo": {
     "elapsed": 20,
     "status": "ok",
     "timestamp": 1745235446670,
     "user": {
      "displayName": "CampusX",
      "userId": "17274569631252575216"
     },
     "user_tz": -330
    },
    "id": "24i-ZSVXFbnC"
   },
   "outputs": [],
   "source": [
    "splitter = RecursiveCharacterTextSplitter(chunk_size=1000, chunk_overlap=200)\n",
    "chunks = splitter.create_documents([transcript])"
   ]
  },
  {
   "cell_type": "code",
   "execution_count": 6,
   "metadata": {
    "colab": {
     "base_uri": "https://localhost:8080/"
    },
    "executionInfo": {
     "elapsed": 21,
     "status": "ok",
     "timestamp": 1745235449014,
     "user": {
      "displayName": "CampusX",
      "userId": "17274569631252575216"
     },
     "user_tz": -330
    },
    "id": "4Dm9sfpQFnF1",
    "outputId": "7b9bea3d-b5a4-47f1-f793-16b6bfdd6a7b"
   },
   "outputs": [
    {
     "data": {
      "text/plain": [
       "17"
      ]
     },
     "execution_count": 6,
     "metadata": {},
     "output_type": "execute_result"
    }
   ],
   "source": [
    "len(chunks)"
   ]
  },
  {
   "cell_type": "code",
   "execution_count": 7,
   "metadata": {
    "colab": {
     "base_uri": "https://localhost:8080/"
    },
    "executionInfo": {
     "elapsed": 13,
     "status": "ok",
     "timestamp": 1745235470518,
     "user": {
      "displayName": "CampusX",
      "userId": "17274569631252575216"
     },
     "user_tz": -330
    },
    "id": "mYlrcBrkFO-N",
    "outputId": "b6e33df4-c8a2-4c2d-f929-4af59774bd94"
   },
   "outputs": [
    {
     "data": {
      "text/plain": [
       "Document(metadata={}, page_content='and the candidate gets paid. So this is the true win-win scenario that lead code was striving to be. Plus startup interviews they actually recommend that you use AI or any tools that you would have access to on the job because if it helps you write better software once again that\\'s a win-win. So if you\\'re trying to prepare for this new style of interview, forget grinding leap code and focus on building real things. Start by using AI tools like GitHub C-Pilot, Cursor or Warp to accelerate your coding workflow and work smarter. Use platforms like Replet or Versel to quickly develop full stack applications. But whatever you do, make sure to build projects that solve actual problems, not just another coding project for the sake of doing a coding project. I am tired of to-do list apps. Oh, but what if I have no idea what coding project I can do? Try this. Go to a local mom and pop store and ask them, \"Is there any annoying, time-consuming things that you do every day?\" You\\'d be surprised.')"
      ]
     },
     "execution_count": 7,
     "metadata": {},
     "output_type": "execute_result"
    }
   ],
   "source": [
    "chunks[10]"
   ]
  },
  {
   "cell_type": "markdown",
   "metadata": {
    "id": "8xYFK7WXC2Ka"
   },
   "source": [
    "## Step 1c & 1d - Indexing (Embedding Generation and Storing in Vector Store)"
   ]
  },
  {
   "cell_type": "code",
   "execution_count": 8,
   "metadata": {
    "executionInfo": {
     "elapsed": 2382,
     "status": "ok",
     "timestamp": 1745235518958,
     "user": {
      "displayName": "CampusX",
      "userId": "17274569631252575216"
     },
     "user_tz": -330
    },
    "id": "jYXeS5T7FrC4"
   },
   "outputs": [],
   "source": [
    "embeddings = OpenAIEmbeddings(model=\"text-embedding-3-small\")\n",
    "vector_store = FAISS.from_documents(chunks, embeddings)"
   ]
  },
  {
   "cell_type": "code",
   "execution_count": 9,
   "metadata": {
    "colab": {
     "base_uri": "https://localhost:8080/"
    },
    "executionInfo": {
     "elapsed": 36,
     "status": "ok",
     "timestamp": 1745235520140,
     "user": {
      "displayName": "CampusX",
      "userId": "17274569631252575216"
     },
     "user_tz": -330
    },
    "id": "PWYkp-NmFSVF",
    "outputId": "36f75b4d-b798-4e06-aeea-5c56c91befe0"
   },
   "outputs": [
    {
     "data": {
      "text/plain": [
       "{0: '688efe80-1239-4b77-bf07-b37e2c2062e2',\n",
       " 1: '2acabf9d-1277-45f3-b379-f1c338467739',\n",
       " 2: '638a0580-2292-4e78-aeb3-9b21f9051a47',\n",
       " 3: '672b9c0a-cc3c-40fe-b148-bc4aeff7cd95',\n",
       " 4: 'd5f50673-d7d4-43f1-9887-743092c292ed',\n",
       " 5: '62e62e94-6e3f-4c7c-b642-6cedf3c6de25',\n",
       " 6: '9af20004-83e7-4a49-b9fb-5dc3e800ec81',\n",
       " 7: '139be4c7-a2e1-4e69-83d3-5ce519513e5d',\n",
       " 8: '52a32ec1-4d13-41ea-baf1-3f08043590ea',\n",
       " 9: 'ba5a3985-b875-4b2d-be14-97a75bc2bf63',\n",
       " 10: 'b37bd3e8-7c15-4abd-ac94-2aa7daf616ce',\n",
       " 11: '51777860-fed1-40a5-ac9b-320a76c52776',\n",
       " 12: 'c07da825-085b-4f70-924d-9ae52aa22367',\n",
       " 13: '3998b044-54ca-4a7d-b312-3902b561c100',\n",
       " 14: '3205a01a-03fb-4b14-ad91-18c62b85c8f5',\n",
       " 15: '9c951c4e-b4f4-4bee-93cb-519de45b48e4',\n",
       " 16: 'fa3ac1bb-526b-404e-a4ea-599321f22fa5'}"
      ]
     },
     "execution_count": 9,
     "metadata": {},
     "output_type": "execute_result"
    }
   ],
   "source": [
    "vector_store.index_to_docstore_id"
   ]
  },
  {
   "cell_type": "code",
   "execution_count": 10,
   "metadata": {
    "colab": {
     "base_uri": "https://localhost:8080/"
    },
    "executionInfo": {
     "elapsed": 32,
     "status": "ok",
     "timestamp": 1745235542610,
     "user": {
      "displayName": "CampusX",
      "userId": "17274569631252575216"
     },
     "user_tz": -330
    },
    "id": "MxokTcWEGGAo",
    "outputId": "e05f7a2a-4cb1-4fb0-ba48-e6887877a260"
   },
   "outputs": [
    {
     "data": {
      "text/plain": [
       "[]"
      ]
     },
     "execution_count": 10,
     "metadata": {},
     "output_type": "execute_result"
    }
   ],
   "source": [
    "vector_store.get_by_ids(['189e466c-28da-45c5-bb7c-bb7218d7edba'])"
   ]
  },
  {
   "cell_type": "markdown",
   "metadata": {
    "id": "Zez1650EDN9J"
   },
   "source": [
    "## Step 2 - Retrieval"
   ]
  },
  {
   "cell_type": "code",
   "execution_count": 11,
   "metadata": {
    "executionInfo": {
     "elapsed": 11,
     "status": "ok",
     "timestamp": 1745235840759,
     "user": {
      "displayName": "CampusX",
      "userId": "17274569631252575216"
     },
     "user_tz": -330
    },
    "id": "KEuoGUYOF3oG"
   },
   "outputs": [],
   "source": [
    "retriever = vector_store.as_retriever(search_type=\"similarity\", search_kwargs={\"k\": 4})"
   ]
  },
  {
   "cell_type": "code",
   "execution_count": 12,
   "metadata": {
    "colab": {
     "base_uri": "https://localhost:8080/"
    },
    "executionInfo": {
     "elapsed": 39,
     "status": "ok",
     "timestamp": 1745235842062,
     "user": {
      "displayName": "CampusX",
      "userId": "17274569631252575216"
     },
     "user_tz": -330
    },
    "id": "Qcose8VuGFAv",
    "outputId": "f8e5472c-4073-4e44-af3a-f4ffcd023dc5"
   },
   "outputs": [
    {
     "data": {
      "text/plain": [
       "VectorStoreRetriever(tags=['FAISS', 'OpenAIEmbeddings'], vectorstore=<langchain_community.vectorstores.faiss.FAISS object at 0x0000027606152680>, search_kwargs={'k': 4})"
      ]
     },
     "execution_count": 12,
     "metadata": {},
     "output_type": "execute_result"
    }
   ],
   "source": [
    "retriever"
   ]
  },
  {
   "cell_type": "code",
   "execution_count": 29,
   "metadata": {
    "colab": {
     "base_uri": "https://localhost:8080/"
    },
    "executionInfo": {
     "elapsed": 848,
     "status": "ok",
     "timestamp": 1745235863196,
     "user": {
      "displayName": "CampusX",
      "userId": "17274569631252575216"
     },
     "user_tz": -330
    },
    "id": "Wvrsq08TGGNk",
    "outputId": "55ed9475-4497-4e53-d380-5c4c10bf68cb"
   },
   "outputs": [
    {
     "data": {
      "text/plain": [
       "[Document(id='638a0580-2292-4e78-aeb3-9b21f9051a47', metadata={}, page_content=\"prepare for, what to expect in the interview, and as long as they worked on this skill of solving leak code problems, they were set. So, it seemed perfect until it wasn't. So, the first problem with leaked code was that cheating was huge. Specifically after 2020, when everything went virtual, people went crazy with cheating. People used things like chatbt, got on secret Discord calls. There were even computer vision tools that could change the orientation of the appearance of your eyes. So even if you're looking to the side, like a separate monitor that might have like a solution there. It'll appear as if you're always looking straight at the interviewer. But there were always flaws in how it would work. Whether it be cheating software glitching or chatbt giving an incorrect answer, some small element that would make the tool unusable. Until things took a huge turn. In winter 2025, a Colombia student named Roy Lee created a software called Interview Coder, which was specifically\"),\n",
       " Document(id='672b9c0a-cc3c-40fe-b148-bc4aeff7cd95', metadata={}, page_content=\"some small element that would make the tool unusable. Until things took a huge turn. In winter 2025, a Colombia student named Roy Lee created a software called Interview Coder, which was specifically designed using AI to allow you to cheat in real time on technical coding interviews. And from a pure design technical standpoint, it's pretty impressive. Now, I don't condone cheating. I don't condone using it, but I do have to acknowledge when I saw the demos, my mind was boggled. So, by design, the tool sits on top of your screen, and when you feed it a screenshot of a lead code problem, it feeds it into the LLM and generates a solution for you. Think of chat GPT, but specifically designed and optimized for technical interviews. And for the user, to make sure you aren't staring at one area of the screen for too long, because that would look unnatural and suspicious, the software actually moves around to keep your eyes naturally moving, so no one can detect that you're cheating. And the\"),\n",
       " Document(id='d5f50673-d7d4-43f1-9887-743092c292ed', metadata={}, page_content=\"of the screen for too long, because that would look unnatural and suspicious, the software actually moves around to keep your eyes naturally moving, so no one can detect that you're cheating. And the best part of all of this is that Roy actually proved it worked. Roy used it on his own technical coding interviews at companies like Amazon, Meta, and Tik Tok. And he got those high-paying offers. He passed the interviews. But instead of just quietly accepting his offers, he decided to show the whole world how he did it. He made a very detailed YouTube video showing how his software cheated the Amazon coding interview. And tech companies were furious. I mean obviously Amazon, Meta, Tik Tok all rescended his offers blacklisting him and Amazon specifically asked Colombia to kick him out of the university threatening that they wouldn't hire any of the Colombia students into Amazon ever again. So obviously Colombia obliged and Roy was kicked out. But regardless, he started a movement and he's\"),\n",
       " Document(id='2acabf9d-1277-45f3-b379-f1c338467739', metadata={}, page_content=\"about the death of lead code. For those who don't know what lead code is, it's basically a website that has a lot of different brain puzzle coding questions, like using ones and zeros. What is the number of islands in this maze? Given an array, which two numbers can add up to a given sum and tech companies like Google, Amazon, and Meta use these exact questions on their software engineering interviews with the idea that it's a coding question. We can see how competent someone is by their solution to this problem. And if they do a good job, we can hire them. And for the longest time, it was a win-win for companies and candidates. Companies could give this coding assessment at scale to a bunch of different candidates and just hire the best ones. And for candidates, they knew exactly what to prepare for, what to expect in the interview, and as long as they worked on this skill of solving leak code problems, they were set. So, it seemed perfect until it wasn't. So, the first problem with\")]"
      ]
     },
     "execution_count": 29,
     "metadata": {},
     "output_type": "execute_result"
    }
   ],
   "source": [
    "retriever.invoke('Describe about the method of cheating for coding interviews.')"
   ]
  },
  {
   "cell_type": "markdown",
   "metadata": {
    "id": "F8y0wRmoDSVZ"
   },
   "source": [
    "## Step 3 - Augmentation"
   ]
  },
  {
   "cell_type": "code",
   "execution_count": 14,
   "metadata": {
    "executionInfo": {
     "elapsed": 23,
     "status": "ok",
     "timestamp": 1745235963649,
     "user": {
      "displayName": "CampusX",
      "userId": "17274569631252575216"
     },
     "user_tz": -330
    },
    "id": "2-NeLx9wFHzw"
   },
   "outputs": [],
   "source": [
    "prompt = PromptTemplate(\n",
    "    template=\"\"\"\n",
    "        You are a helpful assistant.\n",
    "        Answer ONLY from the provided transcript context.\n",
    "        If the context is insufficient, just say you don't know.    # answer-grounding to prevent halucination\n",
    "\n",
    "        {context}\n",
    "        Question: {question}\n",
    "    \"\"\",\n",
    "    input_variables = ['context', 'question']\n",
    ")"
   ]
  },
  {
   "cell_type": "code",
   "execution_count": 15,
   "metadata": {
    "executionInfo": {
     "elapsed": 837,
     "status": "ok",
     "timestamp": 1745236226157,
     "user": {
      "displayName": "CampusX",
      "userId": "17274569631252575216"
     },
     "user_tz": -330
    },
    "id": "WI9BOZQwGizf"
   },
   "outputs": [],
   "source": [
    "question          = \"is the topic of dsa vs system design and project building discussed in this video? if yes then what was discussed\"\n",
    "retrieved_docs    = retriever.invoke(question)"
   ]
  },
  {
   "cell_type": "code",
   "execution_count": 16,
   "metadata": {
    "colab": {
     "base_uri": "https://localhost:8080/"
    },
    "executionInfo": {
     "elapsed": 67,
     "status": "ok",
     "timestamp": 1745236228199,
     "user": {
      "displayName": "CampusX",
      "userId": "17274569631252575216"
     },
     "user_tz": -330
    },
    "id": "hfv8yNFsK_GN",
    "outputId": "79fa2a7e-8d92-45bf-99e4-ad12cd86c7a1"
   },
   "outputs": [
    {
     "data": {
      "text/plain": [
       "[Document(id='3998b044-54ca-4a7d-b312-3902b561c100', metadata={}, page_content=\"design is pretty much a type of interview that is traditionally given to senior level engineers. And the questions could go something like, if you had to design the architecture of a company like Netflix or Spotify, how would you go about it? Someone might start by asking, would you use AWS as your cloud provider? And then dive into choices around storage, latency, availability zones, and caching strategies. Then they might follow up with a scenario like, what would you do if there's a sudden traffic spike? to which someone would respond by saying you would scale horizontally using load balancers, autoscaling groups, and possibly a content delivery network to distribute the load efficiently. And although sure, you could technically cheat in this, it's much more difficult because it's more of a conversation where you're talking about the design of things, not just here's a question and here's an answer. Plus, there are a lot of follow-ups and intricacies. For each design choice in\"),\n",
       " Document(id='3205a01a-03fb-4b14-ad91-18c62b85c8f5', metadata={}, page_content=\"more of a conversation where you're talking about the design of things, not just here's a question and here's an answer. Plus, there are a lot of follow-ups and intricacies. For each design choice in storage or availability zones, you need to defend your answer. And usually, there are a ton of curveball questions, too. Sometimes the interviewer might ask you to defend an incorrect answer for which you would have to identify hey that's wrong and explain why. For example, if I ask why is the sky pink? You would have had to have been knowledgeable enough to actually say actually the sky is blue and here's the science around it. And if you're using AI for all of this, trust me, you will run into some hallucination, some incorrect answer during the interview and you might have your own latencies and throughput limitations. If you understood that joke, leave a comment down below. And if you're preparing for system design interviews, I recommend starting with groing the system design\"),\n",
       " Document(id='9c951c4e-b4f4-4bee-93cb-519de45b48e4', metadata={}, page_content=\"latencies and throughput limitations. If you understood that joke, leave a comment down below. And if you're preparing for system design interviews, I recommend starting with groing the system design interview or designing data inensive applications. After that, try doing mock interviews on platforms like interviewing.io where you get that realworld Google Amazinesesque type interview experience. And once you're comfortable with that, try diving into real world system walkthroughs on YouTube channels like Bite My Go. And if you want a solid free resource to help you out with all of this, check the link down below in the description. I'll have something ready for you. Well, that's about all I have in this video. I really hope that you guys enjoyed it. And if you did, make sure to hit the like button, subscribe if you haven't already. If you're interested in my free tech newsletter, link will be down below in the description. And if you're interested in what software engineers actually\"),\n",
       " Document(id='c07da825-085b-4f70-924d-9ae52aa22367', metadata={}, page_content=\"A simple project could be building a Google calendar autosync tool, an event RSVP tracker, or even a custom GPT that helps draft emails and social posts. You can use Zapier, Open AI, and Google Appcript to create something pretty quickly in like a weekend. Again, it's not about the actual code that you write, but rather the problem-solving skills since that's exactly what hiring managers want to see. And maybe through your search of solving real world problems, you might accidentally create a startup. Just make sure it's not built to help people cheat. The second way interviews are changing is by using more system design. And this is an area where AI can't really do a lot of cheating for you because it involves a lot of human reflection and conversation. For those who don't know, system design is pretty much a type of interview that is traditionally given to senior level engineers. And the questions could go something like, if you had to design the architecture of a company like\")]"
      ]
     },
     "execution_count": 16,
     "metadata": {},
     "output_type": "execute_result"
    }
   ],
   "source": [
    "retrieved_docs"
   ]
  },
  {
   "cell_type": "code",
   "execution_count": 17,
   "metadata": {
    "colab": {
     "base_uri": "https://localhost:8080/",
     "height": 156
    },
    "executionInfo": {
     "elapsed": 47,
     "status": "ok",
     "timestamp": 1745236231322,
     "user": {
      "displayName": "CampusX",
      "userId": "17274569631252575216"
     },
     "user_tz": -330
    },
    "id": "bKwpvAo5G_Pk",
    "outputId": "26f0efd0-b35f-44dd-9735-dfc41c1ab86d"
   },
   "outputs": [
    {
     "data": {
      "text/plain": [
       "\"design is pretty much a type of interview that is traditionally given to senior level engineers. And the questions could go something like, if you had to design the architecture of a company like Netflix or Spotify, how would you go about it? Someone might start by asking, would you use AWS as your cloud provider? And then dive into choices around storage, latency, availability zones, and caching strategies. Then they might follow up with a scenario like, what would you do if there's a sudden traffic spike? to which someone would respond by saying you would scale horizontally using load balancers, autoscaling groups, and possibly a content delivery network to distribute the load efficiently. And although sure, you could technically cheat in this, it's much more difficult because it's more of a conversation where you're talking about the design of things, not just here's a question and here's an answer. Plus, there are a lot of follow-ups and intricacies. For each design choice in\\n\\nmore of a conversation where you're talking about the design of things, not just here's a question and here's an answer. Plus, there are a lot of follow-ups and intricacies. For each design choice in storage or availability zones, you need to defend your answer. And usually, there are a ton of curveball questions, too. Sometimes the interviewer might ask you to defend an incorrect answer for which you would have to identify hey that's wrong and explain why. For example, if I ask why is the sky pink? You would have had to have been knowledgeable enough to actually say actually the sky is blue and here's the science around it. And if you're using AI for all of this, trust me, you will run into some hallucination, some incorrect answer during the interview and you might have your own latencies and throughput limitations. If you understood that joke, leave a comment down below. And if you're preparing for system design interviews, I recommend starting with groing the system design\\n\\nlatencies and throughput limitations. If you understood that joke, leave a comment down below. And if you're preparing for system design interviews, I recommend starting with groing the system design interview or designing data inensive applications. After that, try doing mock interviews on platforms like interviewing.io where you get that realworld Google Amazinesesque type interview experience. And once you're comfortable with that, try diving into real world system walkthroughs on YouTube channels like Bite My Go. And if you want a solid free resource to help you out with all of this, check the link down below in the description. I'll have something ready for you. Well, that's about all I have in this video. I really hope that you guys enjoyed it. And if you did, make sure to hit the like button, subscribe if you haven't already. If you're interested in my free tech newsletter, link will be down below in the description. And if you're interested in what software engineers actually\\n\\nA simple project could be building a Google calendar autosync tool, an event RSVP tracker, or even a custom GPT that helps draft emails and social posts. You can use Zapier, Open AI, and Google Appcript to create something pretty quickly in like a weekend. Again, it's not about the actual code that you write, but rather the problem-solving skills since that's exactly what hiring managers want to see. And maybe through your search of solving real world problems, you might accidentally create a startup. Just make sure it's not built to help people cheat. The second way interviews are changing is by using more system design. And this is an area where AI can't really do a lot of cheating for you because it involves a lot of human reflection and conversation. For those who don't know, system design is pretty much a type of interview that is traditionally given to senior level engineers. And the questions could go something like, if you had to design the architecture of a company like\""
      ]
     },
     "execution_count": 17,
     "metadata": {},
     "output_type": "execute_result"
    }
   ],
   "source": [
    "context_text = \"\\n\\n\".join(doc.page_content for doc in retrieved_docs)\n",
    "context_text"
   ]
  },
  {
   "cell_type": "code",
   "execution_count": 18,
   "metadata": {
    "executionInfo": {
     "elapsed": 21,
     "status": "ok",
     "timestamp": 1745236234708,
     "user": {
      "displayName": "CampusX",
      "userId": "17274569631252575216"
     },
     "user_tz": -330
    },
    "id": "_bikWKZWDiqB"
   },
   "outputs": [],
   "source": [
    "final_prompt = prompt.invoke({\"context\": context_text, \"question\": question})"
   ]
  },
  {
   "cell_type": "code",
   "execution_count": 19,
   "metadata": {
    "colab": {
     "base_uri": "https://localhost:8080/"
    },
    "executionInfo": {
     "elapsed": 50,
     "status": "ok",
     "timestamp": 1745236236226,
     "user": {
      "displayName": "CampusX",
      "userId": "17274569631252575216"
     },
     "user_tz": -330
    },
    "id": "5LOFVVAbLYvU",
    "outputId": "b6c47460-fdf3-4dad-ebe5-611b3dfe854b"
   },
   "outputs": [
    {
     "data": {
      "text/plain": [
       "StringPromptValue(text=\"\\n        You are a helpful assistant.\\n        Answer ONLY from the provided transcript context.\\n        If the context is insufficient, just say you don't know.    # answer-grounding to prevent halucination\\n\\n        design is pretty much a type of interview that is traditionally given to senior level engineers. And the questions could go something like, if you had to design the architecture of a company like Netflix or Spotify, how would you go about it? Someone might start by asking, would you use AWS as your cloud provider? And then dive into choices around storage, latency, availability zones, and caching strategies. Then they might follow up with a scenario like, what would you do if there's a sudden traffic spike? to which someone would respond by saying you would scale horizontally using load balancers, autoscaling groups, and possibly a content delivery network to distribute the load efficiently. And although sure, you could technically cheat in this, it's much more difficult because it's more of a conversation where you're talking about the design of things, not just here's a question and here's an answer. Plus, there are a lot of follow-ups and intricacies. For each design choice in\\n\\nmore of a conversation where you're talking about the design of things, not just here's a question and here's an answer. Plus, there are a lot of follow-ups and intricacies. For each design choice in storage or availability zones, you need to defend your answer. And usually, there are a ton of curveball questions, too. Sometimes the interviewer might ask you to defend an incorrect answer for which you would have to identify hey that's wrong and explain why. For example, if I ask why is the sky pink? You would have had to have been knowledgeable enough to actually say actually the sky is blue and here's the science around it. And if you're using AI for all of this, trust me, you will run into some hallucination, some incorrect answer during the interview and you might have your own latencies and throughput limitations. If you understood that joke, leave a comment down below. And if you're preparing for system design interviews, I recommend starting with groing the system design\\n\\nlatencies and throughput limitations. If you understood that joke, leave a comment down below. And if you're preparing for system design interviews, I recommend starting with groing the system design interview or designing data inensive applications. After that, try doing mock interviews on platforms like interviewing.io where you get that realworld Google Amazinesesque type interview experience. And once you're comfortable with that, try diving into real world system walkthroughs on YouTube channels like Bite My Go. And if you want a solid free resource to help you out with all of this, check the link down below in the description. I'll have something ready for you. Well, that's about all I have in this video. I really hope that you guys enjoyed it. And if you did, make sure to hit the like button, subscribe if you haven't already. If you're interested in my free tech newsletter, link will be down below in the description. And if you're interested in what software engineers actually\\n\\nA simple project could be building a Google calendar autosync tool, an event RSVP tracker, or even a custom GPT that helps draft emails and social posts. You can use Zapier, Open AI, and Google Appcript to create something pretty quickly in like a weekend. Again, it's not about the actual code that you write, but rather the problem-solving skills since that's exactly what hiring managers want to see. And maybe through your search of solving real world problems, you might accidentally create a startup. Just make sure it's not built to help people cheat. The second way interviews are changing is by using more system design. And this is an area where AI can't really do a lot of cheating for you because it involves a lot of human reflection and conversation. For those who don't know, system design is pretty much a type of interview that is traditionally given to senior level engineers. And the questions could go something like, if you had to design the architecture of a company like\\n        Question: is the topic of dsa vs system design and project building discussed in this video? if yes then what was discussed\\n    \")"
      ]
     },
     "execution_count": 19,
     "metadata": {},
     "output_type": "execute_result"
    }
   ],
   "source": [
    "final_prompt"
   ]
  },
  {
   "cell_type": "markdown",
   "metadata": {
    "id": "MxxcV2C_DXqt"
   },
   "source": [
    "## Step 4 - Generation"
   ]
  },
  {
   "cell_type": "code",
   "execution_count": 20,
   "metadata": {},
   "outputs": [],
   "source": [
    "client = ChatOpenAI(model=\"gpt-4o-mini\", temperature=0.2)"
   ]
  },
  {
   "cell_type": "code",
   "execution_count": 21,
   "metadata": {
    "colab": {
     "base_uri": "https://localhost:8080/"
    },
    "executionInfo": {
     "elapsed": 3438,
     "status": "ok",
     "timestamp": 1745236242832,
     "user": {
      "displayName": "CampusX",
      "userId": "17274569631252575216"
     },
     "user_tz": -330
    },
    "id": "HX6vxSoUHBok",
    "outputId": "eade1e56-b8af-4b7e-c34b-08a4a1b0da00"
   },
   "outputs": [
    {
     "name": "stdout",
     "output_type": "stream",
     "text": [
      "Yes, the topic of system design and project building is discussed in this video. \n",
      "\n",
      "For system design, it is described as a type of interview traditionally given to senior level engineers, involving questions about designing the architecture of companies like Netflix or Spotify. The discussion includes considerations around cloud providers, storage, latency, availability zones, caching strategies, and how to handle traffic spikes. It emphasizes the conversational nature of these interviews, the need to defend design choices, and the possibility of curveball questions.\n",
      "\n",
      "Regarding project building, it mentions simple project ideas like a Google calendar autosync tool, an event RSVP tracker, or a custom GPT for drafting emails and social posts. It highlights the importance of problem-solving skills over the actual code written, as that is what hiring managers are looking for. It also suggests that through solving real-world problems, one might accidentally create a startup.\n"
     ]
    }
   ],
   "source": [
    "answer = client.invoke(final_prompt)\n",
    "print(answer.content)"
   ]
  },
  {
   "cell_type": "markdown",
   "metadata": {
    "id": "wH2Ph0NcDlo5"
   },
   "source": [
    "## Building a Chain (FINALLY!)"
   ]
  },
  {
   "cell_type": "code",
   "execution_count": 22,
   "metadata": {
    "executionInfo": {
     "elapsed": 340,
     "status": "ok",
     "timestamp": 1745236852212,
     "user": {
      "displayName": "CampusX",
      "userId": "17274569631252575216"
     },
     "user_tz": -330
    },
    "id": "RdTwSS3nHKRz"
   },
   "outputs": [],
   "source": [
    "from langchain_core.runnables import RunnableParallel, RunnablePassthrough, RunnableLambda\n",
    "from langchain_core.output_parsers import StrOutputParser"
   ]
  },
  {
   "cell_type": "code",
   "execution_count": 23,
   "metadata": {
    "executionInfo": {
     "elapsed": 130,
     "status": "ok",
     "timestamp": 1745236853660,
     "user": {
      "displayName": "CampusX",
      "userId": "17274569631252575216"
     },
     "user_tz": -330
    },
    "id": "VGezE1qYQJ76"
   },
   "outputs": [],
   "source": [
    "def format_docs(retrieved_docs):\n",
    "    context_text = \"\\n\\n\".join(doc.page_content for doc in retrieved_docs)\n",
    "    return context_text"
   ]
  },
  {
   "cell_type": "code",
   "execution_count": 24,
   "metadata": {
    "executionInfo": {
     "elapsed": 77,
     "status": "ok",
     "timestamp": 1745236855337,
     "user": {
      "displayName": "CampusX",
      "userId": "17274569631252575216"
     },
     "user_tz": -330
    },
    "id": "fmYnYqbWQWLi"
   },
   "outputs": [],
   "source": [
    "parallel_chain = RunnableParallel({\n",
    "    'context': retriever | RunnableLambda(format_docs),\n",
    "    'question': RunnablePassthrough()\n",
    "})"
   ]
  },
  {
   "cell_type": "code",
   "execution_count": 25,
   "metadata": {
    "colab": {
     "base_uri": "https://localhost:8080/"
    },
    "executionInfo": {
     "elapsed": 878,
     "status": "ok",
     "timestamp": 1745236869006,
     "user": {
      "displayName": "CampusX",
      "userId": "17274569631252575216"
     },
     "user_tz": -330
    },
    "id": "lGI1hEvfQvLb",
    "outputId": "093b395c-69da-44d8-dbef-b313f3752687"
   },
   "outputs": [],
   "source": [
    "# parallel_chain.invoke('why dsa is not enough?') # check - working"
   ]
  },
  {
   "cell_type": "code",
   "execution_count": 26,
   "metadata": {
    "executionInfo": {
     "elapsed": 12,
     "status": "ok",
     "timestamp": 1745237089834,
     "user": {
      "displayName": "CampusX",
      "userId": "17274569631252575216"
     },
     "user_tz": -330
    },
    "id": "e6osgdBfRCPN"
   },
   "outputs": [],
   "source": [
    "parser = StrOutputParser()"
   ]
  },
  {
   "cell_type": "code",
   "execution_count": 27,
   "metadata": {
    "executionInfo": {
     "elapsed": 37,
     "status": "ok",
     "timestamp": 1745237124641,
     "user": {
      "displayName": "CampusX",
      "userId": "17274569631252575216"
     },
     "user_tz": -330
    },
    "id": "Y3e2en89QyOC"
   },
   "outputs": [],
   "source": [
    "main_chain = parallel_chain | prompt | client | parser"
   ]
  },
  {
   "cell_type": "code",
   "execution_count": 28,
   "metadata": {
    "colab": {
     "base_uri": "https://localhost:8080/",
     "height": 122
    },
    "executionInfo": {
     "elapsed": 3395,
     "status": "ok",
     "timestamp": 1745237137046,
     "user": {
      "displayName": "CampusX",
      "userId": "17274569631252575216"
     },
     "user_tz": -330
    },
    "id": "Ur7Ph_xlRE-7",
    "outputId": "92122b01-36e9-4de4-85cb-6eb1e893a33d"
   },
   "outputs": [
    {
     "data": {
      "text/plain": [
       "\"The method of cheating for coding interviews involved using a software called Interview Coder, created by a student named Roy Lee. This software was designed to allow users to cheat in real time during technical coding interviews. It worked by sitting on top of the user's screen, where the user could feed it a screenshot of a coding problem. The software would then process this input using a large language model (LLM) to generate a solution.\\n\\nTo avoid detection, the software also had a feature that moved the user's eyes around the screen to make it appear natural, preventing the interviewer from noticing that the user was not genuinely solving the problem. Roy demonstrated the effectiveness of this tool by using it in his own interviews at companies like Amazon, Meta, and TikTok, where he received high-paying job offers.\""
      ]
     },
     "execution_count": 28,
     "metadata": {},
     "output_type": "execute_result"
    }
   ],
   "source": [
    "main_chain.invoke('Describe about the method of cheating for coding interviews.')"
   ]
  },
  {
   "cell_type": "markdown",
   "metadata": {},
   "source": [
    "## Scope of Improvements\n",
    "\n",
    "1. **UI based enhancements**\n",
    "2. **Evaluation**\n",
    "    - a. Ragas  \n",
    "    - b. LangSmith  \n",
    "3. **Indexing**\n",
    "    - a. Document Ingestion  \n",
    "    - b. Text Splitting  \n",
    "    - c. Vector Store  \n",
    "4. **Retrieval**\n",
    "    - a. *Pre-Retrieval*  \n",
    "        - i. Query rewriting using LLM  \n",
    "        - ii. Multi-query generation  \n",
    "        - iii. Domain aware routing  \n",
    "    - b. *During Retrieval*  \n",
    "        - i. MMR  \n",
    "        - ii. Hybrid Retrieval  \n",
    "        - iii. Reranking  \n",
    "    - c. *Post-Retrieval*  \n",
    "        - i. Contextual Compression  \n",
    "5. **Augmentation**\n",
    "    - a. Prompt Templating  \n",
    "    - b. Answer grounding  \n",
    "    - c. Context window optimization  \n",
    "6. **Generation**\n",
    "    - a. Answer with Citation  \n",
    "    - b. Guard railing  \n",
    "7. **System Design**\n",
    "    - a. Multimodal  \n",
    "    - b. Agentic  \n",
    "    - c. Memory based  \n"
   ]
  }
 ],
 "metadata": {
  "colab": {
   "authorship_tag": "ABX9TyPdLwZ2Mde9S84uNIB9gawv",
   "provenance": []
  },
  "kernelspec": {
   "display_name": "lang_venv",
   "language": "python",
   "name": "python3"
  },
  "language_info": {
   "codemirror_mode": {
    "name": "ipython",
    "version": 3
   },
   "file_extension": ".py",
   "mimetype": "text/x-python",
   "name": "python",
   "nbconvert_exporter": "python",
   "pygments_lexer": "ipython3",
   "version": "3.10.11"
  }
 },
 "nbformat": 4,
 "nbformat_minor": 0
}
