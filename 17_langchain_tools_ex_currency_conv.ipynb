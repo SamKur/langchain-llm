{
 "cells": [
  {
   "cell_type": "code",
   "execution_count": 1,
   "metadata": {
    "id": "TeYgi8iomFqw"
   },
   "outputs": [],
   "source": [
    "from langchain_openai import ChatOpenAI\n",
    "from langchain.tools import tool\n",
    "from langchain_core.messages import HumanMessage\n",
    "import requests"
   ]
  },
  {
   "cell_type": "code",
   "execution_count": 2,
   "metadata": {
    "id": "pb8VNyrSmB1-"
   },
   "outputs": [],
   "source": [
    "import os\n",
    "# os.environ[\"OPENAI_API_KEY\"] = \"sk-proj-myapikey\"\n",
    "# os.environ[\"EXCHANGERATE_API_KEY\"] = \"YOUR-API-KEY\"\n",
    "exapi = os.environ[\"EXCHANGERATE_API_KEY\"]"
   ]
  },
  {
   "cell_type": "code",
   "execution_count": 3,
   "metadata": {
    "id": "Um-Y_DjfmHED"
   },
   "outputs": [],
   "source": [
    "# we will hit https://www.exchangerate-api.com/docs/pair-conversion-requests api and get back result\n",
    "# then integrate result to produce real-time output from LLM\n",
    "\n",
    "# 1. fetch conversion factor (ex 84.39)\n",
    "# 2. multiply conversion factor with input dollar and return back the result\n"
   ]
  },
  {
   "cell_type": "code",
   "execution_count": 4,
   "metadata": {
    "id": "7d_r6bLFm_eb"
   },
   "outputs": [],
   "source": [
    "# tool create\n",
    "# exchange tool\n",
    "from typing import Annotated\n",
    "from langchain_core.tools import InjectedToolArg\n",
    "\n",
    "\n",
    "@tool\n",
    "def get_conversion_factor(base_currency: str, target_currency: str) -> float:\n",
    "    \"\"\"\n",
    "    This function fetches the currency conversion factor between two currencies.\n",
    "    \"\"\"\n",
    "    return requests.get(f\"https://v6.exchangerate-api.com/v6/{exapi}/pair/{base_currency}/{target_currency}\").json()[\"conversion_rate\"]\n",
    "\n",
    "\n",
    "# multiplication tool\n",
    "@tool\n",
    "# def convert(base_currency_value: float, coversion_factor: float) -> float:    # concrete but we should pass in runtime \n",
    "def convert(base_currency_value: float, conversion_factor: Annotated[float, InjectedToolArg]) -> float:\n",
    "    \"\"\"\n",
    "    From a given base currency value and conversion factor, this function returns the converted target currency value.\n",
    "    \"\"\"\n",
    "    return base_currency_value * conversion_factor"
   ]
  },
  {
   "cell_type": "code",
   "execution_count": 5,
   "metadata": {
    "id": "qTjmBjjnonUp"
   },
   "outputs": [
    {
     "data": {
      "text/plain": [
       "86.2207"
      ]
     },
     "execution_count": 5,
     "metadata": {},
     "output_type": "execute_result"
    }
   ],
   "source": [
    "# get_conversion_factor(\"USD\", \"INR\") # not work as it's not normal function anymore\n",
    "cf = get_conversion_factor.invoke({\"base_currency\": \"USD\", \"target_currency\": \"INR\"})\n",
    "cf"
   ]
  },
  {
   "cell_type": "code",
   "execution_count": 6,
   "metadata": {
    "colab": {
     "base_uri": "https://localhost:8080/"
    },
    "executionInfo": {
     "elapsed": 36,
     "status": "ok",
     "timestamp": 1745902813040,
     "user": {
      "displayName": "Susamay Kumbhakar",
      "userId": "17628977713333455389"
     },
     "user_tz": -330
    },
    "id": "h_-9WDbyopSk",
    "outputId": "b887ca65-6272-4e74-9d6e-8cc755e47699"
   },
   "outputs": [
    {
     "data": {
      "text/plain": [
       "862.2069999999999"
      ]
     },
     "execution_count": 6,
     "metadata": {},
     "output_type": "execute_result"
    }
   ],
   "source": [
    "convert.invoke({\"base_currency_value\":10, \"conversion_factor\":cf})"
   ]
  },
  {
   "cell_type": "code",
   "execution_count": 7,
   "metadata": {
    "id": "hi5Ln6Px6pnj"
   },
   "outputs": [],
   "source": [
    "# tool building\n",
    "llm = ChatOpenAI()"
   ]
  },
  {
   "cell_type": "code",
   "execution_count": 8,
   "metadata": {
    "id": "HS7-IKdG66i6"
   },
   "outputs": [],
   "source": [
    "llm_with_tools = llm.bind_tools( [get_conversion_factor,convert] ) # bind_function() -> depricated"
   ]
  },
  {
   "cell_type": "code",
   "execution_count": 9,
   "metadata": {
    "colab": {
     "base_uri": "https://localhost:8080/"
    },
    "executionInfo": {
     "elapsed": 16,
     "status": "ok",
     "timestamp": 1745903343081,
     "user": {
      "displayName": "Susamay Kumbhakar",
      "userId": "17628977713333455389"
     },
     "user_tz": -330
    },
    "id": "8b9N20lh70lh",
    "outputId": "59c20d2d-1d8e-4cde-d779-b64b0ce865f1"
   },
   "outputs": [],
   "source": [
    "messages = [HumanMessage('What is the conversion factor between INR and USD, and based on that can you convert 500 usd to inr')]\n"
   ]
  },
  {
   "cell_type": "code",
   "execution_count": 10,
   "metadata": {
    "id": "oii1BaBE8V7K"
   },
   "outputs": [
    {
     "data": {
      "text/plain": [
       "AIMessage(content='', additional_kwargs={'tool_calls': [{'id': 'call_PXsPrt1ch6ZgnrMVEFFvAT6M', 'function': {'arguments': '{\"base_currency\": \"USD\", \"target_currency\": \"INR\"}', 'name': 'get_conversion_factor'}, 'type': 'function'}, {'id': 'call_Ypd14YIcA4zdWmiqcgjhLyHu', 'function': {'arguments': '{\"base_currency_value\": 500}', 'name': 'convert'}, 'type': 'function'}], 'refusal': None}, response_metadata={'token_usage': {'completion_tokens': 52, 'prompt_tokens': 117, 'total_tokens': 169, 'completion_tokens_details': {'accepted_prediction_tokens': 0, 'audio_tokens': 0, 'reasoning_tokens': 0, 'rejected_prediction_tokens': 0}, 'prompt_tokens_details': {'audio_tokens': 0, 'cached_tokens': 0}}, 'model_name': 'gpt-3.5-turbo-0125', 'system_fingerprint': None, 'id': 'chatcmpl-BvOP8BVuKxSqozcuJPsnHVIaNhisP', 'service_tier': 'default', 'finish_reason': 'tool_calls', 'logprobs': None}, id='run--509d4b26-b025-4349-bc5d-96804513bfb5-0', tool_calls=[{'name': 'get_conversion_factor', 'args': {'base_currency': 'USD', 'target_currency': 'INR'}, 'id': 'call_PXsPrt1ch6ZgnrMVEFFvAT6M', 'type': 'tool_call'}, {'name': 'convert', 'args': {'base_currency_value': 500}, 'id': 'call_Ypd14YIcA4zdWmiqcgjhLyHu', 'type': 'tool_call'}], usage_metadata={'input_tokens': 117, 'output_tokens': 52, 'total_tokens': 169, 'input_token_details': {'audio': 0, 'cache_read': 0}, 'output_token_details': {'audio': 0, 'reasoning': 0}})"
      ]
     },
     "execution_count": 10,
     "metadata": {},
     "output_type": "execute_result"
    }
   ],
   "source": [
    "ai_msg = llm_with_tools.invoke(messages)\n",
    "ai_msg"
   ]
  },
  {
   "cell_type": "code",
   "execution_count": 11,
   "metadata": {},
   "outputs": [],
   "source": [
    "messages.append(ai_msg)"
   ]
  },
  {
   "cell_type": "code",
   "execution_count": 12,
   "metadata": {
    "id": "GsySczji8qlp"
   },
   "outputs": [
    {
     "data": {
      "text/plain": [
       "[{'name': 'get_conversion_factor',\n",
       "  'args': {'base_currency': 'USD', 'target_currency': 'INR'},\n",
       "  'id': 'call_PXsPrt1ch6ZgnrMVEFFvAT6M',\n",
       "  'type': 'tool_call'},\n",
       " {'name': 'convert',\n",
       "  'args': {'base_currency_value': 500},\n",
       "  'id': 'call_Ypd14YIcA4zdWmiqcgjhLyHu',\n",
       "  'type': 'tool_call'}]"
      ]
     },
     "execution_count": 12,
     "metadata": {},
     "output_type": "execute_result"
    }
   ],
   "source": [
    "ai_msg.tool_calls"
   ]
  },
  {
   "cell_type": "code",
   "execution_count": 13,
   "metadata": {},
   "outputs": [
    {
     "name": "stdout",
     "output_type": "stream",
     "text": [
      "{'name': 'convert', 'args': {'base_currency_value': 500, 'conversion_factor': '86.2207'}, 'id': 'call_Ypd14YIcA4zdWmiqcgjhLyHu', 'type': 'tool_call'}\n",
      "[HumanMessage(content='What is the conversion factor between INR and USD, and based on that can you convert 500 usd to inr', additional_kwargs={}, response_metadata={}), AIMessage(content='', additional_kwargs={'tool_calls': [{'id': 'call_PXsPrt1ch6ZgnrMVEFFvAT6M', 'function': {'arguments': '{\"base_currency\": \"USD\", \"target_currency\": \"INR\"}', 'name': 'get_conversion_factor'}, 'type': 'function'}, {'id': 'call_Ypd14YIcA4zdWmiqcgjhLyHu', 'function': {'arguments': '{\"base_currency_value\": 500}', 'name': 'convert'}, 'type': 'function'}], 'refusal': None}, response_metadata={'token_usage': {'completion_tokens': 52, 'prompt_tokens': 117, 'total_tokens': 169, 'completion_tokens_details': {'accepted_prediction_tokens': 0, 'audio_tokens': 0, 'reasoning_tokens': 0, 'rejected_prediction_tokens': 0}, 'prompt_tokens_details': {'audio_tokens': 0, 'cached_tokens': 0}}, 'model_name': 'gpt-3.5-turbo-0125', 'system_fingerprint': None, 'id': 'chatcmpl-BvOP8BVuKxSqozcuJPsnHVIaNhisP', 'service_tier': 'default', 'finish_reason': 'tool_calls', 'logprobs': None}, id='run--509d4b26-b025-4349-bc5d-96804513bfb5-0', tool_calls=[{'name': 'get_conversion_factor', 'args': {'base_currency': 'USD', 'target_currency': 'INR'}, 'id': 'call_PXsPrt1ch6ZgnrMVEFFvAT6M', 'type': 'tool_call'}, {'name': 'convert', 'args': {'base_currency_value': 500, 'conversion_factor': '86.2207'}, 'id': 'call_Ypd14YIcA4zdWmiqcgjhLyHu', 'type': 'tool_call'}], usage_metadata={'input_tokens': 117, 'output_tokens': 52, 'total_tokens': 169, 'input_token_details': {'audio': 0, 'cache_read': 0}, 'output_token_details': {'audio': 0, 'reasoning': 0}}), ToolMessage(content='86.2207', name='get_conversion_factor', tool_call_id='call_PXsPrt1ch6ZgnrMVEFFvAT6M'), ToolMessage(content='43110.35', name='convert', tool_call_id='call_Ypd14YIcA4zdWmiqcgjhLyHu')]\n"
     ]
    }
   ],
   "source": [
    "import json\n",
    "\n",
    "for tool_call in ai_msg.tool_calls:\n",
    "    # execute the 1st tool and get the value of conversion rate\n",
    "    if tool_call['name'] == 'get_conversion_factor':\n",
    "        tool_message1 = get_conversion_factor.invoke(tool_call)\n",
    "        # fetch this conversion rate\n",
    "        conversion_factor = tool_message1.content\n",
    "        # append this tool message to messages list\n",
    "        messages.append(tool_message1)\n",
    "    # execute the 2nd tool using the conversion rate from tool 1 # what if this is tool_calls[0] ?\n",
    "    if tool_call['name'] == 'convert':\n",
    "        # fetch the current arg\n",
    "        tool_call['args']['conversion_factor'] = conversion_factor\n",
    "        print(tool_call)\n",
    "        tool_message2 = convert.invoke(tool_call)\n",
    "        messages.append(tool_message2)\n",
    "print(messages)"
   ]
  },
  {
   "cell_type": "code",
   "execution_count": 14,
   "metadata": {},
   "outputs": [
    {
     "data": {
      "text/plain": [
       "[HumanMessage(content='What is the conversion factor between INR and USD, and based on that can you convert 500 usd to inr', additional_kwargs={}, response_metadata={}),\n",
       " AIMessage(content='', additional_kwargs={'tool_calls': [{'id': 'call_PXsPrt1ch6ZgnrMVEFFvAT6M', 'function': {'arguments': '{\"base_currency\": \"USD\", \"target_currency\": \"INR\"}', 'name': 'get_conversion_factor'}, 'type': 'function'}, {'id': 'call_Ypd14YIcA4zdWmiqcgjhLyHu', 'function': {'arguments': '{\"base_currency_value\": 500}', 'name': 'convert'}, 'type': 'function'}], 'refusal': None}, response_metadata={'token_usage': {'completion_tokens': 52, 'prompt_tokens': 117, 'total_tokens': 169, 'completion_tokens_details': {'accepted_prediction_tokens': 0, 'audio_tokens': 0, 'reasoning_tokens': 0, 'rejected_prediction_tokens': 0}, 'prompt_tokens_details': {'audio_tokens': 0, 'cached_tokens': 0}}, 'model_name': 'gpt-3.5-turbo-0125', 'system_fingerprint': None, 'id': 'chatcmpl-BvOP8BVuKxSqozcuJPsnHVIaNhisP', 'service_tier': 'default', 'finish_reason': 'tool_calls', 'logprobs': None}, id='run--509d4b26-b025-4349-bc5d-96804513bfb5-0', tool_calls=[{'name': 'get_conversion_factor', 'args': {'base_currency': 'USD', 'target_currency': 'INR'}, 'id': 'call_PXsPrt1ch6ZgnrMVEFFvAT6M', 'type': 'tool_call'}, {'name': 'convert', 'args': {'base_currency_value': 500, 'conversion_factor': '86.2207'}, 'id': 'call_Ypd14YIcA4zdWmiqcgjhLyHu', 'type': 'tool_call'}], usage_metadata={'input_tokens': 117, 'output_tokens': 52, 'total_tokens': 169, 'input_token_details': {'audio': 0, 'cache_read': 0}, 'output_token_details': {'audio': 0, 'reasoning': 0}}),\n",
       " ToolMessage(content='86.2207', name='get_conversion_factor', tool_call_id='call_PXsPrt1ch6ZgnrMVEFFvAT6M'),\n",
       " ToolMessage(content='43110.35', name='convert', tool_call_id='call_Ypd14YIcA4zdWmiqcgjhLyHu')]"
      ]
     },
     "execution_count": 14,
     "metadata": {},
     "output_type": "execute_result"
    }
   ],
   "source": [
    "messages"
   ]
  },
  {
   "cell_type": "code",
   "execution_count": 15,
   "metadata": {},
   "outputs": [
    {
     "data": {
      "text/plain": [
       "'The conversion factor between INR and USD is approximately 86.2207. \\n\\nTherefore, converting 500 USD to INR results in 43,110.35 INR.'"
      ]
     },
     "execution_count": 15,
     "metadata": {},
     "output_type": "execute_result"
    }
   ],
   "source": [
    "llm_with_tools.invoke(messages).content"
   ]
  },
  {
   "cell_type": "markdown",
   "metadata": {},
   "source": [
    "**Was above ai-agent?**\n",
    "\n",
    "ANS: Not exactly. ai-agent is fully autonomus. it can breakdown problem and solve step-by-step. no need of help in-between. \n",
    "But, here we made most of the code and decision making."
   ]
  },
  {
   "cell_type": "code",
   "execution_count": 16,
   "metadata": {},
   "outputs": [
    {
     "name": "stderr",
     "output_type": "stream",
     "text": [
      "C:\\Users\\sk\\AppData\\Local\\Temp\\ipykernel_1332\\1000534065.py:3: LangChainDeprecationWarning: LangChain agents will continue to be supported, but it is recommended for new use cases to be built with LangGraph. LangGraph offers a more flexible and full-featured framework for building agents, including support for tool-calling, persistence of state, and human-in-the-loop workflows. For details, refer to the `LangGraph documentation <https://langchain-ai.github.io/langgraph/>`_ as well as guides for `Migrating from AgentExecutor <https://python.langchain.com/docs/how_to/migrate_agent/>`_ and LangGraph's `Pre-built ReAct agent <https://langchain-ai.github.io/langgraph/how-tos/create-react-agent/>`_.\n",
      "  agent_executor = initialize_agent(\n"
     ]
    }
   ],
   "source": [
    "from langchain.agents import initialize_agent, AgentType\n",
    "\n",
    "agent_executor = initialize_agent(\n",
    "    tools=[get_conversion_factor, convert],\n",
    "    llm=llm,\n",
    "    agent=AgentType.STRUCTURED_CHAT_ZERO_SHOT_REACT_DESCRIPTION,  # (prompt) using ReAct pattern\n",
    "    verbose=True  # shows internal thinking\n",
    ")"
   ]
  },
  {
   "cell_type": "code",
   "execution_count": 17,
   "metadata": {},
   "outputs": [
    {
     "name": "stdout",
     "output_type": "stream",
     "text": [
      "\n",
      "\n",
      "\u001b[1m> Entering new AgentExecutor chain...\u001b[0m\n",
      "\u001b[32;1m\u001b[1;3mThought: This requires converting USD to INR using the currency conversion factor.\n",
      "Action:\n",
      "```{\n",
      "  \"action\": \"get_conversion_factor\",\n",
      "  \"action_input\": {\n",
      "    \"base_currency\": \"USD\",\n",
      "    \"target_currency\": \"INR\"\n",
      "  }\n",
      "}```\u001b[0m\n",
      "Observation: \u001b[36;1m\u001b[1;3m86.2207\u001b[0m\n",
      "Thought:\u001b[32;1m\u001b[1;3mAction:\n",
      "```\n",
      "{\n",
      "  \"action\": \"convert\",\n",
      "  \"action_input\": {\n",
      "    \"base_currency_value\": 10,\n",
      "    \"conversion_factor\": 86.2207\n",
      "  }\n",
      "}\n",
      "```\u001b[0m\n",
      "Observation: \u001b[33;1m\u001b[1;3m862.2069999999999\u001b[0m\n",
      "Thought:\u001b[32;1m\u001b[1;3m{\n",
      "  \"action\": \"Final Answer\",\n",
      "  \"action_input\": \"10 USD is approximately 862.21 INR\"\n",
      "}\u001b[0m\n",
      "\n",
      "\u001b[1m> Finished chain.\u001b[0m\n"
     ]
    }
   ],
   "source": [
    "user_query = \"what's 10 usd in inr?\"\n",
    "\n",
    "# run the agent\n",
    "response = agent_executor.invoke({\"input\": user_query})"
   ]
  }
 ],
 "metadata": {
  "colab": {
   "authorship_tag": "ABX9TyPNzkl1n1CRtZeJtyfFF58D",
   "provenance": []
  },
  "kernelspec": {
   "display_name": "lang_venv",
   "language": "python",
   "name": "python3"
  },
  "language_info": {
   "codemirror_mode": {
    "name": "ipython",
    "version": 3
   },
   "file_extension": ".py",
   "mimetype": "text/x-python",
   "name": "python",
   "nbconvert_exporter": "python",
   "pygments_lexer": "ipython3",
   "version": "3.10.11"
  }
 },
 "nbformat": 4,
 "nbformat_minor": 0
}
