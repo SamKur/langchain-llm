{
 "cells": [
  {
   "cell_type": "code",
   "execution_count": 1,
   "metadata": {
    "executionInfo": {
     "elapsed": 32,
     "status": "ok",
     "timestamp": 1745823756543,
     "user": {
      "displayName": "Susamay Kumbhakar",
      "userId": "17628977713333455389"
     },
     "user_tz": -330
    },
    "id": "HJ94BjlzNDru"
   },
   "outputs": [
    {
     "data": {
      "text/plain": [
       "True"
      ]
     },
     "execution_count": 1,
     "metadata": {},
     "output_type": "execute_result"
    }
   ],
   "source": [
    "from dotenv import load_dotenv\n",
    "load_dotenv()"
   ]
  },
  {
   "cell_type": "markdown",
   "metadata": {},
   "source": [
    "### Built-in Tools\n",
    "[Tools List](https://python.langchain.com/docs/integrations/tools)"
   ]
  },
  {
   "cell_type": "code",
   "execution_count": 2,
   "metadata": {},
   "outputs": [
    {
     "name": "stderr",
     "output_type": "stream",
     "text": [
      "d:\\Documents\\NewCodePractice\\Langchain-CX\\lang_venv\\lib\\site-packages\\langchain_community\\utilities\\duckduckgo_search.py:63: RuntimeWarning: This package (`duckduckgo_search`) has been renamed to `ddgs`! Use `pip install ddgs` instead.\n",
      "  with DDGS() as ddgs:\n"
     ]
    },
    {
     "name": "stdout",
     "output_type": "stream",
     "text": [
      "2 days ago · Today's top India news headlines, news on Indian politics, elections, government, business, technology, and Bollywood. 2 days ago · Read all India news and breaking news today from India on politics, business, entertainment, technology, sports, lifestyle and more at CNBC TV18. Jul 13, 2025 · Stay informed with breaking news and latest news on politics, business, entertainment sports, science, technology along with news updates from around the world. 1 day ago · Get Top News of the day with latest top news headlines of today. Get updated with current top news stories from India and the world only on Zee News. 2 days ago · India opener Pratika Rawal was deemed to have breached ICC Code of Conduct after two separate incidents of physical contact with England players during the first ODI in …\n"
     ]
    }
   ],
   "source": [
    "from langchain_community.tools import DuckDuckGoSearchRun\n",
    "\n",
    "search_tool = DuckDuckGoSearchRun()\n",
    "\n",
    "result = search_tool.invoke('top news in india today')\n",
    "\n",
    "print(result) # full str"
   ]
  },
  {
   "cell_type": "code",
   "execution_count": 5,
   "metadata": {},
   "outputs": [
    {
     "name": "stdout",
     "output_type": "stream",
     "text": [
      "Executing command:\n",
      " whoami\n",
      "winmachine\\sk\n",
      "\n"
     ]
    },
    {
     "name": "stderr",
     "output_type": "stream",
     "text": [
      "d:\\Documents\\NewCodePractice\\Langchain-CX\\lang_venv\\lib\\site-packages\\langchain_community\\tools\\shell\\tool.py:33: UserWarning: The shell tool has no safeguards by default. Use at your own risk.\n",
      "  warnings.warn(\n"
     ]
    }
   ],
   "source": [
    "from langchain_community.tools import ShellTool # lc-exp\n",
    "\n",
    "terminal_tool = ShellTool()\n",
    "\n",
    "result = terminal_tool.invoke('whoami')\n",
    "\n",
    "print(result) # run in windows cmd"
   ]
  },
  {
   "cell_type": "code",
   "execution_count": 7,
   "metadata": {},
   "outputs": [],
   "source": [
    "search_tool.metadata"
   ]
  },
  {
   "cell_type": "markdown",
   "metadata": {
    "id": "frQZHIlfNqZt"
   },
   "source": [
    "### Custom Tools - Create a tool"
   ]
  },
  {
   "cell_type": "markdown",
   "metadata": {},
   "source": [
    "#### 1. using @tool decorator (EASIEST)"
   ]
  },
  {
   "cell_type": "code",
   "execution_count": 9,
   "metadata": {
    "executionInfo": {
     "elapsed": 3537,
     "status": "ok",
     "timestamp": 1745824021263,
     "user": {
      "displayName": "Susamay Kumbhakar",
      "userId": "17628977713333455389"
     },
     "user_tz": -330
    },
    "id": "Qm16K97jN3_x"
   },
   "outputs": [],
   "source": [
    "from langchain_openai import ChatOpenAI\n",
    "from langchain.tools import tool, Tool\n",
    "from langchain_core.messages import HumanMessage"
   ]
  },
  {
   "cell_type": "code",
   "execution_count": null,
   "metadata": {
    "executionInfo": {
     "elapsed": 45,
     "status": "ok",
     "timestamp": 1745824156460,
     "user": {
      "displayName": "Susamay Kumbhakar",
      "userId": "17628977713333455389"
     },
     "user_tz": -330
    },
    "id": "ijY4Z5xFNnNV"
   },
   "outputs": [],
   "source": [
    "# create function with typehints and docstring, add @tool decorator\n",
    "\n",
    "@tool\n",
    "def multiply(a: int, b: int) -> int:\n",
    "    \"\"\"\n",
    "    For any two given number this tool returns their mathematical multiplication\n",
    "    \"\"\"\n",
    "    return a*b"
   ]
  },
  {
   "cell_type": "code",
   "execution_count": 11,
   "metadata": {
    "colab": {
     "base_uri": "https://localhost:8080/",
     "height": 35
    },
    "executionInfo": {
     "elapsed": 12,
     "status": "ok",
     "timestamp": 1745824365993,
     "user": {
      "displayName": "Susamay Kumbhakar",
      "userId": "17628977713333455389"
     },
     "user_tz": -330
    },
    "id": "7rde8xeaPY--",
    "outputId": "a2ccac14-5874-4edd-ef8d-7f71311c3709"
   },
   "outputs": [
    {
     "data": {
      "text/plain": [
       "'multiply'"
      ]
     },
     "execution_count": 11,
     "metadata": {},
     "output_type": "execute_result"
    }
   ],
   "source": [
    "multiply.name"
   ]
  },
  {
   "cell_type": "code",
   "execution_count": 7,
   "metadata": {
    "colab": {
     "base_uri": "https://localhost:8080/",
     "height": 35
    },
    "executionInfo": {
     "elapsed": 11,
     "status": "ok",
     "timestamp": 1745824173843,
     "user": {
      "displayName": "Susamay Kumbhakar",
      "userId": "17628977713333455389"
     },
     "user_tz": -330
    },
    "id": "nmMHV9UwOolt",
    "outputId": "398ed7a5-1155-4b80-e810-96fff05221d7"
   },
   "outputs": [
    {
     "data": {
      "text/plain": [
       "'For any two given number this tool returns their mathematical multiplication'"
      ]
     },
     "execution_count": 7,
     "metadata": {},
     "output_type": "execute_result"
    }
   ],
   "source": [
    "multiply.description"
   ]
  },
  {
   "cell_type": "code",
   "execution_count": 8,
   "metadata": {
    "colab": {
     "base_uri": "https://localhost:8080/"
    },
    "executionInfo": {
     "elapsed": 53,
     "status": "ok",
     "timestamp": 1745824191850,
     "user": {
      "displayName": "Susamay Kumbhakar",
      "userId": "17628977713333455389"
     },
     "user_tz": -330
    },
    "id": "Lm4pAEjoOs2X",
    "outputId": "021e558b-3e4a-4f85-da3a-922de7922f2d"
   },
   "outputs": [
    {
     "data": {
      "text/plain": [
       "{'a': {'title': 'A', 'type': 'integer'},\n",
       " 'b': {'title': 'B', 'type': 'integer'}}"
      ]
     },
     "execution_count": 8,
     "metadata": {},
     "output_type": "execute_result"
    }
   ],
   "source": [
    "multiply.args"
   ]
  },
  {
   "cell_type": "code",
   "execution_count": 9,
   "metadata": {
    "colab": {
     "base_uri": "https://localhost:8080/",
     "height": 121
    },
    "executionInfo": {
     "elapsed": 54,
     "status": "ok",
     "timestamp": 1745824409075,
     "user": {
      "displayName": "Susamay Kumbhakar",
      "userId": "17628977713333455389"
     },
     "user_tz": -330
    },
    "id": "2C3uZiylPczK",
    "outputId": "a47e5b30-50ab-4fda-9088-06d5b267d45a"
   },
   "outputs": [
    {
     "data": {
      "text/plain": [
       "{'description': 'For any two given number this tool returns their mathematical multiplication',\n",
       " 'properties': {'a': {'title': 'A', 'type': 'integer'},\n",
       "  'b': {'title': 'B', 'type': 'integer'}},\n",
       " 'required': ['a', 'b'],\n",
       " 'title': 'multiply',\n",
       " 'type': 'object'}"
      ]
     },
     "execution_count": 9,
     "metadata": {},
     "output_type": "execute_result"
    }
   ],
   "source": [
    "multiply.args_schema.model_json_schema() # LLMs see this schema, Pydantic v2 style\n",
    "# print(multiply.args_schema.schema())    # depricated"
   ]
  },
  {
   "cell_type": "code",
   "execution_count": null,
   "metadata": {
    "colab": {
     "base_uri": "https://localhost:8080/"
    },
    "executionInfo": {
     "elapsed": 12,
     "status": "ok",
     "timestamp": 1745824237409,
     "user": {
      "displayName": "Susamay Kumbhakar",
      "userId": "17628977713333455389"
     },
     "user_tz": -330
    },
    "id": "07bm0W0AOxO_",
    "outputId": "fe2a7280-cfb3-47f9-c18b-f1999c3eceb3"
   },
   "outputs": [
    {
     "data": {
      "text/plain": [
       "6"
      ]
     },
     "execution_count": 10,
     "metadata": {},
     "output_type": "execute_result"
    }
   ],
   "source": [
    "# multiply(2,3) # not a simple function anymore, so will throw error\n",
    "# multiply.run(2, 3) # may not run\n",
    "# multiply.run({\"a\": 2, \"b\": 3}) # OR, as runnable, recommended ->\n",
    "multiply.invoke({\"a\": 2, \"b\": 3})"
   ]
  },
  {
   "cell_type": "markdown",
   "metadata": {},
   "source": [
    "#### 2. using StructuredTool and Pydantic (stricter)\n"
   ]
  },
  {
   "cell_type": "code",
   "execution_count": 11,
   "metadata": {},
   "outputs": [],
   "source": [
    "from langchain.tools import StructuredTool\n",
    "from pydantic import BaseModel, Field"
   ]
  },
  {
   "cell_type": "code",
   "execution_count": null,
   "metadata": {},
   "outputs": [],
   "source": [
    "class MultiplyInput(BaseModel):\n",
    "    a : int = Field(..., description=\"the first number to multiply\")    # ... means required\n",
    "    b : int = Field(..., description=\"the second number to multiply\")\n",
    "\n",
    "# print(MultiplyInput.model_json_schema())"
   ]
  },
  {
   "cell_type": "code",
   "execution_count": 13,
   "metadata": {},
   "outputs": [],
   "source": [
    "def multiply_func(a:int, b:int) -> int:\n",
    "    return a*b"
   ]
  },
  {
   "cell_type": "code",
   "execution_count": 14,
   "metadata": {},
   "outputs": [],
   "source": [
    "multiply_tool = StructuredTool.from_function(\n",
    "    func = multiply_func,\n",
    "    name = \"multiply\",                      # default - func name\n",
    "    description = \"multiply two numbers\",   # default - func docstring\n",
    "    args_schema=MultiplyInput               # pydantic class\n",
    ")"
   ]
  },
  {
   "cell_type": "code",
   "execution_count": 15,
   "metadata": {},
   "outputs": [
    {
     "name": "stdout",
     "output_type": "stream",
     "text": [
      "multiply\n",
      "multiply two numbers\n"
     ]
    }
   ],
   "source": [
    "print(multiply_tool.name)\n",
    "print(multiply_tool.description)"
   ]
  },
  {
   "cell_type": "code",
   "execution_count": 16,
   "metadata": {},
   "outputs": [
    {
     "name": "stdout",
     "output_type": "stream",
     "text": [
      "18\n"
     ]
    }
   ],
   "source": [
    "result = multiply_tool.invoke({'a':3, 'b':6})\n",
    "print(result)"
   ]
  },
  {
   "cell_type": "code",
   "execution_count": 17,
   "metadata": {},
   "outputs": [
    {
     "name": "stdout",
     "output_type": "stream",
     "text": [
      "{'name': 'multiply', 'description': 'multiply two numbers', 'parameters': {'properties': {'a': {'description': 'the first number to multiply', 'type': 'integer'}, 'b': {'description': 'the second number to multiply', 'type': 'integer'}}, 'required': ['a', 'b'], 'type': 'object'}}\n"
     ]
    },
    {
     "name": "stderr",
     "output_type": "stream",
     "text": [
      "C:\\Users\\sk\\AppData\\Local\\Temp\\ipykernel_13788\\2803519040.py:3: LangChainDeprecationWarning: The function `_format_tool_to_openai_function` was deprecated in LangChain 0.1.16 and will be removed in 1.0. Use :meth:`~langchain_core.utils.function_calling.convert_to_openai_function()` instead.\n",
      "  tool_schema = format_tool_to_openai_function(multiply_tool)\n"
     ]
    }
   ],
   "source": [
    "from langchain.tools.render import format_tool_to_openai_function\n",
    "\n",
    "tool_schema = format_tool_to_openai_function(multiply_tool)\n",
    "print(tool_schema)"
   ]
  },
  {
   "cell_type": "markdown",
   "metadata": {},
   "source": [
    "#### 3. using BaseTool class (FLEXIBLE)\n",
    "(abstract base class for all tools)"
   ]
  },
  {
   "cell_type": "code",
   "execution_count": 18,
   "metadata": {},
   "outputs": [],
   "source": [
    "from langchain.tools import BaseTool\n",
    "from typing import Type"
   ]
  },
  {
   "cell_type": "code",
   "execution_count": 19,
   "metadata": {},
   "outputs": [],
   "source": [
    "class MultiplyInput(BaseModel):\n",
    "    a : int = Field(..., description=\"the first number to multiply\")\n",
    "    b : int = Field(..., description=\"the second number to multiply\")\n",
    "\n",
    "# print(MultiplyInput.model_json_schema())"
   ]
  },
  {
   "cell_type": "code",
   "execution_count": 20,
   "metadata": {},
   "outputs": [],
   "source": [
    "class MultiplyTool(BaseTool):\n",
    "    name: str = \"multiply\",                      # default - func name\n",
    "    description: str = \"multiply two numbers\",   # default - func docstring\n",
    "    args_schema: Type[BaseModel] = MultiplyInput # pydantic class\n",
    "\n",
    "    def _run(self, a: int, b:int) -> int:        # only way to implement async -> def _arun\n",
    "        return a*b"
   ]
  },
  {
   "cell_type": "markdown",
   "metadata": {},
   "source": [
    "### Create toolkit (collection of tools)"
   ]
  },
  {
   "cell_type": "code",
   "execution_count": 21,
   "metadata": {},
   "outputs": [],
   "source": [
    "from langchain_core.tools import tool\n",
    "\n",
    "# custom tools\n",
    "@tool\n",
    "def add(a:int, b:int) -> int:\n",
    "    \"\"\"Add two numbers\"\"\"\n",
    "    return a+b\n",
    "\n",
    "@tool\n",
    "def multiply(a:int, b:int) -> int:\n",
    "    \"\"\"Multiply two numbers\"\"\"\n",
    "    return a*b"
   ]
  },
  {
   "cell_type": "code",
   "execution_count": null,
   "metadata": {},
   "outputs": [
    {
     "name": "stdout",
     "output_type": "stream",
     "text": [
      "add => Add two numbers\n",
      "multiply => Multiply two numbers\n"
     ]
    }
   ],
   "source": [
    "class MathToolKit:\n",
    "    def get_tools(self): # lc internally calls this\n",
    "        return [add,multiply]\n",
    "    \n",
    "toolkit = MathToolKit()\n",
    "tools = toolkit.get_tools() # [StructuredTool(name='add', ), ...]\n",
    "\n",
    "for tool in tools:\n",
    "    print(tool.name,'=>', tool.description)"
   ]
  },
  {
   "cell_type": "markdown",
   "metadata": {
    "id": "XpB62YI7QNcs"
   },
   "source": [
    "### Binding tool (function) with LLM"
   ]
  },
  {
   "cell_type": "code",
   "execution_count": 23,
   "metadata": {
    "colab": {
     "base_uri": "https://localhost:8080/"
    },
    "executionInfo": {
     "elapsed": 944,
     "status": "ok",
     "timestamp": 1745824518468,
     "user": {
      "displayName": "Susamay Kumbhakar",
      "userId": "17628977713333455389"
     },
     "user_tz": -330
    },
    "id": "mpzx9GniO_7p",
    "outputId": "62319185-e8ec-45c6-f9bc-1eb74cdfcce3"
   },
   "outputs": [
    {
     "data": {
      "text/plain": [
       "ChatOpenAI(name='gpt-4o-nano', client=<openai.resources.chat.completions.completions.Completions object at 0x0000025B23E1C670>, async_client=<openai.resources.chat.completions.completions.AsyncCompletions object at 0x0000025B252F1030>, root_client=<openai.OpenAI object at 0x0000025B23E1E260>, root_async_client=<openai.AsyncOpenAI object at 0x0000025B252F0FA0>, model_kwargs={}, openai_api_key=SecretStr('**********'))"
      ]
     },
     "execution_count": 23,
     "metadata": {},
     "output_type": "execute_result"
    }
   ],
   "source": [
    "llm = ChatOpenAI(name='gpt-4o-nano')\n",
    "llm"
   ]
  },
  {
   "cell_type": "code",
   "execution_count": null,
   "metadata": {
    "colab": {
     "base_uri": "https://localhost:8080/"
    },
    "executionInfo": {
     "elapsed": 45,
     "status": "ok",
     "timestamp": 1745827704847,
     "user": {
      "displayName": "Susamay Kumbhakar",
      "userId": "17628977713333455389"
     },
     "user_tz": -330
    },
    "id": "NuaEyylIQAwX",
    "outputId": "60bc7b57-3861-40d4-b8b1-21d78a55aaef"
   },
   "outputs": [
    {
     "data": {
      "text/plain": [
       "RunnableBinding(bound=ChatOpenAI(name='gpt-4o-nano', client=<openai.resources.chat.completions.completions.Completions object at 0x0000025B23E1C670>, async_client=<openai.resources.chat.completions.completions.AsyncCompletions object at 0x0000025B252F1030>, root_client=<openai.OpenAI object at 0x0000025B23E1E260>, root_async_client=<openai.AsyncOpenAI object at 0x0000025B252F0FA0>, model_kwargs={}, openai_api_key=SecretStr('**********')), kwargs={'tools': [{'type': 'function', 'function': {'name': 'multiply', 'description': 'Multiply two numbers', 'parameters': {'properties': {'a': {'type': 'integer'}, 'b': {'type': 'integer'}}, 'required': ['a', 'b'], 'type': 'object'}}}]}, config={}, config_factories=[])"
      ]
     },
     "execution_count": 24,
     "metadata": {},
     "output_type": "execute_result"
    }
   ],
   "source": [
    "llm_with_tools = llm.bind_tools([multiply]) # OR, tools\n",
    "llm_with_tools\n",
    "# here LLM is suggested to use this tool and process input and then generate output\n",
    "# LLM doesnt run the tool, tool execution is handled by langchain or human"
   ]
  },
  {
   "cell_type": "code",
   "execution_count": 25,
   "metadata": {
    "id": "cpxzUNytQrA3"
   },
   "outputs": [
    {
     "data": {
      "text/plain": [
       "AIMessage(content=\"Hello! I'm here and ready to help. What can I assist you with today?\", additional_kwargs={'refusal': None}, response_metadata={'token_usage': {'completion_tokens': 19, 'prompt_tokens': 51, 'total_tokens': 70, 'completion_tokens_details': {'accepted_prediction_tokens': 0, 'audio_tokens': 0, 'reasoning_tokens': 0, 'rejected_prediction_tokens': 0}, 'prompt_tokens_details': {'audio_tokens': 0, 'cached_tokens': 0}}, 'model_name': 'gpt-3.5-turbo-0125', 'system_fingerprint': None, 'id': 'chatcmpl-BtyHY97qqefaEdd7xUcgdAfayErmZ', 'service_tier': 'default', 'finish_reason': 'stop', 'logprobs': None}, id='run--4e31ceb8-4da1-4070-ba23-5cc18ab2baf4-0', usage_metadata={'input_tokens': 51, 'output_tokens': 19, 'total_tokens': 70, 'input_token_details': {'audio': 0, 'cache_read': 0}, 'output_token_details': {'audio': 0, 'reasoning': 0}})"
      ]
     },
     "execution_count": 25,
     "metadata": {},
     "output_type": "execute_result"
    }
   ],
   "source": [
    "# invoke(call) the tool\n",
    "llm_with_tools.invoke('Hi, how are you?') # for this query llm will not need the tool, so wont suggest the tool"
   ]
  },
  {
   "cell_type": "code",
   "execution_count": 26,
   "metadata": {
    "id": "NE7ll_2FeH0M"
   },
   "outputs": [
    {
     "data": {
      "text/plain": [
       "AIMessage(content='', additional_kwargs={'tool_calls': [{'id': 'call_avxYexKemVaJ7bXzgAzjTpch', 'function': {'arguments': '{\"a\": 11, \"b\": 10}', 'name': 'multiply'}, 'type': 'function'}, {'id': 'call_kH6nYOdS0roMkGMUf7AMbUI3', 'function': {'arguments': '{\"a\": 10, \"b\": 11}', 'name': 'multiply'}, 'type': 'function'}], 'refusal': None}, response_metadata={'token_usage': {'completion_tokens': 49, 'prompt_tokens': 56, 'total_tokens': 105, 'completion_tokens_details': {'accepted_prediction_tokens': 0, 'audio_tokens': 0, 'reasoning_tokens': 0, 'rejected_prediction_tokens': 0}, 'prompt_tokens_details': {'audio_tokens': 0, 'cached_tokens': 0}}, 'model_name': 'gpt-3.5-turbo-0125', 'system_fingerprint': None, 'id': 'chatcmpl-BtyHZe3cetfin6HeWP6zVSRoTMRbx', 'service_tier': 'default', 'finish_reason': 'tool_calls', 'logprobs': None}, id='run--33ec4dae-687a-4666-931a-3d3f9a256e69-0', tool_calls=[{'name': 'multiply', 'args': {'a': 11, 'b': 10}, 'id': 'call_avxYexKemVaJ7bXzgAzjTpch', 'type': 'tool_call'}, {'name': 'multiply', 'args': {'a': 10, 'b': 11}, 'id': 'call_kH6nYOdS0roMkGMUf7AMbUI3', 'type': 'tool_call'}], usage_metadata={'input_tokens': 56, 'output_tokens': 49, 'total_tokens': 105, 'input_token_details': {'audio': 0, 'cache_read': 0}, 'output_token_details': {'audio': 0, 'reasoning': 0}})"
      ]
     },
     "execution_count": 26,
     "metadata": {},
     "output_type": "execute_result"
    }
   ],
   "source": [
    "result = llm_with_tools.invoke('can you give me the product of 11 with ten') # will suggest\n",
    "result\n",
    "# content is empty but in tool_calls variable it will list all related tools"
   ]
  },
  {
   "cell_type": "code",
   "execution_count": 27,
   "metadata": {
    "id": "BxBhiUbrei-S"
   },
   "outputs": [
    {
     "data": {
      "text/plain": [
       "{'name': 'multiply',\n",
       " 'args': {'a': 11, 'b': 10},\n",
       " 'id': 'call_WFV5tzknC91kQnRjVHXKUHEy',\n",
       " 'type': 'tool_call'}"
      ]
     },
     "execution_count": 27,
     "metadata": {},
     "output_type": "execute_result"
    }
   ],
   "source": [
    "llm_with_tools.invoke('can you multiply 11 with ten').tool_calls[0] # keys - name, args, id, type"
   ]
  },
  {
   "cell_type": "markdown",
   "metadata": {
    "id": "6ll7_swEkjQq"
   },
   "source": [
    "### finally, tools execution"
   ]
  },
  {
   "cell_type": "code",
   "execution_count": 28,
   "metadata": {
    "id": "MEPyn8jVeuOy"
   },
   "outputs": [
    {
     "data": {
      "text/plain": [
       "ToolMessage(content='110', name='multiply', tool_call_id='call_avxYexKemVaJ7bXzgAzjTpch')"
      ]
     },
     "execution_count": 28,
     "metadata": {},
     "output_type": "execute_result"
    }
   ],
   "source": [
    "# multiply.invoke(result.tool_calls[0].args) # only give op\n",
    "multiply.invoke(result.tool_calls[0]) # will give full op wrapped with ToolMessage"
   ]
  },
  {
   "cell_type": "code",
   "execution_count": null,
   "metadata": {
    "id": "8l4ltHGQiS8w"
   },
   "outputs": [
    {
     "data": {
      "text/plain": [
       "[HumanMessage(content='can you multiply 11 with ten', additional_kwargs={}, response_metadata={})]"
      ]
     },
     "execution_count": 29,
     "metadata": {},
     "output_type": "execute_result"
    }
   ],
   "source": [
    "# finalize all at once\n",
    "query = HumanMessage(\"can you multiply 11 with ten\")\n",
    "msg = [query]\n",
    "msg"
   ]
  },
  {
   "cell_type": "code",
   "execution_count": 30,
   "metadata": {
    "id": "Lj0t8imZj56I"
   },
   "outputs": [
    {
     "data": {
      "text/plain": [
       "AIMessage(content='', additional_kwargs={'tool_calls': [{'id': 'call_Snp0ku8JWIdD1VyeDPWgYVOu', 'function': {'arguments': '{\"a\": 11, \"b\": 10}', 'name': 'multiply'}, 'type': 'function'}], 'refusal': None}, response_metadata={'token_usage': {'completion_tokens': 32, 'prompt_tokens': 52, 'total_tokens': 84, 'completion_tokens_details': {'accepted_prediction_tokens': 0, 'audio_tokens': 0, 'reasoning_tokens': 0, 'rejected_prediction_tokens': 0}, 'prompt_tokens_details': {'audio_tokens': 0, 'cached_tokens': 0}}, 'model_name': 'gpt-3.5-turbo-0125', 'system_fingerprint': None, 'id': 'chatcmpl-BtyHbkjSJLy1XXTSQV7xC70OxydXQ', 'service_tier': 'default', 'finish_reason': 'tool_calls', 'logprobs': None}, id='run--901a2903-9fec-4010-b684-f3555d1be27e-0', tool_calls=[{'name': 'multiply', 'args': {'a': 11, 'b': 10}, 'id': 'call_Snp0ku8JWIdD1VyeDPWgYVOu', 'type': 'tool_call'}], usage_metadata={'input_tokens': 52, 'output_tokens': 32, 'total_tokens': 84, 'input_token_details': {'audio': 0, 'cache_read': 0}, 'output_token_details': {'audio': 0, 'reasoning': 0}})"
      ]
     },
     "execution_count": 30,
     "metadata": {},
     "output_type": "execute_result"
    }
   ],
   "source": [
    "result = llm_with_tools.invoke(msg)\n",
    "result"
   ]
  },
  {
   "cell_type": "code",
   "execution_count": 31,
   "metadata": {
    "id": "xrbqDSWJj0TN"
   },
   "outputs": [
    {
     "data": {
      "text/plain": [
       "[HumanMessage(content='can you multiply 11 with ten', additional_kwargs={}, response_metadata={}),\n",
       " AIMessage(content='', additional_kwargs={'tool_calls': [{'id': 'call_Snp0ku8JWIdD1VyeDPWgYVOu', 'function': {'arguments': '{\"a\": 11, \"b\": 10}', 'name': 'multiply'}, 'type': 'function'}], 'refusal': None}, response_metadata={'token_usage': {'completion_tokens': 32, 'prompt_tokens': 52, 'total_tokens': 84, 'completion_tokens_details': {'accepted_prediction_tokens': 0, 'audio_tokens': 0, 'reasoning_tokens': 0, 'rejected_prediction_tokens': 0}, 'prompt_tokens_details': {'audio_tokens': 0, 'cached_tokens': 0}}, 'model_name': 'gpt-3.5-turbo-0125', 'system_fingerprint': None, 'id': 'chatcmpl-BtyHbkjSJLy1XXTSQV7xC70OxydXQ', 'service_tier': 'default', 'finish_reason': 'tool_calls', 'logprobs': None}, id='run--901a2903-9fec-4010-b684-f3555d1be27e-0', tool_calls=[{'name': 'multiply', 'args': {'a': 11, 'b': 10}, 'id': 'call_Snp0ku8JWIdD1VyeDPWgYVOu', 'type': 'tool_call'}], usage_metadata={'input_tokens': 52, 'output_tokens': 32, 'total_tokens': 84, 'input_token_details': {'audio': 0, 'cache_read': 0}, 'output_token_details': {'audio': 0, 'reasoning': 0}})]"
      ]
     },
     "execution_count": 31,
     "metadata": {},
     "output_type": "execute_result"
    }
   ],
   "source": [
    "msg.append(result)\n",
    "msg"
   ]
  },
  {
   "cell_type": "code",
   "execution_count": 32,
   "metadata": {
    "id": "EgQWllIUk4MB"
   },
   "outputs": [
    {
     "data": {
      "text/plain": [
       "ToolMessage(content='110', name='multiply', tool_call_id='call_Snp0ku8JWIdD1VyeDPWgYVOu')"
      ]
     },
     "execution_count": 32,
     "metadata": {},
     "output_type": "execute_result"
    }
   ],
   "source": [
    "tool_result = multiply.invoke(result.tool_calls[0])\n",
    "tool_result"
   ]
  },
  {
   "cell_type": "code",
   "execution_count": 33,
   "metadata": {
    "id": "B5xfAL3ZlJ2m"
   },
   "outputs": [
    {
     "data": {
      "text/plain": [
       "[HumanMessage(content='can you multiply 11 with ten', additional_kwargs={}, response_metadata={}),\n",
       " AIMessage(content='', additional_kwargs={'tool_calls': [{'id': 'call_Snp0ku8JWIdD1VyeDPWgYVOu', 'function': {'arguments': '{\"a\": 11, \"b\": 10}', 'name': 'multiply'}, 'type': 'function'}], 'refusal': None}, response_metadata={'token_usage': {'completion_tokens': 32, 'prompt_tokens': 52, 'total_tokens': 84, 'completion_tokens_details': {'accepted_prediction_tokens': 0, 'audio_tokens': 0, 'reasoning_tokens': 0, 'rejected_prediction_tokens': 0}, 'prompt_tokens_details': {'audio_tokens': 0, 'cached_tokens': 0}}, 'model_name': 'gpt-3.5-turbo-0125', 'system_fingerprint': None, 'id': 'chatcmpl-BtyHbkjSJLy1XXTSQV7xC70OxydXQ', 'service_tier': 'default', 'finish_reason': 'tool_calls', 'logprobs': None}, id='run--901a2903-9fec-4010-b684-f3555d1be27e-0', tool_calls=[{'name': 'multiply', 'args': {'a': 11, 'b': 10}, 'id': 'call_Snp0ku8JWIdD1VyeDPWgYVOu', 'type': 'tool_call'}], usage_metadata={'input_tokens': 52, 'output_tokens': 32, 'total_tokens': 84, 'input_token_details': {'audio': 0, 'cache_read': 0}, 'output_token_details': {'audio': 0, 'reasoning': 0}}),\n",
       " ToolMessage(content='110', name='multiply', tool_call_id='call_Snp0ku8JWIdD1VyeDPWgYVOu')]"
      ]
     },
     "execution_count": 33,
     "metadata": {},
     "output_type": "execute_result"
    }
   ],
   "source": [
    "msg.append(tool_result)\n",
    "msg"
   ]
  },
  {
   "cell_type": "code",
   "execution_count": 34,
   "metadata": {
    "id": "9tDKBws0lLrW"
   },
   "outputs": [
    {
     "data": {
      "text/plain": [
       "AIMessage(content='The result of multiplying 11 with 10 is 110.', additional_kwargs={'refusal': None}, response_metadata={'token_usage': {'completion_tokens': 14, 'prompt_tokens': 77, 'total_tokens': 91, 'completion_tokens_details': {'accepted_prediction_tokens': 0, 'audio_tokens': 0, 'reasoning_tokens': 0, 'rejected_prediction_tokens': 0}, 'prompt_tokens_details': {'audio_tokens': 0, 'cached_tokens': 0}}, 'model_name': 'gpt-3.5-turbo-0125', 'system_fingerprint': None, 'id': 'chatcmpl-BtyHczu7fR9GIYI59NxZRODZsV3DJ', 'service_tier': 'default', 'finish_reason': 'stop', 'logprobs': None}, id='run--07a366f3-60d9-4dad-9570-5c4a9b906f30-0', usage_metadata={'input_tokens': 77, 'output_tokens': 14, 'total_tokens': 91, 'input_token_details': {'audio': 0, 'cache_read': 0}, 'output_token_details': {'audio': 0, 'reasoning': 0}})"
      ]
     },
     "execution_count": 34,
     "metadata": {},
     "output_type": "execute_result"
    }
   ],
   "source": [
    "# sending the full content\n",
    "llm_with_tools.invoke(msg) #.content"
   ]
  }
 ],
 "metadata": {
  "colab": {
   "authorship_tag": "ABX9TyPtDmWm73udgE7CKKYUn0vG",
   "provenance": []
  },
  "kernelspec": {
   "display_name": "lang_venv",
   "language": "python",
   "name": "python3"
  },
  "language_info": {
   "codemirror_mode": {
    "name": "ipython",
    "version": 3
   },
   "file_extension": ".py",
   "mimetype": "text/x-python",
   "name": "python",
   "nbconvert_exporter": "python",
   "pygments_lexer": "ipython3",
   "version": "3.10.11"
  }
 },
 "nbformat": 4,
 "nbformat_minor": 0
}
